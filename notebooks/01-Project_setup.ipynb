{
 "cells": [
  {
   "cell_type": "code",
   "execution_count": 17,
   "metadata": {
    "scrolled": true
   },
   "outputs": [],
   "source": [
    "import sys\n",
    "sys.path.append('../src')\n",
    "from project_utilities.config import DATA_DIR_RAW\n",
    "\n",
    "import numpy as np\n",
    "import os\n",
    "import shutil\n",
    "import random\n",
    "import glob\n",
    "import zipfile as zf\n",
    "import requests as rq\n",
    "from tqdm import tqdm, tqdm_notebook\n",
    "\n",
    "# Don't show those pesky 'future warnings'\n",
    "import warnings"
   ]
  },
  {
   "cell_type": "code",
   "execution_count": 10,
   "metadata": {},
   "outputs": [],
   "source": [
    "DOWNLOAD_URL = 'https://md-datasets-cache-zipfiles-prod.s3.eu-west-1.amazonaws.com/rscbjbr9sj-3.zip'\n",
    "ZIP_PATH = 'raw/chest_xrays.zip'"
   ]
  },
  {
   "cell_type": "code",
   "execution_count": 8,
   "metadata": {},
   "outputs": [],
   "source": [
    "os.mkdir(DATA_DIR_RAW / 'raw')"
   ]
  },
  {
   "cell_type": "code",
   "execution_count": 11,
   "metadata": {},
   "outputs": [],
   "source": [
    "r = rq.get(DOWNLOAD_URL, stream=True)\n",
    "with open(DATA_DIR_RAW / ZIP_PATH, 'wb') as c_ray:\n",
    "    for chunk in r.iter_content(chunk_size=1024):\n",
    "        if chunk:\n",
    "            c_ray.write(chunk)"
   ]
  },
  {
   "cell_type": "code",
   "execution_count": 65,
   "metadata": {},
   "outputs": [],
   "source": [
    "def extract_to(zip_file, member, dest_dir):\n",
    "    \n",
    "    filename = os.path.basename(member)\n",
    "    # skip directories\n",
    "    if not filename: \n",
    "        return\n",
    "    \n",
    "    test_dir = str(dest_dir) + filename\n",
    "    if os.path.isfile(test_dir): \n",
    "        return\n",
    "\n",
    "    # copy file (taken from zipfile's extract)\n",
    "    if not os.path.exists(dest_dir):\n",
    "        os.makedirs(dest_dir)\n",
    "    source = zip_file.open(member)\n",
    "    target = open(os.path.join(dest_dir, filename), \"wb\")\n",
    "    with source, target:\n",
    "        shutil.copyfileobj(source, target)\n",
    "            "
   ]
  },
  {
   "cell_type": "code",
   "execution_count": 21,
   "metadata": {},
   "outputs": [],
   "source": [
    "            \n",
    "with zf.ZipFile(DATA_DIR_RAW / ZIP_PATH) as archive:\n",
    "    archive.extract('ZhangLabData.zip', DATA_DIR_RAW / 'raw/')\n",
    "\n",
    "zang_zip = DATA_DIR_RAW / 'raw/ZhangLabData.zip'"
   ]
  },
  {
   "cell_type": "code",
   "execution_count": 22,
   "metadata": {},
   "outputs": [],
   "source": [
    "with zf.ZipFile(zang_zip) as zang_archive:\n",
    "\n",
    "    zip_paths = 'CellData/chest_xray/'\n",
    "    for path in zang_archive.namelist():\n",
    "\n",
    "        if zip_paths + 'train/NORMAL/' in path:\n",
    "            extract_to(zang_archive, path, DATA_DIR_RAW / 'raw/train/NORMAL')\n",
    "\n",
    "        elif zip_paths + 'train/PNEUMONIA/' in path:\n",
    "            extract_to(zang_archive, path, DATA_DIR_RAW / 'raw/train/PNEUMONIA')\n",
    "\n",
    "        elif zip_paths + 'test/NORMAL/' in path:\n",
    "            extract_to(zang_archive, path, DATA_DIR_RAW / 'raw/test/NORMAL')\n",
    "\n",
    "        elif zip_paths + 'test/PNEUMONIA/' in path:\n",
    "            extract_to(zang_archive, path, DATA_DIR_RAW / 'raw/test/PNEUMONIA')\n",
    "            \n",
    "        else:\n",
    "            continue\n",
    "        \n",
    "os.remove(DATA_DIR_RAW / 'raw/chest_xrays.zip')\n",
    "os.remove(DATA_DIR_RAW / 'raw/ZhangLabData.zip') "
   ]
  },
  {
   "cell_type": "code",
   "execution_count": 23,
   "metadata": {},
   "outputs": [
    {
     "data": {
      "text/plain": [
       "'C:\\\\Users\\\\bigal\\\\OneDrive\\\\Documents\\\\FlatIron\\\\Module_4_Final_Project\\\\mod-4-project-image-classification\\\\data\\\\raw'"
      ]
     },
     "execution_count": 23,
     "metadata": {},
     "output_type": "execute_result"
    }
   ],
   "source": [
    "os.chdir(DATA_DIR_RAW / 'raw')\n",
    "os.getcwd()"
   ]
  },
  {
   "cell_type": "code",
   "execution_count": 25,
   "metadata": {},
   "outputs": [],
   "source": [
    "train_norm = len([name for name in os.listdir(\"train/NORMAL\") if not os.path.isdir(name)])\n",
    "train_pnue = len([name for name in os.listdir(\"train/PNEUMONIA\") if not os.path.isdir(name)])\n",
    "\n",
    "sample_norm = math.ceil(len(os.listdir('train/NORMAL')) * 0.2)\n",
    "sample_pnue = math.ceil(len(os.listdir('train/PNEUMONIA')) * 0.2)"
   ]
  },
  {
   "cell_type": "code",
   "execution_count": null,
   "metadata": {},
   "outputs": [],
   "source": [
    "if os.path.isdir('valid/NORMAL') is False:\n",
    "    os.makedirs('valid/NORMAL')\n",
    "    os.makedirs('valid/PNEUMONIA')\n",
    "\n",
    "    for i in random.sample(glob.glob('train/NORMAL/*'), sample_norm):\n",
    "        shutil.move(i, 'valid/NORMAL/')      \n",
    "    for i in random.sample(glob.glob('train/PNEUMONIA/*'), sample_pnue):\n",
    "        shutil.move(i, 'valid/PNEUMONIA/')\n"
   ]
  },
  {
   "cell_type": "code",
   "execution_count": 34,
   "metadata": {},
   "outputs": [],
   "source": [
    "TRAIN_NORMAL_PATH = 'train/NORMAL'\n",
    "TRAIN_PNEUMONIA_PATH = 'train/PNEUMONIA'\n",
    "PREPROC_NORMAL_PATH = 'preprocessed/NORMAL'\n",
    "PREPROC_PNEUMONIA_PATH = 'preprocessed/PNEUMONIA'\n",
    "\n",
    "VALID_NORMAL_PATH = 'valid/NORMAL'\n",
    "VALID_PNEUMONIA_PATH = 'valid/PNEUMONIA'\n",
    "\n",
    "\n",
    "NORMAL_DEST = '../../preprocessed/Normal'\n",
    "PNEUMONIA_DEST = '../../preprocessed/PNEUMONIA'"
   ]
  },
  {
   "cell_type": "code",
   "execution_count": 35,
   "metadata": {},
   "outputs": [
    {
     "name": "stdout",
     "output_type": "stream",
     "text": [
      "Initialised with 1079 image(s) found.\n",
      "Output directory set to train/NORMAL\\../../preprocessed/Normal."
     ]
    },
    {
     "name": "stderr",
     "output_type": "stream",
     "text": [
      "Processing <PIL.Image.Image image mode=L size=1928x1303 at 0x18FAC946748>: 100%|█| 5233/5233 [03:33<00:00, 24.54 Samples/s]\n"
     ]
    },
    {
     "name": "stdout",
     "output_type": "stream",
     "text": [
      "Initialised with 3106 image(s) found.\n",
      "Output directory set to train/PNEUMONIA\\../../preprocessed/PNEUMONIA."
     ]
    },
    {
     "name": "stderr",
     "output_type": "stream",
     "text": [
      "Processing <PIL.Image.Image image mode=L size=936x696 at 0x18FB7F772B0>: 100%|█| 2535/2535 [00:47<00:00, 53.88 Samples/s]   \n"
     ]
    }
   ],
   "source": [
    "import Augmentor as ag\n",
    "\n",
    "def im_augemt(source, destination, num_samp):\n",
    "    p = ag.Pipeline(source, destination ) \n",
    "    p.flip_left_right(0.5) \n",
    "    p.rotate(0.3, 10, 10) \n",
    "    p.skew(0.4, 0.5) \n",
    "    p.histogram_equalisation(probability=1.0)\n",
    "    p.zoom(probability = 0.2, min_factor = 1.1, max_factor = 1.3) \n",
    "    p.sample(num_samp, multi_threaded=True) \n",
    "    \n",
    "im_augemt(TRAIN_NORMAL_PATH, NORMAL_DEST, train_norm + train_pnue ) \n",
    "\n",
    "im_augemt(TRAIN_PNEUMONIA_PATH, PNEUMONIA_DEST, train_pnue - train_norm ) "
   ]
  },
  {
   "cell_type": "code",
   "execution_count": 36,
   "metadata": {},
   "outputs": [
    {
     "data": {
      "text/plain": [
       "'C:\\\\Users\\\\bigal\\\\OneDrive\\\\Documents\\\\FlatIron\\\\Module_4_Final_Project\\\\mod-4-project-image-classification\\\\data\\\\raw'"
      ]
     },
     "execution_count": 36,
     "metadata": {},
     "output_type": "execute_result"
    }
   ],
   "source": [
    "os.getcwd()"
   ]
  },
  {
   "cell_type": "code",
   "execution_count": 6,
   "metadata": {},
   "outputs": [
    {
     "data": {
      "text/plain": [
       "(1079, 3106)"
      ]
     },
     "execution_count": 6,
     "metadata": {},
     "output_type": "execute_result"
    }
   ],
   "source": [
    "train_norm, train_pnue"
   ]
  },
  {
   "cell_type": "code",
   "execution_count": 40,
   "metadata": {},
   "outputs": [
    {
     "data": {
      "application/vnd.jupyter.widget-view+json": {
       "model_id": "b189834d4127456d90261b7accbce24e",
       "version_major": 2,
       "version_minor": 0
      },
      "text/plain": [
       "HBox(children=(IntProgress(value=0, max=5233), HTML(value='')))"
      ]
     },
     "metadata": {},
     "output_type": "display_data"
    },
    {
     "name": "stdout",
     "output_type": "stream",
     "text": [
      "\n"
     ]
    }
   ],
   "source": [
    "files = os.listdir('preprocessed/NORMAL')\n",
    "for file in tqdm_notebook(files):\n",
    "    shutil.move(f'{PREPROC_NORMAL_PATH}/{file}', TRAIN_NORMAL_PATH)"
   ]
  },
  {
   "cell_type": "code",
   "execution_count": 41,
   "metadata": {},
   "outputs": [
    {
     "data": {
      "application/vnd.jupyter.widget-view+json": {
       "model_id": "84d7173003654533a0eb543395d455fb",
       "version_major": 2,
       "version_minor": 0
      },
      "text/plain": [
       "HBox(children=(IntProgress(value=0, max=2535), HTML(value='')))"
      ]
     },
     "metadata": {},
     "output_type": "display_data"
    },
    {
     "name": "stdout",
     "output_type": "stream",
     "text": [
      "\n"
     ]
    }
   ],
   "source": [
    "files = os.listdir('preprocessed/PNEUMONIA')\n",
    "for file in tqdm_notebook(files):\n",
    "    shutil.move(f'{PREPROC_PNEUMONIA_PATH}/{file}', TRAIN_PNEUMONIA_PATH)"
   ]
  },
  {
   "cell_type": "code",
   "execution_count": 44,
   "metadata": {},
   "outputs": [],
   "source": [
    "shutil.rmtree('preprocessed')"
   ]
  },
  {
   "cell_type": "code",
   "execution_count": 56,
   "metadata": {},
   "outputs": [
    {
     "name": "stdout",
     "output_type": "stream",
     "text": [
      "found it\n"
     ]
    }
   ],
   "source": [
    "if os.path.isfile(TRAIN_NORMAL_PATH + '/.DS_Store'):\n",
    "    os.remove(TRAIN_NORMAL_PATH + '/.DS_Store')\n",
    "    \n",
    "if os.path.isfile(TRAIN_PNEUMONIA_PATH + '/.DS_Store'):\n",
    "    os.remove(TRAIN_PNEUMONIA_PATH + '/.DS_Store')"
   ]
  },
  {
   "cell_type": "code",
   "execution_count": 53,
   "metadata": {},
   "outputs": [],
   "source": [
    "from PIL import Image\n",
    "\n",
    "def im_array(path):\n",
    "    x_data = np.array( [np.array(Image.open(path + '/' + file).resize((224,224))) \n",
    "                        for file in tqdm_notebook(os.listdir(path), desc='Processing', unit='files') \n",
    "                        if len(np.array(Image.open(path + '/' + file)).shape) == 2] )\n",
    "    return x_data.flatten().reshape(len(x_data), 224**2)\n",
    "\n",
    "def create_image_array(orig, label=0):\n",
    "    \n",
    "    norm_array = im_array(orig)\n",
    "    \n",
    "    norm_array = norm_array/255\n",
    "    norm_y = np.ones((int(norm_array.shape[0]),1)) if label else np.zeros((int(norm_array.shape[0]),1))\n",
    "    norm_data = np.hstack((norm_array, norm_y))\n",
    "    return norm_data\n"
   ]
  },
  {
   "cell_type": "code",
   "execution_count": 57,
   "metadata": {},
   "outputs": [
    {
     "data": {
      "application/vnd.jupyter.widget-view+json": {
       "model_id": "9daeb981d2c2449b869a831e4c0221be",
       "version_major": 2,
       "version_minor": 0
      },
      "text/plain": [
       "HBox(children=(IntProgress(value=0, description='Processing', max=6312, style=ProgressStyle(description_width=…"
      ]
     },
     "metadata": {},
     "output_type": "display_data"
    },
    {
     "name": "stdout",
     "output_type": "stream",
     "text": [
      "\n"
     ]
    },
    {
     "data": {
      "application/vnd.jupyter.widget-view+json": {
       "model_id": "03ff351828234d62a58731557dff375d",
       "version_major": 2,
       "version_minor": 0
      },
      "text/plain": [
       "HBox(children=(IntProgress(value=0, description='Processing', max=5641, style=ProgressStyle(description_width=…"
      ]
     },
     "metadata": {},
     "output_type": "display_data"
    },
    {
     "name": "stdout",
     "output_type": "stream",
     "text": [
      "\n"
     ]
    }
   ],
   "source": [
    "train_data = np.concatenate([create_image_array(TRAIN_NORMAL_PATH, label=0),\n",
    "                            create_image_array(TRAIN_PNEUMONIA_PATH, label=1)], \n",
    "                            axis=0\n",
    "                           )"
   ]
  },
  {
   "cell_type": "code",
   "execution_count": 49,
   "metadata": {},
   "outputs": [
    {
     "data": {
      "application/vnd.jupyter.widget-view+json": {
       "model_id": "c4a080aa5e734738b765cd63b5158f05",
       "version_major": 2,
       "version_minor": 0
      },
      "text/plain": [
       "HBox(children=(IntProgress(value=0, description='Processing', max=270, style=ProgressStyle(description_width='…"
      ]
     },
     "metadata": {},
     "output_type": "display_data"
    },
    {
     "name": "stdout",
     "output_type": "stream",
     "text": [
      "\n"
     ]
    },
    {
     "data": {
      "application/vnd.jupyter.widget-view+json": {
       "model_id": "a31c646490734c7081392371fe1dca51",
       "version_major": 2,
       "version_minor": 0
      },
      "text/plain": [
       "HBox(children=(IntProgress(value=0, description='Processing', max=777, style=ProgressStyle(description_width='…"
      ]
     },
     "metadata": {},
     "output_type": "display_data"
    },
    {
     "name": "stdout",
     "output_type": "stream",
     "text": [
      "\n"
     ]
    }
   ],
   "source": [
    "val_data = np.concatenate([create_image_array(VALID_NORMAL_PATH,  label=0),\n",
    "                            create_image_array(VALID_PNEUMONIA_PATH, label=1)], \n",
    "                            axis=0\n",
    "                           )"
   ]
  },
  {
   "cell_type": "code",
   "execution_count": 58,
   "metadata": {},
   "outputs": [
    {
     "name": "stdout",
     "output_type": "stream",
     "text": [
      "Shape for train_data: (11543, 50177)\n",
      "Shape for val_data: (983, 50177)\n",
      "Shape for y_train: (11543,)\n",
      "Shape for X_train: (11543, 50176)\n"
     ]
    }
   ],
   "source": [
    "np.random.shuffle(train_data)\n",
    "np.random.shuffle(val_data)\n",
    "\n",
    "print(f'Shape for train_data: {(train_data.shape)}')\n",
    "print(f'Shape for val_data: {val_data.shape}')\n",
    "\n",
    "y_train = train_data[:,-1]\n",
    "y_train.reshape(y_train.size,1)\n",
    "print(f'Shape for y_train: {y_train.shape}')\n",
    "\n",
    "X_train = train_data[:,:-1]\n",
    "print(f'Shape for X_train: {X_train.shape}')"
   ]
  },
  {
   "cell_type": "code",
   "execution_count": 59,
   "metadata": {},
   "outputs": [],
   "source": [
    "y_val = val_data[:,-1]\n",
    "X_val = val_data[:,:-1]"
   ]
  },
  {
   "cell_type": "code",
   "execution_count": 60,
   "metadata": {},
   "outputs": [
    {
     "data": {
      "text/plain": [
       "(983, 50176)"
      ]
     },
     "execution_count": 60,
     "metadata": {},
     "output_type": "execute_result"
    }
   ],
   "source": [
    "X_val.shape"
   ]
  },
  {
   "cell_type": "code",
   "execution_count": 63,
   "metadata": {},
   "outputs": [],
   "source": [
    "os.mkdir('npy')\n",
    "np.save('npy/train_data.npy', train_data)\n",
    "np.save('npy/val_data.npy', val_data)"
   ]
  },
  {
   "cell_type": "code",
   "execution_count": null,
   "metadata": {},
   "outputs": [],
   "source": []
  }
 ],
 "metadata": {
  "kernelspec": {
   "display_name": "Python 3",
   "language": "python",
   "name": "python3"
  },
  "language_info": {
   "codemirror_mode": {
    "name": "ipython",
    "version": 3
   },
   "file_extension": ".py",
   "mimetype": "text/x-python",
   "name": "python",
   "nbconvert_exporter": "python",
   "pygments_lexer": "ipython3",
   "version": "3.6.9"
  },
  "toc": {
   "base_numbering": 1,
   "nav_menu": {},
   "number_sections": true,
   "sideBar": true,
   "skip_h1_title": true,
   "title_cell": "Table of Contents",
   "title_sidebar": "Contents",
   "toc_cell": false,
   "toc_position": {},
   "toc_section_display": true,
   "toc_window_display": false
  }
 },
 "nbformat": 4,
 "nbformat_minor": 2
}
