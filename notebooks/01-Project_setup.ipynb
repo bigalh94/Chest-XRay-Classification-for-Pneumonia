{
 "cells": [
  {
   "cell_type": "code",
   "execution_count": 1,
   "metadata": {
    "colab": {
     "base_uri": "https://localhost:8080/",
     "height": 34
    },
    "executionInfo": {
     "elapsed": 40939,
     "status": "ok",
     "timestamp": 1601426191064,
     "user": {
      "displayName": "Alvaro Henriquez",
      "photoUrl": "",
      "userId": "02782214734520853933"
     },
     "user_tz": 240
    },
    "id": "zerVND3ggq-T",
    "outputId": "f51b1661-c9e6-4ab2-c33e-03426f3ee08f"
   },
   "outputs": [
    {
     "name": "stdout",
     "output_type": "stream",
     "text": [
      "Mounted at /content/drive/\n"
     ]
    }
   ],
   "source": [
    "from google.colab import drive\n",
    "drive.mount('/content/drive/')"
   ]
  },
  {
   "cell_type": "code",
   "execution_count": 9,
   "metadata": {
    "executionInfo": {
     "elapsed": 3189,
     "status": "ok",
     "timestamp": 1601426348315,
     "user": {
      "displayName": "Alvaro Henriquez",
      "photoUrl": "",
      "userId": "02782214734520853933"
     },
     "user_tz": 240
    },
    "id": "VjSw3lLmgSHA",
    "scrolled": true
   },
   "outputs": [],
   "source": [
    "import os\n",
    "os.chdir('drive/My Drive')\n",
    "ROOT = os.getcwd()\n",
    "os.chdir(ROOT + '/Colab Notebooks')\n",
    "\n",
    "import sys\n",
    "sys.path.append('../src')\n",
    "from project_utilities.config import DATA_DIR_RAW\n",
    "\n",
    "import numpy as np\n",
    "import math\n",
    "#import scipy.ndimage as nd\n",
    "import os\n",
    "import shutil\n",
    "import random\n",
    "import glob\n",
    "import zipfile as zf\n",
    "import requests as rq\n",
    "from PIL import Image\n",
    "from tensorflow.keras.preprocessing.image import ImageDataGenerator, array_to_img, img_to_array, load_img \n",
    "\n",
    "from tqdm import tqdm, tqdm_notebook\n",
    "\n",
    "# Don't show those pesky 'future warnings'\n",
    "import warnings"
   ]
  },
  {
   "cell_type": "code",
   "execution_count": 2,
   "metadata": {
    "executionInfo": {
     "elapsed": 659,
     "status": "ok",
     "timestamp": 1601426233927,
     "user": {
      "displayName": "Alvaro Henriquez",
      "photoUrl": "",
      "userId": "02782214734520853933"
     },
     "user_tz": 240
    },
    "id": "OwvQE6zcgSHr"
   },
   "outputs": [],
   "source": [
    "DOWNLOAD_URL = 'https://md-datasets-cache-zipfiles-prod.s3.eu-west-1.amazonaws.com/rscbjbr9sj-3.zip'\n",
    "ZIP_PATH = 'raw/chest_xrays.zip'\n",
    "\n",
    "TRAIN_NORMAL_PATH = 'train/NORMAL'\n",
    "TRAIN_PNEUMONIA_PATH = 'train/PNEUMONIA'\n",
    "PREPROC_NORMAL_PATH = 'preprocessed/NORMAL'\n",
    "PREPROC_PNEUMONIA_PATH = 'preprocessed/PNEUMONIA'\n",
    "TEST_PNEUMONIA_PATH = 'test/PNUEMONIA'\n",
    "\n",
    "VALID_NORMAL_PATH = 'valid/NORMAL'\n",
    "VALID_PNEUMONIA_PATH = 'valid/PNEUMONIA'\n",
    "\n",
    "NORMAL_DEST = 'preprocessed/Normal'\n",
    "PNEUMONIA_DEST = 'preprocessed/PNEUMONIA'"
   ]
  },
  {
   "cell_type": "code",
   "execution_count": 3,
   "metadata": {
    "executionInfo": {
     "elapsed": 468,
     "status": "ok",
     "timestamp": 1601426238549,
     "user": {
      "displayName": "Alvaro Henriquez",
      "photoUrl": "",
      "userId": "02782214734520853933"
     },
     "user_tz": 240
    },
    "id": "pdzpbjivgSHb"
   },
   "outputs": [],
   "source": [
    "def extract_to(zip_file, member, dest_dir):\n",
    "    \n",
    "    filename = os.path.basename(member)\n",
    "    # skip directories\n",
    "    if not filename: \n",
    "        return\n",
    "    \n",
    "    test_dir = str(dest_dir) + filename\n",
    "    if os.path.isfile(test_dir): \n",
    "        return\n",
    "\n",
    "    # copy file (taken from zipfile's extract)\n",
    "    if not os.path.exists(dest_dir):\n",
    "        os.makedirs(dest_dir)\n",
    "    source = zip_file.open(member)\n",
    "    target = open(os.path.join(dest_dir, filename), \"wb\")\n",
    "    with source, target:\n",
    "        shutil.copyfileobj(source, target)\n",
    "  "
   ]
  },
  {
   "cell_type": "code",
   "execution_count": 4,
   "metadata": {
    "executionInfo": {
     "elapsed": 484,
     "status": "ok",
     "timestamp": 1601426240103,
     "user": {
      "displayName": "Alvaro Henriquez",
      "photoUrl": "",
      "userId": "02782214734520853933"
     },
     "user_tz": 240
    },
    "id": "DGsKQ7nagSIG"
   },
   "outputs": [],
   "source": [
    "# Takes image files and flattens them.\n",
    "def im_array(path):\n",
    "    x_data = np.array( [np.array(Image.open(path + '/' + file).resize((224,224))) \n",
    "                        for file in tqdm_notebook(os.listdir(path), desc='Processing', unit='files') \n",
    "                        if len(np.array(Image.open(path + '/' + file)).shape) == 2] )\n",
    "    return x_data.flatten().reshape(len(x_data), 224**2)\n",
    "\n",
    "def create_image_array(orig, label=0):\n",
    "    \n",
    "    norm_array = im_array(orig)\n",
    "    \n",
    "    norm_array = norm_array/255\n",
    "    norm_y = np.ones((int(norm_array.shape[0]),1)) if label else np.zeros((int(norm_array.shape[0]),1))\n",
    "    norm_data = np.hstack((norm_array, norm_y))\n",
    "    return norm_data\n"
   ]
  },
  {
   "cell_type": "code",
   "execution_count": 5,
   "metadata": {
    "colab": {
     "base_uri": "https://localhost:8080/",
     "height": 52
    },
    "executionInfo": {
     "elapsed": 414,
     "status": "ok",
     "timestamp": 1601426241658,
     "user": {
      "displayName": "Alvaro Henriquez",
      "photoUrl": "",
      "userId": "02782214734520853933"
     },
     "user_tz": 240
    },
    "id": "cPQmfsxtgSHu",
    "outputId": "c5d25c54-4745-4c2e-c123-454f74ed1c77"
   },
   "outputs": [
    {
     "data": {
      "application/vnd.google.colaboratory.intrinsic+json": {
       "type": "string"
      },
      "text/plain": [
       "'  \\n    p = ag.Pipeline(source, destination ) \\n    p.flip_left_right(0.5) \\n    p.rotate(0.3, 10, 10) \\n    p.skew(0.4, 0.5) \\n    p.histogram_equalisation(probability=1.0)\\n    p.zoom(probability = 0.2, min_factor = 1.1, max_factor = 1.3) \\n    p.sample(num_samp, multi_threaded=True) \\n  '"
      ]
     },
     "execution_count": 5,
     "metadata": {
      "tags": []
     },
     "output_type": "execute_result"
    }
   ],
   "source": [
    "\n",
    "def im_augemt(source, destination, num_aug):\n",
    "    '''\n",
    "    Takes a source directoy, a destination directory\n",
    "    and the number of augmentations to produce. Iterrates\n",
    "    over images and passes them to a Keras generator.\n",
    "    '''\n",
    "    # Code inspired by the following article:  \n",
    "    # https://www.geeksforgeeks.org/python-data-augmentation/\n",
    "    if os.path.isdir(destination) is False:\n",
    "        #print('creating -> {destination}')\n",
    "        os.mkdir(destination)\n",
    "        src = ROOT + '/data/raw/' + source\n",
    "        for name in tqdm_notebook(os.listdir(src)):\n",
    "            if not name.endswith('jpeg'):\n",
    "                continue            \n",
    "            img = load_img(src + '/' + name)\n",
    "            #print(f'Getting -> {img}')\n",
    "            image = img_to_array(img)\n",
    "            image = image.reshape((1,) + image.shape)\n",
    "             \n",
    "            datagen =  ImageDataGenerator(rotation_range=10,\n",
    "                                          samplewise_center=True,\n",
    "                                          samplewise_std_normalization= True,\n",
    "                                          width_shift_range=0.2,\n",
    "                                          height_shift_range=0.2,\n",
    "                                          shear_range=0.2,\n",
    "                                          zoom_range=0.2,\n",
    "                                          fill_mode=\"nearest\",\n",
    "                                          cval=0.0,\n",
    "                                          rescale = 0.2,\n",
    "                                          horizontal_flip=True\n",
    "                                          )\n",
    "            #datagen.fit(image)\n",
    "            for i, batch in enumerate(datagen.flow(image,\n",
    "                                                   save_to_dir=destination,\n",
    "                                                   batch_size=1,\n",
    "                                                   save_prefix='aug',\n",
    "                                                   save_format='jpeg'\n",
    "                                                   )\n",
    "                                                   ):\n",
    "                if i > num_aug:\n",
    "                  break\n",
    "\n",
    "'''  \n",
    "    p = ag.Pipeline(source, destination ) \n",
    "    p.flip_left_right(0.5) \n",
    "    p.rotate(0.3, 10, 10) \n",
    "    p.skew(0.4, 0.5) \n",
    "    p.histogram_equalisation(probability=1.0)\n",
    "    p.zoom(probability = 0.2, min_factor = 1.1, max_factor = 1.3) \n",
    "    p.sample(num_samp, multi_threaded=True) \n",
    "  '''  "
   ]
  },
  {
   "cell_type": "code",
   "execution_count": 6,
   "metadata": {
    "executionInfo": {
     "elapsed": 737,
     "status": "ok",
     "timestamp": 1601426244183,
     "user": {
      "displayName": "Alvaro Henriquez",
      "photoUrl": "",
      "userId": "02782214734520853933"
     },
     "user_tz": 240
    },
    "id": "jXMGkq-TBCAE"
   },
   "outputs": [],
   "source": [
    "\n",
    "def copy_from_train():   \n",
    "    files = os.listdir(TRAIN_NORMAL_PATH)\n",
    "    for file in tqdm_notebook(files):\n",
    "        #shutil.move(f'{PREPROC_NORMAL_PATH}/{file}', TRAIN_NORMAL_PATH)\n",
    "        shutil.copy(f'{TRAIN_NORMAL_PATH}/{file}', PREPROC_NORMAL_PATH)        \n",
    "\n",
    "    files = os.listdir(TRAIN_PNEUMONIA_PATH)\n",
    "    for file in tqdm_notebook(files):\n",
    "        shutil.copy(f'{TRAIN_PNEUMONIA_PATH}/{file}', PREPROC_PNEUMONIA_PATH)\n",
    "        \n",
    "    #shutil.rmtree('preprocessed')"
   ]
  },
  {
   "cell_type": "code",
   "execution_count": 7,
   "metadata": {
    "colab": {
     "base_uri": "https://localhost:8080/",
     "height": 69
    },
    "executionInfo": {
     "elapsed": 618,
     "status": "ok",
     "timestamp": 1601426247352,
     "user": {
      "displayName": "Alvaro Henriquez",
      "photoUrl": "",
      "userId": "02782214734520853933"
     },
     "user_tz": 240
    },
    "id": "pYUAazPmjqZ1",
    "outputId": "0e9b0bfc-dc29-4cb5-c75b-0b951006239b"
   },
   "outputs": [
    {
     "data": {
      "application/vnd.google.colaboratory.intrinsic+json": {
       "type": "string"
      },
      "text/plain": [
       "\"   \\n    print(f'Shape for train_data: {(train_data.shape)}')\\n    print(f'Shape for val_data: {val_data.shape}')\\n\\n    y_train = train_data[:,-1]\\n    y_train.reshape(y_train.size,1)\\n    print(f'Shape for y_train: {y_train.shape}')\\n\\n    X_train = train_data[:,:-1]\\n    print(f'Shape for X_train: {X_train.shape}')\\n    \\n    y_val = val_data[:,-1]\\n    X_val = val_data[:,:-1]+\\n    X_val.shape\\n\""
      ]
     },
     "execution_count": 7,
     "metadata": {
      "tags": []
     },
     "output_type": "execute_result"
    }
   ],
   "source": [
    "\n",
    "def create_train_val():    \n",
    "    if os.path.isfile(PREPROC_NORMAL_PATH + '/.DS_Store'):\n",
    "        os.remove(PREPROC_NORMAL_PATH + '/.DS_Store')\n",
    "        \n",
    "    if os.path.isfile(PREPROC_PNEUMONIA_PATH + '/.DS_Store'):\n",
    "        os.remove(PREPROC_PNEUMONIA_PATH + '/.DS_Store')\n",
    "\n",
    "    train_data = np.concatenate([create_image_array(PREPROC_NORMAL_PATH, label=0),\n",
    "                                create_image_array(PREPROC_PNEUMONIA_PATH, label=1)], \n",
    "                                axis=0\n",
    "                              )\n",
    "    \n",
    "    val_data = np.concatenate([create_image_array(VALID_NORMAL_PATH,  label=0),\n",
    "                                create_image_array(VALID_PNEUMONIA_PATH, label=1)], \n",
    "                                axis=0\n",
    "                              )\n",
    "    \n",
    "    test_data = create_image_array(TEST_PNEUMONIA_PATH, label=1)\n",
    "\n",
    "    np.random.shuffle(train_data)\n",
    "    np.random.shuffle(val_data)\n",
    "    return train_data, val_data, test_data\n",
    "\n",
    "'''   \n",
    "    print(f'Shape for train_data: {(train_data.shape)}')\n",
    "    print(f'Shape for val_data: {val_data.shape}')\n",
    "\n",
    "    y_train = train_data[:,-1]\n",
    "    y_train.reshape(y_train.size,1)\n",
    "    print(f'Shape for y_train: {y_train.shape}')\n",
    "\n",
    "    X_train = train_data[:,:-1]\n",
    "    print(f'Shape for X_train: {X_train.shape}')\n",
    "    \n",
    "    y_val = val_data[:,-1]\n",
    "    X_val = val_data[:,:-1]+\n",
    "    X_val.shape\n",
    "'''\n"
   ]
  },
  {
   "cell_type": "markdown",
   "metadata": {
    "id": "HDmRYnAF7gGt"
   },
   "source": [
    "### Create the directory that will hold all the data"
   ]
  },
  {
   "cell_type": "code",
   "execution_count": null,
   "metadata": {
    "id": "XJWmbbdiwotX"
   },
   "outputs": [],
   "source": [
    "          \n",
    "if os.path.isdir('../data') is False:\n",
    "    os.mkdir('../data')\n",
    "    os.mkdir(DATA_DIR_RAW / 'raw')\n",
    "    r = rq.get(DOWNLOAD_URL, stream=True)\n",
    "    "
   ]
  },
  {
   "cell_type": "markdown",
   "metadata": {
    "id": "Sq4KeOWB7q2R"
   },
   "source": [
    "#### Download the data"
   ]
  },
  {
   "cell_type": "code",
   "execution_count": null,
   "metadata": {
    "id": "7T2MBWVVUqZ9"
   },
   "outputs": [],
   "source": [
    "\n",
    "with open(DATA_DIR_RAW / ZIP_PATH, 'wb') as c_ray:\n",
    "    for chunk in r.iter_content(chunk_size=1024):\n",
    "        if chunk:\n",
    "            c_ray.write(chunk)\n",
    "    "
   ]
  },
  {
   "cell_type": "markdown",
   "metadata": {
    "id": "eWFEx5d570nD"
   },
   "source": [
    "#### Extract zip file"
   ]
  },
  {
   "cell_type": "code",
   "execution_count": null,
   "metadata": {
    "id": "sUrDfSorVX9f"
   },
   "outputs": [],
   "source": [
    "       \n",
    "with zf.ZipFile(DATA_DIR_RAW / ZIP_PATH) as archive:\n",
    "    archive.extract('ZhangLabData.zip', DATA_DIR_RAW / 'raw/')\n",
    "\n",
    "zang_zip = DATA_DIR_RAW / 'raw/ZhangLabData.zip';\n"
   ]
  },
  {
   "cell_type": "markdown",
   "metadata": {
    "id": "-DrbSQve7-wG"
   },
   "source": [
    "#### From the extracted zip file, extract only the specific paths that hold the files of interest."
   ]
  },
  {
   "cell_type": "code",
   "execution_count": null,
   "metadata": {
    "id": "S2GRxmM8kSAT"
   },
   "outputs": [],
   "source": [
    "\n",
    "with zf.ZipFile(zang_zip) as zang_archive:\n",
    "\n",
    "    zip_paths = 'CellData/chest_xray/'\n",
    "    for path in zang_archive.namelist():\n",
    "        if zip_paths + 'train/NORMAL/' in path:\n",
    "            extract_to(zang_archive,path, DATA_DIR_RAW / 'raw/train/NORMAL')\n",
    "        elif zip_paths + 'train/PNEUMONIA/' in path:\n",
    "            extract_to(zang_archive, path, DATA_DIR_RAW / 'raw/train/PNEUMONIA')\n",
    "        elif zip_paths + 'test/NORNAL' in path:\n",
    "            extract_to(zang_archive, path, DATA_DIR_RAW / 'raw/test/NORMAL')\n",
    "        elif zip_paths + 'test/PNEUMONIA' in path:\n",
    "            extract_to(zang_archive, path, DATA_DIR_RAW / 'raw/test/PNUEMONIA')\n",
    "        else:\n",
    "            continue\n",
    "\n"
   ]
  },
  {
   "cell_type": "markdown",
   "metadata": {
    "id": "cMywvTj98VE2"
   },
   "source": [
    "#### Remove the zip files. No longer needed."
   ]
  },
  {
   "cell_type": "code",
   "execution_count": null,
   "metadata": {
    "id": "gkO-8KMF8RxD"
   },
   "outputs": [],
   "source": [
    "os.remove(DATA_DIR_RAW / 'raw/chest_xrays.zip')\n",
    "os.remove(DATA_DIR_RAW / 'raw/ZhangLabData.zip') "
   ]
  },
  {
   "cell_type": "code",
   "execution_count": null,
   "metadata": {
    "colab": {
     "base_uri": "https://localhost:8080/",
     "height": 35
    },
    "executionInfo": {
     "elapsed": 336,
     "status": "ok",
     "timestamp": 1601351019222,
     "user": {
      "displayName": "Alvaro Henriquez",
      "photoUrl": "",
      "userId": "02782214734520853933"
     },
     "user_tz": 240
    },
    "id": "a4ZcJ6IugSHf",
    "outputId": "decf64b7-5acb-4aa8-c33d-d67d5c32c532"
   },
   "outputs": [
    {
     "data": {
      "application/vnd.google.colaboratory.intrinsic+json": {
       "type": "string"
      },
      "text/plain": [
       "'/content/drive/My Drive/data/raw'"
      ]
     },
     "execution_count": 14,
     "metadata": {
      "tags": []
     },
     "output_type": "execute_result"
    }
   ],
   "source": [
    "os.chdir(DATA_DIR_RAW / 'raw')\n",
    "os.getcwd()"
   ]
  },
  {
   "cell_type": "markdown",
   "metadata": {
    "id": "MWMTt1L98oeO"
   },
   "source": [
    "#### Manually create a validation set from the train data using 20%"
   ]
  },
  {
   "cell_type": "code",
   "execution_count": null,
   "metadata": {
    "id": "TWnMRB1agSHn"
   },
   "outputs": [],
   "source": [
    "train_norm = len(os.listdir(\"train/NORMAL\"))\n",
    "train_pnue = len(os.listdir(\"train/PNEUMONIA\"))\n",
    "\n",
    "if os.path.isdir('valid/NORMAL') is False:\n",
    "    sample_norm = math.ceil(train_norm * 0.2)\n",
    "    sample_pnue = math.ceil(train_pnue * 0.2)\n",
    "    os.makedirs('valid/NORMAL')\n",
    "    os.makedirs('valid/PNEUMONIA')\n",
    "\n",
    "    for i in random.sample(glob.glob('train/NORMAL/*'), sample_norm):\n",
    "        shutil.move(i, 'valid/NORMAL/')      \n",
    "    for i in random.sample(glob.glob('train/PNEUMONIA/*'), sample_pnue):\n",
    "        shutil.move(i, 'valid/PNEUMONIA/')\n"
   ]
  },
  {
   "cell_type": "code",
   "execution_count": null,
   "metadata": {
    "colab": {
     "base_uri": "https://localhost:8080/",
     "height": 34
    },
    "executionInfo": {
     "elapsed": 362,
     "status": "ok",
     "timestamp": 1601328911355,
     "user": {
      "displayName": "Alvaro Henriquez",
      "photoUrl": "",
      "userId": "02782214734520853933"
     },
     "user_tz": 240
    },
    "id": "LkigPm67oN56",
    "outputId": "587743a0-ccf5-4ff7-fcae-7eb3f51c1b49"
   },
   "outputs": [
    {
     "data": {
      "text/plain": [
       "1"
      ]
     },
     "execution_count": 28,
     "metadata": {
      "tags": []
     },
     "output_type": "execute_result"
    }
   ],
   "source": [
    "import math\n",
    "math.ceil((train_pnue - train_norm) / train_pnue)"
   ]
  },
  {
   "cell_type": "code",
   "execution_count": 10,
   "metadata": {
    "executionInfo": {
     "elapsed": 417,
     "status": "ok",
     "timestamp": 1601426356018,
     "user": {
      "displayName": "Alvaro Henriquez",
      "photoUrl": "",
      "userId": "02782214734520853933"
     },
     "user_tz": 240
    },
    "id": "i9X0PLM8LoVE"
   },
   "outputs": [],
   "source": [
    "os.chdir(ROOT + '/data/raw')"
   ]
  },
  {
   "cell_type": "markdown",
   "metadata": {
    "id": "vpxZJjFv85dK"
   },
   "source": [
    "#### Create augemented data to used with XGBoost"
   ]
  },
  {
   "cell_type": "code",
   "execution_count": null,
   "metadata": {
    "colab": {
     "base_uri": "https://localhost:8080/",
     "height": 117,
     "referenced_widgets": [
      "e5b4bd2264804df89685de79504c8a63",
      "f8ac84456c824786a93b7bf6a264efbd",
      "7b2ef8425a2b4649940a4dd4f6712895",
      "dc436f7c460b4c8ba3940bbc28af68f6",
      "df45f95e049041b7b07adc72b966e2e8",
      "24cf92e42eb0410bbf18f1506bb5f636",
      "e4de0d4754594931bfb03c148bcdc1c8",
      "9cd87d2c332342d0a18a9ef40b798c61"
     ]
    },
    "executionInfo": {
     "elapsed": 2661851,
     "status": "ok",
     "timestamp": 1601353774003,
     "user": {
      "displayName": "Alvaro Henriquez",
      "photoUrl": "",
      "userId": "02782214734520853933"
     },
     "user_tz": 240
    },
    "id": "nSnyo6-6_wAI",
    "outputId": "0c98ffd1-280e-4823-d174-959dde4e1ed9"
   },
   "outputs": [
    {
     "name": "stderr",
     "output_type": "stream",
     "text": [
      "/usr/local/lib/python3.6/dist-packages/ipykernel_launcher.py:9: TqdmDeprecationWarning: This function will be removed in tqdm==5.0.0\n",
      "Please use `tqdm.notebook.tqdm` instead of `tqdm.tqdm_notebook`\n",
      "  if __name__ == '__main__':\n"
     ]
    },
    {
     "data": {
      "application/vnd.jupyter.widget-view+json": {
       "model_id": "e5b4bd2264804df89685de79504c8a63",
       "version_major": 2,
       "version_minor": 0
      },
      "text/plain": [
       "HBox(children=(FloatProgress(value=0.0, max=1079.0), HTML(value='')))"
      ]
     },
     "metadata": {
      "tags": []
     },
     "output_type": "display_data"
    },
    {
     "name": "stdout",
     "output_type": "stream",
     "text": [
      "\n"
     ]
    }
   ],
   "source": [
    "if os.path.isdir('./preprocessed') is False:\n",
    "  \n",
    "    os.mkdir('./preprocessed/')   \n",
    "    os.chdir('./preprocessed/')\n",
    "  \n",
    "    # Data augmentation\n",
    "    im_augemt(TRAIN_NORMAL_PATH, 'NORMAL', 2) \n",
    "\n",
    "    #im_augemt(TRAIN_PNEUMONIA_PATH, 'PNEUMONIA', math.ceil((train_pnue - train_norm)/train_pnue) ) \n",
    "    os.mkdir('PNEUMONIA')\n",
    "    os.chdir('../')"
   ]
  },
  {
   "cell_type": "code",
   "execution_count": null,
   "metadata": {
    "id": "YvrX3Zp8IWv_"
   },
   "outputs": [],
   "source": [
    "os.mkdir('preprocessed/PNEUMONIA')"
   ]
  },
  {
   "cell_type": "markdown",
   "metadata": {
    "id": "PgrHHTQ6u7H1"
   },
   "source": [
    "#### Copy files from train into preprocess to complete the dataset"
   ]
  },
  {
   "cell_type": "code",
   "execution_count": null,
   "metadata": {
    "colab": {
     "base_uri": "https://localhost:8080/",
     "height": 217,
     "referenced_widgets": [
      "2a11edd317d546f0b3074314acc38f79",
      "6034f7cb9a5a4f659047f4e6139062dc",
      "8d37c5dcc812492787c15ada4df72c3b",
      "b93a0367c0be434d8a5e9cb43a38dd14",
      "578c11698a56490292b132bb4e8d8e6f",
      "bc3fa8d0fea646bda5d31b38739e6cdb",
      "4882b6827a674aa3b7c3c0e89a5386d5",
      "bda37178eb2744e5a1b534b05178e2f7",
      "cf434cf2b5d54239a58a58aa6e53b275",
      "9f81d81ff7214aa094814cd24e1facbf",
      "a5fa71c287eb41aaa7f49c5f82a4aafe",
      "2f20d5232d784d72b3fd4dc2a77bf861",
      "98bbcd968f8e44baad05d7e8242a9703",
      "a584fc6f46f74c899801f6e2fedac60f",
      "70e192b5721f43aa813ec15d0941bbaf",
      "82dd5b0704e84024861fff23d6245acd"
     ]
    },
    "executionInfo": {
     "elapsed": 54395,
     "status": "ok",
     "timestamp": 1601354030708,
     "user": {
      "displayName": "Alvaro Henriquez",
      "photoUrl": "",
      "userId": "02782214734520853933"
     },
     "user_tz": 240
    },
    "id": "05MdVTckj5hI",
    "outputId": "29ab2331-4520-4cb1-82f5-84d3a000ccc4"
   },
   "outputs": [
    {
     "name": "stderr",
     "output_type": "stream",
     "text": [
      "/usr/local/lib/python3.6/dist-packages/ipykernel_launcher.py:4: TqdmDeprecationWarning: This function will be removed in tqdm==5.0.0\n",
      "Please use `tqdm.notebook.tqdm` instead of `tqdm.tqdm_notebook`\n",
      "  after removing the cwd from sys.path.\n"
     ]
    },
    {
     "data": {
      "application/vnd.jupyter.widget-view+json": {
       "model_id": "2a11edd317d546f0b3074314acc38f79",
       "version_major": 2,
       "version_minor": 0
      },
      "text/plain": [
       "HBox(children=(FloatProgress(value=0.0, max=1079.0), HTML(value='')))"
      ]
     },
     "metadata": {
      "tags": []
     },
     "output_type": "display_data"
    },
    {
     "name": "stdout",
     "output_type": "stream",
     "text": [
      "\n"
     ]
    },
    {
     "name": "stderr",
     "output_type": "stream",
     "text": [
      "/usr/local/lib/python3.6/dist-packages/ipykernel_launcher.py:9: TqdmDeprecationWarning: This function will be removed in tqdm==5.0.0\n",
      "Please use `tqdm.notebook.tqdm` instead of `tqdm.tqdm_notebook`\n",
      "  if __name__ == '__main__':\n"
     ]
    },
    {
     "data": {
      "application/vnd.jupyter.widget-view+json": {
       "model_id": "cf434cf2b5d54239a58a58aa6e53b275",
       "version_major": 2,
       "version_minor": 0
      },
      "text/plain": [
       "HBox(children=(FloatProgress(value=0.0, max=3107.0), HTML(value='')))"
      ]
     },
     "metadata": {
      "tags": []
     },
     "output_type": "display_data"
    },
    {
     "name": "stdout",
     "output_type": "stream",
     "text": [
      "\n"
     ]
    }
   ],
   "source": [
    "copy_from_train()"
   ]
  },
  {
   "cell_type": "code",
   "execution_count": null,
   "metadata": {
    "colab": {
     "base_uri": "https://localhost:8080/",
     "height": 313,
     "referenced_widgets": [
      "39156410dd8041f487f6f98d99dff3a8",
      "d26bc118160647a1bfe45f1f7a008f8d",
      "73b308cf7b004f1bb80cf85abcaa2543",
      "2a9a9b8927d443048ed49dd0d1515d58",
      "dd7ca99a66d14ff0b82422918a4e3b6b",
      "6bc4edb3b1ae46b2b87fbc51da6c27ef",
      "9474b73bc47a4069bcbd9aafb1749cca",
      "61b612c938304d1898febc7a0fa13083",
      "fafa49589095410198c50e6081554e71",
      "c4b4b6679fe045c6a251547b7046fcc6",
      "981d534b71864ef3ac101acad46f7d08",
      "00808a496c5242c59e3cefd6b5270ba3",
      "839ed6a6aa734b058e97bc9cf49d0c25",
      "ee911c22a2c7498c804a12f8e85aa8fc",
      "6023f3270b6548568f69cf8a08ea4548",
      "ee8a51dffa0c4de4b08974b46941d8e3",
      "8bd2391fadd94ddab0f5c5994974affc",
      "85100c95a9aa46e093863f680bc9c63b",
      "0ef44120394f4e24aa526fb9dcd7e56b",
      "d3a398f65608484bba9476f1b37f19ee",
      "7e4b44c501b748e48700b1cadf2c1b00",
      "6f4c3e393b684144a6b3f176154b45ea",
      "3c8cdedbdf274baeb432729f3037c7c2",
      "840dc51ab85b4ab18f98542237d89e55",
      "34347961316f472d9913b9a70af8732d",
      "4823ab2f409642dc98c753dfe7c33f7b",
      "7c6852e4ba8443d3bc70f7b7ec21b06d",
      "dbd1104544a24a9fb7823d349f87fafd",
      "49dee8737c36467bbb28f87d5d99ebbe",
      "820a219d3906472c93d9992c69a33bf9",
      "e13999fb26aa4def947e88972c6f75b8",
      "0fd428ea2369431d9fcd5eb9a0c451e5",
      "6f5f9394ce4f47f7b70d5dcda8b3d643",
      "e0b0726dea7f4560a15842140663d118",
      "c63e4861f3b44523b3974f77942a1a43",
      "a5de021e0ae94eb1ac3c7cd68655ea42",
      "9faff684a2c94ac780334985737b9577",
      "1c5db654c186479abac82bdd8364a82f",
      "58384eb716db4d88bbfaa028870a686a",
      "daafda8b89e741e68c1c8e8a51197200"
     ]
    },
    "executionInfo": {
     "elapsed": 274618,
     "status": "ok",
     "timestamp": 1601355181469,
     "user": {
      "displayName": "Alvaro Henriquez",
      "photoUrl": "",
      "userId": "02782214734520853933"
     },
     "user_tz": 240
    },
    "id": "KMF0t8CAn3c_",
    "outputId": "0a6cd195-5c98-49e9-a328-86545f2dc98c"
   },
   "outputs": [
    {
     "name": "stderr",
     "output_type": "stream",
     "text": [
      "/usr/local/lib/python3.6/dist-packages/ipykernel_launcher.py:4: TqdmDeprecationWarning: This function will be removed in tqdm==5.0.0\n",
      "Please use `tqdm.notebook.tqdm` instead of `tqdm.tqdm_notebook`\n",
      "  after removing the cwd from sys.path.\n"
     ]
    },
    {
     "data": {
      "application/vnd.jupyter.widget-view+json": {
       "model_id": "39156410dd8041f487f6f98d99dff3a8",
       "version_major": 2,
       "version_minor": 0
      },
      "text/plain": [
       "HBox(children=(FloatProgress(value=0.0, description='Processing', max=4550.0, style=ProgressStyle(description_…"
      ]
     },
     "metadata": {
      "tags": []
     },
     "output_type": "display_data"
    },
    {
     "name": "stdout",
     "output_type": "stream",
     "text": [
      "\n"
     ]
    },
    {
     "data": {
      "application/vnd.jupyter.widget-view+json": {
       "model_id": "fafa49589095410198c50e6081554e71",
       "version_major": 2,
       "version_minor": 0
      },
      "text/plain": [
       "HBox(children=(FloatProgress(value=0.0, description='Processing', max=3106.0, style=ProgressStyle(description_…"
      ]
     },
     "metadata": {
      "tags": []
     },
     "output_type": "display_data"
    },
    {
     "name": "stdout",
     "output_type": "stream",
     "text": [
      "\n"
     ]
    },
    {
     "data": {
      "application/vnd.jupyter.widget-view+json": {
       "model_id": "8bd2391fadd94ddab0f5c5994974affc",
       "version_major": 2,
       "version_minor": 0
      },
      "text/plain": [
       "HBox(children=(FloatProgress(value=0.0, description='Processing', max=270.0, style=ProgressStyle(description_w…"
      ]
     },
     "metadata": {
      "tags": []
     },
     "output_type": "display_data"
    },
    {
     "name": "stdout",
     "output_type": "stream",
     "text": [
      "\n"
     ]
    },
    {
     "data": {
      "application/vnd.jupyter.widget-view+json": {
       "model_id": "34347961316f472d9913b9a70af8732d",
       "version_major": 2,
       "version_minor": 0
      },
      "text/plain": [
       "HBox(children=(FloatProgress(value=0.0, description='Processing', max=777.0, style=ProgressStyle(description_w…"
      ]
     },
     "metadata": {
      "tags": []
     },
     "output_type": "display_data"
    },
    {
     "name": "stdout",
     "output_type": "stream",
     "text": [
      "\n"
     ]
    },
    {
     "data": {
      "application/vnd.jupyter.widget-view+json": {
       "model_id": "6f5f9394ce4f47f7b70d5dcda8b3d643",
       "version_major": 2,
       "version_minor": 0
      },
      "text/plain": [
       "HBox(children=(FloatProgress(value=0.0, description='Processing', max=390.0, style=ProgressStyle(description_w…"
      ]
     },
     "metadata": {
      "tags": []
     },
     "output_type": "display_data"
    },
    {
     "name": "stdout",
     "output_type": "stream",
     "text": [
      "\n"
     ]
    }
   ],
   "source": [
    "train_data, val_data, test_data = create_train_val()"
   ]
  },
  {
   "cell_type": "code",
   "execution_count": null,
   "metadata": {
    "id": "GBsZa_vvnzxC"
   },
   "outputs": [],
   "source": [
    "\n",
    "os.mkdir('npy')\n",
    "np.save('npy/train_data.npy', train_data)\n",
    "np.save('npy/val_data.npy', val_data)\n",
    "np.save('npy/test_data.npy', test_data)"
   ]
  },
  {
   "cell_type": "code",
   "execution_count": 18,
   "metadata": {
    "executionInfo": {
     "elapsed": 483,
     "status": "ok",
     "timestamp": 1601427181382,
     "user": {
      "displayName": "Alvaro Henriquez",
      "photoUrl": "",
      "userId": "02782214734520853933"
     },
     "user_tz": 240
    },
    "id": "ETC35DTlxxpu"
   },
   "outputs": [],
   "source": [
    "def remove_files(mydir):\n",
    "    print(f'Directory is: {mydir}')  \n",
    "    filelist = [ f for f in os.listdir(mydir) if os.path.isfile(f)]\n",
    "    print(f'Num files: {len(filelist)}')\n",
    "    for f in filelist:\n",
    "        print(f'Removing file: {f}')      \n",
    "        os.remove(os.path.join(mydir, f))\n",
    "\n"
   ]
  },
  {
   "cell_type": "code",
   "execution_count": null,
   "metadata": {
    "colab": {
     "base_uri": "https://localhost:8080/",
     "height": 304,
     "referenced_widgets": [
      "b00fab26ec7b4050b38e6d5eb2146157",
      "1d1f2036248e455d8a23aa6c703f20a7",
      "e1411211ef5b4038926b6e42e4b52653",
      "73ca1a84f86f4525b55d8019807264e3",
      "adb4e7d9e3be4f96985fd23d21b45714",
      "e25b7a18c29a4c45963a87bbaf9dda2d",
      "afdd9c670ada49f1bbe2ddd87831a0e9",
      "573a09a3299c4be88045d51c39081591"
     ]
    },
    "executionInfo": {
     "elapsed": 534,
     "status": "ok",
     "timestamp": 1601348173933,
     "user": {
      "displayName": "Alvaro Henriquez",
      "photoUrl": "",
      "userId": "02782214734520853933"
     },
     "user_tz": 240
    },
    "id": "9LpFbM8N4LBT",
    "outputId": "91412963-f236-40a8-f135-6e94a59cd98c"
   },
   "outputs": [
    {
     "name": "stderr",
     "output_type": "stream",
     "text": [
      "/usr/local/lib/python3.6/dist-packages/ipykernel_launcher.py:3: TqdmDeprecationWarning: This function will be removed in tqdm==5.0.0\n",
      "Please use `tqdm.notebook.tqdm` instead of `tqdm.tqdm_notebook`\n",
      "  This is separate from the ipykernel package so we can avoid doing imports until\n"
     ]
    },
    {
     "data": {
      "application/vnd.jupyter.widget-view+json": {
       "model_id": "b00fab26ec7b4050b38e6d5eb2146157",
       "version_major": 2,
       "version_minor": 0
      },
      "text/plain": [
       "HBox(children=(FloatProgress(value=0.0, description='Proccessing', max=6.0, style=ProgressStyle(description_wi…"
      ]
     },
     "metadata": {
      "tags": []
     },
     "output_type": "display_data"
    },
    {
     "name": "stdout",
     "output_type": "stream",
     "text": [
      "Checking -> train/NORMAL\n",
      "Deleting files in -> train/NORMAL\n",
      "Checking -> train/PNEUMONIA\n",
      "Deleting files in -> train/PNEUMONIA\n",
      "Checking -> valid/NORMAL\n",
      "Deleting files in -> valid/NORMAL\n",
      "Checking -> valid/PNEUMONIA\n",
      "Deleting files in -> valid/PNEUMONIA\n",
      "Checking -> test/PNUEMONIA\n",
      "Deleting files in -> test/PNUEMONIA\n",
      "Checking -> ./npy/\n",
      "\n"
     ]
    }
   ],
   "source": [
    "\n",
    "dir_list = [TRAIN_NORMAL_PATH, TRAIN_PNEUMONIA_PATH, VALID_NORMAL_PATH, VALID_PNEUMONIA_PATH, TEST_PNEUMONIA_PATH, './npy/']\n",
    "for d in tqdm_notebook(dir_list, desc='Proccessing', unit='Files'):\n",
    "    print(f'Checking -> {d}')\n",
    "    if os.path.isdir(d):\n",
    "        print(f'Deleting files in -> {d}')\n",
    "        remove_files(d)       "
   ]
  },
  {
   "cell_type": "code",
   "execution_count": null,
   "metadata": {
    "id": "AIwcQT7nytNv"
   },
   "outputs": [],
   "source": [
    "os.chdir(ROOT)\n",
    "os.getcwd()\n",
    "shutil.rmtree('./data')"
   ]
  },
  {
   "cell_type": "code",
   "execution_count": null,
   "metadata": {
    "id": "sG4SksEvi1CZ"
   },
   "outputs": [],
   "source": []
  }
 ],
 "metadata": {
  "accelerator": "GPU",
  "colab": {
   "collapsed_sections": [],
   "name": "01-Project_setup.ipynb",
   "provenance": [],
   "toc_visible": true
  },
  "kernelspec": {
   "display_name": "Python [conda env:learn-env] *",
   "language": "python",
   "name": "conda-env-learn-env-py"
  },
  "language_info": {
   "codemirror_mode": {
    "name": "ipython",
    "version": 3
   },
   "file_extension": ".py",
   "mimetype": "text/x-python",
   "name": "python",
   "nbconvert_exporter": "python",
   "pygments_lexer": "ipython3",
   "version": "3.6.9"
  },
  "toc": {
   "base_numbering": 1,
   "nav_menu": {},
   "number_sections": true,
   "sideBar": true,
   "skip_h1_title": true,
   "title_cell": "Table of Contents",
   "title_sidebar": "Contents",
   "toc_cell": false,
   "toc_position": {},
   "toc_section_display": true,
   "toc_window_display": false
  },
  "widgets": {
   "application/vnd.jupyter.widget-state+json": {
    "00808a496c5242c59e3cefd6b5270ba3": {
     "model_module": "@jupyter-widgets/controls",
     "model_name": "HTMLModel",
     "state": {
      "_dom_classes": [],
      "_model_module": "@jupyter-widgets/controls",
      "_model_module_version": "1.5.0",
      "_model_name": "HTMLModel",
      "_view_count": null,
      "_view_module": "@jupyter-widgets/controls",
      "_view_module_version": "1.5.0",
      "_view_name": "HTMLView",
      "description": "",
      "description_tooltip": null,
      "layout": "IPY_MODEL_ee8a51dffa0c4de4b08974b46941d8e3",
      "placeholder": "​",
      "style": "IPY_MODEL_6023f3270b6548568f69cf8a08ea4548",
      "value": " 3106/3106 [00:58&lt;00:00, 52.90files/s]"
     }
    },
    "0ef44120394f4e24aa526fb9dcd7e56b": {
     "model_module": "@jupyter-widgets/controls",
     "model_name": "FloatProgressModel",
     "state": {
      "_dom_classes": [],
      "_model_module": "@jupyter-widgets/controls",
      "_model_module_version": "1.5.0",
      "_model_name": "FloatProgressModel",
      "_view_count": null,
      "_view_module": "@jupyter-widgets/controls",
      "_view_module_version": "1.5.0",
      "_view_name": "ProgressView",
      "bar_style": "success",
      "description": "Processing: 100%",
      "description_tooltip": null,
      "layout": "IPY_MODEL_6f4c3e393b684144a6b3f176154b45ea",
      "max": 270,
      "min": 0,
      "orientation": "horizontal",
      "style": "IPY_MODEL_7e4b44c501b748e48700b1cadf2c1b00",
      "value": 270
     }
    },
    "0fd428ea2369431d9fcd5eb9a0c451e5": {
     "model_module": "@jupyter-widgets/base",
     "model_name": "LayoutModel",
     "state": {
      "_model_module": "@jupyter-widgets/base",
      "_model_module_version": "1.2.0",
      "_model_name": "LayoutModel",
      "_view_count": null,
      "_view_module": "@jupyter-widgets/base",
      "_view_module_version": "1.2.0",
      "_view_name": "LayoutView",
      "align_content": null,
      "align_items": null,
      "align_self": null,
      "border": null,
      "bottom": null,
      "display": null,
      "flex": null,
      "flex_flow": null,
      "grid_area": null,
      "grid_auto_columns": null,
      "grid_auto_flow": null,
      "grid_auto_rows": null,
      "grid_column": null,
      "grid_gap": null,
      "grid_row": null,
      "grid_template_areas": null,
      "grid_template_columns": null,
      "grid_template_rows": null,
      "height": null,
      "justify_content": null,
      "justify_items": null,
      "left": null,
      "margin": null,
      "max_height": null,
      "max_width": null,
      "min_height": null,
      "min_width": null,
      "object_fit": null,
      "object_position": null,
      "order": null,
      "overflow": null,
      "overflow_x": null,
      "overflow_y": null,
      "padding": null,
      "right": null,
      "top": null,
      "visibility": null,
      "width": null
     }
    },
    "1c5db654c186479abac82bdd8364a82f": {
     "model_module": "@jupyter-widgets/base",
     "model_name": "LayoutModel",
     "state": {
      "_model_module": "@jupyter-widgets/base",
      "_model_module_version": "1.2.0",
      "_model_name": "LayoutModel",
      "_view_count": null,
      "_view_module": "@jupyter-widgets/base",
      "_view_module_version": "1.2.0",
      "_view_name": "LayoutView",
      "align_content": null,
      "align_items": null,
      "align_self": null,
      "border": null,
      "bottom": null,
      "display": null,
      "flex": null,
      "flex_flow": null,
      "grid_area": null,
      "grid_auto_columns": null,
      "grid_auto_flow": null,
      "grid_auto_rows": null,
      "grid_column": null,
      "grid_gap": null,
      "grid_row": null,
      "grid_template_areas": null,
      "grid_template_columns": null,
      "grid_template_rows": null,
      "height": null,
      "justify_content": null,
      "justify_items": null,
      "left": null,
      "margin": null,
      "max_height": null,
      "max_width": null,
      "min_height": null,
      "min_width": null,
      "object_fit": null,
      "object_position": null,
      "order": null,
      "overflow": null,
      "overflow_x": null,
      "overflow_y": null,
      "padding": null,
      "right": null,
      "top": null,
      "visibility": null,
      "width": null
     }
    },
    "1d1f2036248e455d8a23aa6c703f20a7": {
     "model_module": "@jupyter-widgets/base",
     "model_name": "LayoutModel",
     "state": {
      "_model_module": "@jupyter-widgets/base",
      "_model_module_version": "1.2.0",
      "_model_name": "LayoutModel",
      "_view_count": null,
      "_view_module": "@jupyter-widgets/base",
      "_view_module_version": "1.2.0",
      "_view_name": "LayoutView",
      "align_content": null,
      "align_items": null,
      "align_self": null,
      "border": null,
      "bottom": null,
      "display": null,
      "flex": null,
      "flex_flow": null,
      "grid_area": null,
      "grid_auto_columns": null,
      "grid_auto_flow": null,
      "grid_auto_rows": null,
      "grid_column": null,
      "grid_gap": null,
      "grid_row": null,
      "grid_template_areas": null,
      "grid_template_columns": null,
      "grid_template_rows": null,
      "height": null,
      "justify_content": null,
      "justify_items": null,
      "left": null,
      "margin": null,
      "max_height": null,
      "max_width": null,
      "min_height": null,
      "min_width": null,
      "object_fit": null,
      "object_position": null,
      "order": null,
      "overflow": null,
      "overflow_x": null,
      "overflow_y": null,
      "padding": null,
      "right": null,
      "top": null,
      "visibility": null,
      "width": null
     }
    },
    "24cf92e42eb0410bbf18f1506bb5f636": {
     "model_module": "@jupyter-widgets/base",
     "model_name": "LayoutModel",
     "state": {
      "_model_module": "@jupyter-widgets/base",
      "_model_module_version": "1.2.0",
      "_model_name": "LayoutModel",
      "_view_count": null,
      "_view_module": "@jupyter-widgets/base",
      "_view_module_version": "1.2.0",
      "_view_name": "LayoutView",
      "align_content": null,
      "align_items": null,
      "align_self": null,
      "border": null,
      "bottom": null,
      "display": null,
      "flex": null,
      "flex_flow": null,
      "grid_area": null,
      "grid_auto_columns": null,
      "grid_auto_flow": null,
      "grid_auto_rows": null,
      "grid_column": null,
      "grid_gap": null,
      "grid_row": null,
      "grid_template_areas": null,
      "grid_template_columns": null,
      "grid_template_rows": null,
      "height": null,
      "justify_content": null,
      "justify_items": null,
      "left": null,
      "margin": null,
      "max_height": null,
      "max_width": null,
      "min_height": null,
      "min_width": null,
      "object_fit": null,
      "object_position": null,
      "order": null,
      "overflow": null,
      "overflow_x": null,
      "overflow_y": null,
      "padding": null,
      "right": null,
      "top": null,
      "visibility": null,
      "width": null
     }
    },
    "2a11edd317d546f0b3074314acc38f79": {
     "model_module": "@jupyter-widgets/controls",
     "model_name": "HBoxModel",
     "state": {
      "_dom_classes": [],
      "_model_module": "@jupyter-widgets/controls",
      "_model_module_version": "1.5.0",
      "_model_name": "HBoxModel",
      "_view_count": null,
      "_view_module": "@jupyter-widgets/controls",
      "_view_module_version": "1.5.0",
      "_view_name": "HBoxView",
      "box_style": "",
      "children": [
       "IPY_MODEL_8d37c5dcc812492787c15ada4df72c3b",
       "IPY_MODEL_b93a0367c0be434d8a5e9cb43a38dd14"
      ],
      "layout": "IPY_MODEL_6034f7cb9a5a4f659047f4e6139062dc"
     }
    },
    "2a9a9b8927d443048ed49dd0d1515d58": {
     "model_module": "@jupyter-widgets/controls",
     "model_name": "HTMLModel",
     "state": {
      "_dom_classes": [],
      "_model_module": "@jupyter-widgets/controls",
      "_model_module_version": "1.5.0",
      "_model_name": "HTMLModel",
      "_view_count": null,
      "_view_module": "@jupyter-widgets/controls",
      "_view_module_version": "1.5.0",
      "_view_name": "HTMLView",
      "description": "",
      "description_tooltip": null,
      "layout": "IPY_MODEL_61b612c938304d1898febc7a0fa13083",
      "placeholder": "​",
      "style": "IPY_MODEL_9474b73bc47a4069bcbd9aafb1749cca",
      "value": " 4550/4550 [02:58&lt;00:00, 25.45files/s]"
     }
    },
    "2f20d5232d784d72b3fd4dc2a77bf861": {
     "model_module": "@jupyter-widgets/controls",
     "model_name": "HTMLModel",
     "state": {
      "_dom_classes": [],
      "_model_module": "@jupyter-widgets/controls",
      "_model_module_version": "1.5.0",
      "_model_name": "HTMLModel",
      "_view_count": null,
      "_view_module": "@jupyter-widgets/controls",
      "_view_module_version": "1.5.0",
      "_view_name": "HTMLView",
      "description": "",
      "description_tooltip": null,
      "layout": "IPY_MODEL_82dd5b0704e84024861fff23d6245acd",
      "placeholder": "​",
      "style": "IPY_MODEL_70e192b5721f43aa813ec15d0941bbaf",
      "value": " 3107/3107 [04:21&lt;00:00, 11.89it/s]"
     }
    },
    "34347961316f472d9913b9a70af8732d": {
     "model_module": "@jupyter-widgets/controls",
     "model_name": "HBoxModel",
     "state": {
      "_dom_classes": [],
      "_model_module": "@jupyter-widgets/controls",
      "_model_module_version": "1.5.0",
      "_model_name": "HBoxModel",
      "_view_count": null,
      "_view_module": "@jupyter-widgets/controls",
      "_view_module_version": "1.5.0",
      "_view_name": "HBoxView",
      "box_style": "",
      "children": [
       "IPY_MODEL_7c6852e4ba8443d3bc70f7b7ec21b06d",
       "IPY_MODEL_dbd1104544a24a9fb7823d349f87fafd"
      ],
      "layout": "IPY_MODEL_4823ab2f409642dc98c753dfe7c33f7b"
     }
    },
    "39156410dd8041f487f6f98d99dff3a8": {
     "model_module": "@jupyter-widgets/controls",
     "model_name": "HBoxModel",
     "state": {
      "_dom_classes": [],
      "_model_module": "@jupyter-widgets/controls",
      "_model_module_version": "1.5.0",
      "_model_name": "HBoxModel",
      "_view_count": null,
      "_view_module": "@jupyter-widgets/controls",
      "_view_module_version": "1.5.0",
      "_view_name": "HBoxView",
      "box_style": "",
      "children": [
       "IPY_MODEL_73b308cf7b004f1bb80cf85abcaa2543",
       "IPY_MODEL_2a9a9b8927d443048ed49dd0d1515d58"
      ],
      "layout": "IPY_MODEL_d26bc118160647a1bfe45f1f7a008f8d"
     }
    },
    "3c8cdedbdf274baeb432729f3037c7c2": {
     "model_module": "@jupyter-widgets/controls",
     "model_name": "DescriptionStyleModel",
     "state": {
      "_model_module": "@jupyter-widgets/controls",
      "_model_module_version": "1.5.0",
      "_model_name": "DescriptionStyleModel",
      "_view_count": null,
      "_view_module": "@jupyter-widgets/base",
      "_view_module_version": "1.2.0",
      "_view_name": "StyleView",
      "description_width": ""
     }
    },
    "4823ab2f409642dc98c753dfe7c33f7b": {
     "model_module": "@jupyter-widgets/base",
     "model_name": "LayoutModel",
     "state": {
      "_model_module": "@jupyter-widgets/base",
      "_model_module_version": "1.2.0",
      "_model_name": "LayoutModel",
      "_view_count": null,
      "_view_module": "@jupyter-widgets/base",
      "_view_module_version": "1.2.0",
      "_view_name": "LayoutView",
      "align_content": null,
      "align_items": null,
      "align_self": null,
      "border": null,
      "bottom": null,
      "display": null,
      "flex": null,
      "flex_flow": null,
      "grid_area": null,
      "grid_auto_columns": null,
      "grid_auto_flow": null,
      "grid_auto_rows": null,
      "grid_column": null,
      "grid_gap": null,
      "grid_row": null,
      "grid_template_areas": null,
      "grid_template_columns": null,
      "grid_template_rows": null,
      "height": null,
      "justify_content": null,
      "justify_items": null,
      "left": null,
      "margin": null,
      "max_height": null,
      "max_width": null,
      "min_height": null,
      "min_width": null,
      "object_fit": null,
      "object_position": null,
      "order": null,
      "overflow": null,
      "overflow_x": null,
      "overflow_y": null,
      "padding": null,
      "right": null,
      "top": null,
      "visibility": null,
      "width": null
     }
    },
    "4882b6827a674aa3b7c3c0e89a5386d5": {
     "model_module": "@jupyter-widgets/controls",
     "model_name": "DescriptionStyleModel",
     "state": {
      "_model_module": "@jupyter-widgets/controls",
      "_model_module_version": "1.5.0",
      "_model_name": "DescriptionStyleModel",
      "_view_count": null,
      "_view_module": "@jupyter-widgets/base",
      "_view_module_version": "1.2.0",
      "_view_name": "StyleView",
      "description_width": ""
     }
    },
    "49dee8737c36467bbb28f87d5d99ebbe": {
     "model_module": "@jupyter-widgets/controls",
     "model_name": "ProgressStyleModel",
     "state": {
      "_model_module": "@jupyter-widgets/controls",
      "_model_module_version": "1.5.0",
      "_model_name": "ProgressStyleModel",
      "_view_count": null,
      "_view_module": "@jupyter-widgets/base",
      "_view_module_version": "1.2.0",
      "_view_name": "StyleView",
      "bar_color": null,
      "description_width": "initial"
     }
    },
    "573a09a3299c4be88045d51c39081591": {
     "model_module": "@jupyter-widgets/base",
     "model_name": "LayoutModel",
     "state": {
      "_model_module": "@jupyter-widgets/base",
      "_model_module_version": "1.2.0",
      "_model_name": "LayoutModel",
      "_view_count": null,
      "_view_module": "@jupyter-widgets/base",
      "_view_module_version": "1.2.0",
      "_view_name": "LayoutView",
      "align_content": null,
      "align_items": null,
      "align_self": null,
      "border": null,
      "bottom": null,
      "display": null,
      "flex": null,
      "flex_flow": null,
      "grid_area": null,
      "grid_auto_columns": null,
      "grid_auto_flow": null,
      "grid_auto_rows": null,
      "grid_column": null,
      "grid_gap": null,
      "grid_row": null,
      "grid_template_areas": null,
      "grid_template_columns": null,
      "grid_template_rows": null,
      "height": null,
      "justify_content": null,
      "justify_items": null,
      "left": null,
      "margin": null,
      "max_height": null,
      "max_width": null,
      "min_height": null,
      "min_width": null,
      "object_fit": null,
      "object_position": null,
      "order": null,
      "overflow": null,
      "overflow_x": null,
      "overflow_y": null,
      "padding": null,
      "right": null,
      "top": null,
      "visibility": null,
      "width": null
     }
    },
    "578c11698a56490292b132bb4e8d8e6f": {
     "model_module": "@jupyter-widgets/controls",
     "model_name": "ProgressStyleModel",
     "state": {
      "_model_module": "@jupyter-widgets/controls",
      "_model_module_version": "1.5.0",
      "_model_name": "ProgressStyleModel",
      "_view_count": null,
      "_view_module": "@jupyter-widgets/base",
      "_view_module_version": "1.2.0",
      "_view_name": "StyleView",
      "bar_color": null,
      "description_width": "initial"
     }
    },
    "58384eb716db4d88bbfaa028870a686a": {
     "model_module": "@jupyter-widgets/controls",
     "model_name": "DescriptionStyleModel",
     "state": {
      "_model_module": "@jupyter-widgets/controls",
      "_model_module_version": "1.5.0",
      "_model_name": "DescriptionStyleModel",
      "_view_count": null,
      "_view_module": "@jupyter-widgets/base",
      "_view_module_version": "1.2.0",
      "_view_name": "StyleView",
      "description_width": ""
     }
    },
    "6023f3270b6548568f69cf8a08ea4548": {
     "model_module": "@jupyter-widgets/controls",
     "model_name": "DescriptionStyleModel",
     "state": {
      "_model_module": "@jupyter-widgets/controls",
      "_model_module_version": "1.5.0",
      "_model_name": "DescriptionStyleModel",
      "_view_count": null,
      "_view_module": "@jupyter-widgets/base",
      "_view_module_version": "1.2.0",
      "_view_name": "StyleView",
      "description_width": ""
     }
    },
    "6034f7cb9a5a4f659047f4e6139062dc": {
     "model_module": "@jupyter-widgets/base",
     "model_name": "LayoutModel",
     "state": {
      "_model_module": "@jupyter-widgets/base",
      "_model_module_version": "1.2.0",
      "_model_name": "LayoutModel",
      "_view_count": null,
      "_view_module": "@jupyter-widgets/base",
      "_view_module_version": "1.2.0",
      "_view_name": "LayoutView",
      "align_content": null,
      "align_items": null,
      "align_self": null,
      "border": null,
      "bottom": null,
      "display": null,
      "flex": null,
      "flex_flow": null,
      "grid_area": null,
      "grid_auto_columns": null,
      "grid_auto_flow": null,
      "grid_auto_rows": null,
      "grid_column": null,
      "grid_gap": null,
      "grid_row": null,
      "grid_template_areas": null,
      "grid_template_columns": null,
      "grid_template_rows": null,
      "height": null,
      "justify_content": null,
      "justify_items": null,
      "left": null,
      "margin": null,
      "max_height": null,
      "max_width": null,
      "min_height": null,
      "min_width": null,
      "object_fit": null,
      "object_position": null,
      "order": null,
      "overflow": null,
      "overflow_x": null,
      "overflow_y": null,
      "padding": null,
      "right": null,
      "top": null,
      "visibility": null,
      "width": null
     }
    },
    "61b612c938304d1898febc7a0fa13083": {
     "model_module": "@jupyter-widgets/base",
     "model_name": "LayoutModel",
     "state": {
      "_model_module": "@jupyter-widgets/base",
      "_model_module_version": "1.2.0",
      "_model_name": "LayoutModel",
      "_view_count": null,
      "_view_module": "@jupyter-widgets/base",
      "_view_module_version": "1.2.0",
      "_view_name": "LayoutView",
      "align_content": null,
      "align_items": null,
      "align_self": null,
      "border": null,
      "bottom": null,
      "display": null,
      "flex": null,
      "flex_flow": null,
      "grid_area": null,
      "grid_auto_columns": null,
      "grid_auto_flow": null,
      "grid_auto_rows": null,
      "grid_column": null,
      "grid_gap": null,
      "grid_row": null,
      "grid_template_areas": null,
      "grid_template_columns": null,
      "grid_template_rows": null,
      "height": null,
      "justify_content": null,
      "justify_items": null,
      "left": null,
      "margin": null,
      "max_height": null,
      "max_width": null,
      "min_height": null,
      "min_width": null,
      "object_fit": null,
      "object_position": null,
      "order": null,
      "overflow": null,
      "overflow_x": null,
      "overflow_y": null,
      "padding": null,
      "right": null,
      "top": null,
      "visibility": null,
      "width": null
     }
    },
    "6bc4edb3b1ae46b2b87fbc51da6c27ef": {
     "model_module": "@jupyter-widgets/base",
     "model_name": "LayoutModel",
     "state": {
      "_model_module": "@jupyter-widgets/base",
      "_model_module_version": "1.2.0",
      "_model_name": "LayoutModel",
      "_view_count": null,
      "_view_module": "@jupyter-widgets/base",
      "_view_module_version": "1.2.0",
      "_view_name": "LayoutView",
      "align_content": null,
      "align_items": null,
      "align_self": null,
      "border": null,
      "bottom": null,
      "display": null,
      "flex": null,
      "flex_flow": null,
      "grid_area": null,
      "grid_auto_columns": null,
      "grid_auto_flow": null,
      "grid_auto_rows": null,
      "grid_column": null,
      "grid_gap": null,
      "grid_row": null,
      "grid_template_areas": null,
      "grid_template_columns": null,
      "grid_template_rows": null,
      "height": null,
      "justify_content": null,
      "justify_items": null,
      "left": null,
      "margin": null,
      "max_height": null,
      "max_width": null,
      "min_height": null,
      "min_width": null,
      "object_fit": null,
      "object_position": null,
      "order": null,
      "overflow": null,
      "overflow_x": null,
      "overflow_y": null,
      "padding": null,
      "right": null,
      "top": null,
      "visibility": null,
      "width": null
     }
    },
    "6f4c3e393b684144a6b3f176154b45ea": {
     "model_module": "@jupyter-widgets/base",
     "model_name": "LayoutModel",
     "state": {
      "_model_module": "@jupyter-widgets/base",
      "_model_module_version": "1.2.0",
      "_model_name": "LayoutModel",
      "_view_count": null,
      "_view_module": "@jupyter-widgets/base",
      "_view_module_version": "1.2.0",
      "_view_name": "LayoutView",
      "align_content": null,
      "align_items": null,
      "align_self": null,
      "border": null,
      "bottom": null,
      "display": null,
      "flex": null,
      "flex_flow": null,
      "grid_area": null,
      "grid_auto_columns": null,
      "grid_auto_flow": null,
      "grid_auto_rows": null,
      "grid_column": null,
      "grid_gap": null,
      "grid_row": null,
      "grid_template_areas": null,
      "grid_template_columns": null,
      "grid_template_rows": null,
      "height": null,
      "justify_content": null,
      "justify_items": null,
      "left": null,
      "margin": null,
      "max_height": null,
      "max_width": null,
      "min_height": null,
      "min_width": null,
      "object_fit": null,
      "object_position": null,
      "order": null,
      "overflow": null,
      "overflow_x": null,
      "overflow_y": null,
      "padding": null,
      "right": null,
      "top": null,
      "visibility": null,
      "width": null
     }
    },
    "6f5f9394ce4f47f7b70d5dcda8b3d643": {
     "model_module": "@jupyter-widgets/controls",
     "model_name": "HBoxModel",
     "state": {
      "_dom_classes": [],
      "_model_module": "@jupyter-widgets/controls",
      "_model_module_version": "1.5.0",
      "_model_name": "HBoxModel",
      "_view_count": null,
      "_view_module": "@jupyter-widgets/controls",
      "_view_module_version": "1.5.0",
      "_view_name": "HBoxView",
      "box_style": "",
      "children": [
       "IPY_MODEL_c63e4861f3b44523b3974f77942a1a43",
       "IPY_MODEL_a5de021e0ae94eb1ac3c7cd68655ea42"
      ],
      "layout": "IPY_MODEL_e0b0726dea7f4560a15842140663d118"
     }
    },
    "70e192b5721f43aa813ec15d0941bbaf": {
     "model_module": "@jupyter-widgets/controls",
     "model_name": "DescriptionStyleModel",
     "state": {
      "_model_module": "@jupyter-widgets/controls",
      "_model_module_version": "1.5.0",
      "_model_name": "DescriptionStyleModel",
      "_view_count": null,
      "_view_module": "@jupyter-widgets/base",
      "_view_module_version": "1.2.0",
      "_view_name": "StyleView",
      "description_width": ""
     }
    },
    "73b308cf7b004f1bb80cf85abcaa2543": {
     "model_module": "@jupyter-widgets/controls",
     "model_name": "FloatProgressModel",
     "state": {
      "_dom_classes": [],
      "_model_module": "@jupyter-widgets/controls",
      "_model_module_version": "1.5.0",
      "_model_name": "FloatProgressModel",
      "_view_count": null,
      "_view_module": "@jupyter-widgets/controls",
      "_view_module_version": "1.5.0",
      "_view_name": "ProgressView",
      "bar_style": "success",
      "description": "Processing: 100%",
      "description_tooltip": null,
      "layout": "IPY_MODEL_6bc4edb3b1ae46b2b87fbc51da6c27ef",
      "max": 4550,
      "min": 0,
      "orientation": "horizontal",
      "style": "IPY_MODEL_dd7ca99a66d14ff0b82422918a4e3b6b",
      "value": 4550
     }
    },
    "73ca1a84f86f4525b55d8019807264e3": {
     "model_module": "@jupyter-widgets/controls",
     "model_name": "HTMLModel",
     "state": {
      "_dom_classes": [],
      "_model_module": "@jupyter-widgets/controls",
      "_model_module_version": "1.5.0",
      "_model_name": "HTMLModel",
      "_view_count": null,
      "_view_module": "@jupyter-widgets/controls",
      "_view_module_version": "1.5.0",
      "_view_name": "HTMLView",
      "description": "",
      "description_tooltip": null,
      "layout": "IPY_MODEL_573a09a3299c4be88045d51c39081591",
      "placeholder": "​",
      "style": "IPY_MODEL_afdd9c670ada49f1bbe2ddd87831a0e9",
      "value": " 6/6 [06:09&lt;00:00, 61.62s/Files]"
     }
    },
    "7b2ef8425a2b4649940a4dd4f6712895": {
     "model_module": "@jupyter-widgets/controls",
     "model_name": "FloatProgressModel",
     "state": {
      "_dom_classes": [],
      "_model_module": "@jupyter-widgets/controls",
      "_model_module_version": "1.5.0",
      "_model_name": "FloatProgressModel",
      "_view_count": null,
      "_view_module": "@jupyter-widgets/controls",
      "_view_module_version": "1.5.0",
      "_view_name": "ProgressView",
      "bar_style": "success",
      "description": "100%",
      "description_tooltip": null,
      "layout": "IPY_MODEL_24cf92e42eb0410bbf18f1506bb5f636",
      "max": 1079,
      "min": 0,
      "orientation": "horizontal",
      "style": "IPY_MODEL_df45f95e049041b7b07adc72b966e2e8",
      "value": 1079
     }
    },
    "7c6852e4ba8443d3bc70f7b7ec21b06d": {
     "model_module": "@jupyter-widgets/controls",
     "model_name": "FloatProgressModel",
     "state": {
      "_dom_classes": [],
      "_model_module": "@jupyter-widgets/controls",
      "_model_module_version": "1.5.0",
      "_model_name": "FloatProgressModel",
      "_view_count": null,
      "_view_module": "@jupyter-widgets/controls",
      "_view_module_version": "1.5.0",
      "_view_name": "ProgressView",
      "bar_style": "success",
      "description": "Processing: 100%",
      "description_tooltip": null,
      "layout": "IPY_MODEL_820a219d3906472c93d9992c69a33bf9",
      "max": 777,
      "min": 0,
      "orientation": "horizontal",
      "style": "IPY_MODEL_49dee8737c36467bbb28f87d5d99ebbe",
      "value": 777
     }
    },
    "7e4b44c501b748e48700b1cadf2c1b00": {
     "model_module": "@jupyter-widgets/controls",
     "model_name": "ProgressStyleModel",
     "state": {
      "_model_module": "@jupyter-widgets/controls",
      "_model_module_version": "1.5.0",
      "_model_name": "ProgressStyleModel",
      "_view_count": null,
      "_view_module": "@jupyter-widgets/base",
      "_view_module_version": "1.2.0",
      "_view_name": "StyleView",
      "bar_color": null,
      "description_width": "initial"
     }
    },
    "820a219d3906472c93d9992c69a33bf9": {
     "model_module": "@jupyter-widgets/base",
     "model_name": "LayoutModel",
     "state": {
      "_model_module": "@jupyter-widgets/base",
      "_model_module_version": "1.2.0",
      "_model_name": "LayoutModel",
      "_view_count": null,
      "_view_module": "@jupyter-widgets/base",
      "_view_module_version": "1.2.0",
      "_view_name": "LayoutView",
      "align_content": null,
      "align_items": null,
      "align_self": null,
      "border": null,
      "bottom": null,
      "display": null,
      "flex": null,
      "flex_flow": null,
      "grid_area": null,
      "grid_auto_columns": null,
      "grid_auto_flow": null,
      "grid_auto_rows": null,
      "grid_column": null,
      "grid_gap": null,
      "grid_row": null,
      "grid_template_areas": null,
      "grid_template_columns": null,
      "grid_template_rows": null,
      "height": null,
      "justify_content": null,
      "justify_items": null,
      "left": null,
      "margin": null,
      "max_height": null,
      "max_width": null,
      "min_height": null,
      "min_width": null,
      "object_fit": null,
      "object_position": null,
      "order": null,
      "overflow": null,
      "overflow_x": null,
      "overflow_y": null,
      "padding": null,
      "right": null,
      "top": null,
      "visibility": null,
      "width": null
     }
    },
    "82dd5b0704e84024861fff23d6245acd": {
     "model_module": "@jupyter-widgets/base",
     "model_name": "LayoutModel",
     "state": {
      "_model_module": "@jupyter-widgets/base",
      "_model_module_version": "1.2.0",
      "_model_name": "LayoutModel",
      "_view_count": null,
      "_view_module": "@jupyter-widgets/base",
      "_view_module_version": "1.2.0",
      "_view_name": "LayoutView",
      "align_content": null,
      "align_items": null,
      "align_self": null,
      "border": null,
      "bottom": null,
      "display": null,
      "flex": null,
      "flex_flow": null,
      "grid_area": null,
      "grid_auto_columns": null,
      "grid_auto_flow": null,
      "grid_auto_rows": null,
      "grid_column": null,
      "grid_gap": null,
      "grid_row": null,
      "grid_template_areas": null,
      "grid_template_columns": null,
      "grid_template_rows": null,
      "height": null,
      "justify_content": null,
      "justify_items": null,
      "left": null,
      "margin": null,
      "max_height": null,
      "max_width": null,
      "min_height": null,
      "min_width": null,
      "object_fit": null,
      "object_position": null,
      "order": null,
      "overflow": null,
      "overflow_x": null,
      "overflow_y": null,
      "padding": null,
      "right": null,
      "top": null,
      "visibility": null,
      "width": null
     }
    },
    "839ed6a6aa734b058e97bc9cf49d0c25": {
     "model_module": "@jupyter-widgets/controls",
     "model_name": "ProgressStyleModel",
     "state": {
      "_model_module": "@jupyter-widgets/controls",
      "_model_module_version": "1.5.0",
      "_model_name": "ProgressStyleModel",
      "_view_count": null,
      "_view_module": "@jupyter-widgets/base",
      "_view_module_version": "1.2.0",
      "_view_name": "StyleView",
      "bar_color": null,
      "description_width": "initial"
     }
    },
    "840dc51ab85b4ab18f98542237d89e55": {
     "model_module": "@jupyter-widgets/base",
     "model_name": "LayoutModel",
     "state": {
      "_model_module": "@jupyter-widgets/base",
      "_model_module_version": "1.2.0",
      "_model_name": "LayoutModel",
      "_view_count": null,
      "_view_module": "@jupyter-widgets/base",
      "_view_module_version": "1.2.0",
      "_view_name": "LayoutView",
      "align_content": null,
      "align_items": null,
      "align_self": null,
      "border": null,
      "bottom": null,
      "display": null,
      "flex": null,
      "flex_flow": null,
      "grid_area": null,
      "grid_auto_columns": null,
      "grid_auto_flow": null,
      "grid_auto_rows": null,
      "grid_column": null,
      "grid_gap": null,
      "grid_row": null,
      "grid_template_areas": null,
      "grid_template_columns": null,
      "grid_template_rows": null,
      "height": null,
      "justify_content": null,
      "justify_items": null,
      "left": null,
      "margin": null,
      "max_height": null,
      "max_width": null,
      "min_height": null,
      "min_width": null,
      "object_fit": null,
      "object_position": null,
      "order": null,
      "overflow": null,
      "overflow_x": null,
      "overflow_y": null,
      "padding": null,
      "right": null,
      "top": null,
      "visibility": null,
      "width": null
     }
    },
    "85100c95a9aa46e093863f680bc9c63b": {
     "model_module": "@jupyter-widgets/base",
     "model_name": "LayoutModel",
     "state": {
      "_model_module": "@jupyter-widgets/base",
      "_model_module_version": "1.2.0",
      "_model_name": "LayoutModel",
      "_view_count": null,
      "_view_module": "@jupyter-widgets/base",
      "_view_module_version": "1.2.0",
      "_view_name": "LayoutView",
      "align_content": null,
      "align_items": null,
      "align_self": null,
      "border": null,
      "bottom": null,
      "display": null,
      "flex": null,
      "flex_flow": null,
      "grid_area": null,
      "grid_auto_columns": null,
      "grid_auto_flow": null,
      "grid_auto_rows": null,
      "grid_column": null,
      "grid_gap": null,
      "grid_row": null,
      "grid_template_areas": null,
      "grid_template_columns": null,
      "grid_template_rows": null,
      "height": null,
      "justify_content": null,
      "justify_items": null,
      "left": null,
      "margin": null,
      "max_height": null,
      "max_width": null,
      "min_height": null,
      "min_width": null,
      "object_fit": null,
      "object_position": null,
      "order": null,
      "overflow": null,
      "overflow_x": null,
      "overflow_y": null,
      "padding": null,
      "right": null,
      "top": null,
      "visibility": null,
      "width": null
     }
    },
    "8bd2391fadd94ddab0f5c5994974affc": {
     "model_module": "@jupyter-widgets/controls",
     "model_name": "HBoxModel",
     "state": {
      "_dom_classes": [],
      "_model_module": "@jupyter-widgets/controls",
      "_model_module_version": "1.5.0",
      "_model_name": "HBoxModel",
      "_view_count": null,
      "_view_module": "@jupyter-widgets/controls",
      "_view_module_version": "1.5.0",
      "_view_name": "HBoxView",
      "box_style": "",
      "children": [
       "IPY_MODEL_0ef44120394f4e24aa526fb9dcd7e56b",
       "IPY_MODEL_d3a398f65608484bba9476f1b37f19ee"
      ],
      "layout": "IPY_MODEL_85100c95a9aa46e093863f680bc9c63b"
     }
    },
    "8d37c5dcc812492787c15ada4df72c3b": {
     "model_module": "@jupyter-widgets/controls",
     "model_name": "FloatProgressModel",
     "state": {
      "_dom_classes": [],
      "_model_module": "@jupyter-widgets/controls",
      "_model_module_version": "1.5.0",
      "_model_name": "FloatProgressModel",
      "_view_count": null,
      "_view_module": "@jupyter-widgets/controls",
      "_view_module_version": "1.5.0",
      "_view_name": "ProgressView",
      "bar_style": "success",
      "description": "100%",
      "description_tooltip": null,
      "layout": "IPY_MODEL_bc3fa8d0fea646bda5d31b38739e6cdb",
      "max": 1079,
      "min": 0,
      "orientation": "horizontal",
      "style": "IPY_MODEL_578c11698a56490292b132bb4e8d8e6f",
      "value": 1079
     }
    },
    "9474b73bc47a4069bcbd9aafb1749cca": {
     "model_module": "@jupyter-widgets/controls",
     "model_name": "DescriptionStyleModel",
     "state": {
      "_model_module": "@jupyter-widgets/controls",
      "_model_module_version": "1.5.0",
      "_model_name": "DescriptionStyleModel",
      "_view_count": null,
      "_view_module": "@jupyter-widgets/base",
      "_view_module_version": "1.2.0",
      "_view_name": "StyleView",
      "description_width": ""
     }
    },
    "981d534b71864ef3ac101acad46f7d08": {
     "model_module": "@jupyter-widgets/controls",
     "model_name": "FloatProgressModel",
     "state": {
      "_dom_classes": [],
      "_model_module": "@jupyter-widgets/controls",
      "_model_module_version": "1.5.0",
      "_model_name": "FloatProgressModel",
      "_view_count": null,
      "_view_module": "@jupyter-widgets/controls",
      "_view_module_version": "1.5.0",
      "_view_name": "ProgressView",
      "bar_style": "success",
      "description": "Processing: 100%",
      "description_tooltip": null,
      "layout": "IPY_MODEL_ee911c22a2c7498c804a12f8e85aa8fc",
      "max": 3106,
      "min": 0,
      "orientation": "horizontal",
      "style": "IPY_MODEL_839ed6a6aa734b058e97bc9cf49d0c25",
      "value": 3106
     }
    },
    "98bbcd968f8e44baad05d7e8242a9703": {
     "model_module": "@jupyter-widgets/controls",
     "model_name": "ProgressStyleModel",
     "state": {
      "_model_module": "@jupyter-widgets/controls",
      "_model_module_version": "1.5.0",
      "_model_name": "ProgressStyleModel",
      "_view_count": null,
      "_view_module": "@jupyter-widgets/base",
      "_view_module_version": "1.2.0",
      "_view_name": "StyleView",
      "bar_color": null,
      "description_width": "initial"
     }
    },
    "9cd87d2c332342d0a18a9ef40b798c61": {
     "model_module": "@jupyter-widgets/base",
     "model_name": "LayoutModel",
     "state": {
      "_model_module": "@jupyter-widgets/base",
      "_model_module_version": "1.2.0",
      "_model_name": "LayoutModel",
      "_view_count": null,
      "_view_module": "@jupyter-widgets/base",
      "_view_module_version": "1.2.0",
      "_view_name": "LayoutView",
      "align_content": null,
      "align_items": null,
      "align_self": null,
      "border": null,
      "bottom": null,
      "display": null,
      "flex": null,
      "flex_flow": null,
      "grid_area": null,
      "grid_auto_columns": null,
      "grid_auto_flow": null,
      "grid_auto_rows": null,
      "grid_column": null,
      "grid_gap": null,
      "grid_row": null,
      "grid_template_areas": null,
      "grid_template_columns": null,
      "grid_template_rows": null,
      "height": null,
      "justify_content": null,
      "justify_items": null,
      "left": null,
      "margin": null,
      "max_height": null,
      "max_width": null,
      "min_height": null,
      "min_width": null,
      "object_fit": null,
      "object_position": null,
      "order": null,
      "overflow": null,
      "overflow_x": null,
      "overflow_y": null,
      "padding": null,
      "right": null,
      "top": null,
      "visibility": null,
      "width": null
     }
    },
    "9f81d81ff7214aa094814cd24e1facbf": {
     "model_module": "@jupyter-widgets/base",
     "model_name": "LayoutModel",
     "state": {
      "_model_module": "@jupyter-widgets/base",
      "_model_module_version": "1.2.0",
      "_model_name": "LayoutModel",
      "_view_count": null,
      "_view_module": "@jupyter-widgets/base",
      "_view_module_version": "1.2.0",
      "_view_name": "LayoutView",
      "align_content": null,
      "align_items": null,
      "align_self": null,
      "border": null,
      "bottom": null,
      "display": null,
      "flex": null,
      "flex_flow": null,
      "grid_area": null,
      "grid_auto_columns": null,
      "grid_auto_flow": null,
      "grid_auto_rows": null,
      "grid_column": null,
      "grid_gap": null,
      "grid_row": null,
      "grid_template_areas": null,
      "grid_template_columns": null,
      "grid_template_rows": null,
      "height": null,
      "justify_content": null,
      "justify_items": null,
      "left": null,
      "margin": null,
      "max_height": null,
      "max_width": null,
      "min_height": null,
      "min_width": null,
      "object_fit": null,
      "object_position": null,
      "order": null,
      "overflow": null,
      "overflow_x": null,
      "overflow_y": null,
      "padding": null,
      "right": null,
      "top": null,
      "visibility": null,
      "width": null
     }
    },
    "9faff684a2c94ac780334985737b9577": {
     "model_module": "@jupyter-widgets/controls",
     "model_name": "ProgressStyleModel",
     "state": {
      "_model_module": "@jupyter-widgets/controls",
      "_model_module_version": "1.5.0",
      "_model_name": "ProgressStyleModel",
      "_view_count": null,
      "_view_module": "@jupyter-widgets/base",
      "_view_module_version": "1.2.0",
      "_view_name": "StyleView",
      "bar_color": null,
      "description_width": "initial"
     }
    },
    "a584fc6f46f74c899801f6e2fedac60f": {
     "model_module": "@jupyter-widgets/base",
     "model_name": "LayoutModel",
     "state": {
      "_model_module": "@jupyter-widgets/base",
      "_model_module_version": "1.2.0",
      "_model_name": "LayoutModel",
      "_view_count": null,
      "_view_module": "@jupyter-widgets/base",
      "_view_module_version": "1.2.0",
      "_view_name": "LayoutView",
      "align_content": null,
      "align_items": null,
      "align_self": null,
      "border": null,
      "bottom": null,
      "display": null,
      "flex": null,
      "flex_flow": null,
      "grid_area": null,
      "grid_auto_columns": null,
      "grid_auto_flow": null,
      "grid_auto_rows": null,
      "grid_column": null,
      "grid_gap": null,
      "grid_row": null,
      "grid_template_areas": null,
      "grid_template_columns": null,
      "grid_template_rows": null,
      "height": null,
      "justify_content": null,
      "justify_items": null,
      "left": null,
      "margin": null,
      "max_height": null,
      "max_width": null,
      "min_height": null,
      "min_width": null,
      "object_fit": null,
      "object_position": null,
      "order": null,
      "overflow": null,
      "overflow_x": null,
      "overflow_y": null,
      "padding": null,
      "right": null,
      "top": null,
      "visibility": null,
      "width": null
     }
    },
    "a5de021e0ae94eb1ac3c7cd68655ea42": {
     "model_module": "@jupyter-widgets/controls",
     "model_name": "HTMLModel",
     "state": {
      "_dom_classes": [],
      "_model_module": "@jupyter-widgets/controls",
      "_model_module_version": "1.5.0",
      "_model_name": "HTMLModel",
      "_view_count": null,
      "_view_module": "@jupyter-widgets/controls",
      "_view_module_version": "1.5.0",
      "_view_name": "HTMLView",
      "description": "",
      "description_tooltip": null,
      "layout": "IPY_MODEL_daafda8b89e741e68c1c8e8a51197200",
      "placeholder": "​",
      "style": "IPY_MODEL_58384eb716db4d88bbfaa028870a686a",
      "value": " 390/390 [00:06&lt;00:00, 62.48files/s]"
     }
    },
    "a5fa71c287eb41aaa7f49c5f82a4aafe": {
     "model_module": "@jupyter-widgets/controls",
     "model_name": "FloatProgressModel",
     "state": {
      "_dom_classes": [],
      "_model_module": "@jupyter-widgets/controls",
      "_model_module_version": "1.5.0",
      "_model_name": "FloatProgressModel",
      "_view_count": null,
      "_view_module": "@jupyter-widgets/controls",
      "_view_module_version": "1.5.0",
      "_view_name": "ProgressView",
      "bar_style": "success",
      "description": "100%",
      "description_tooltip": null,
      "layout": "IPY_MODEL_a584fc6f46f74c899801f6e2fedac60f",
      "max": 3107,
      "min": 0,
      "orientation": "horizontal",
      "style": "IPY_MODEL_98bbcd968f8e44baad05d7e8242a9703",
      "value": 3107
     }
    },
    "adb4e7d9e3be4f96985fd23d21b45714": {
     "model_module": "@jupyter-widgets/controls",
     "model_name": "ProgressStyleModel",
     "state": {
      "_model_module": "@jupyter-widgets/controls",
      "_model_module_version": "1.5.0",
      "_model_name": "ProgressStyleModel",
      "_view_count": null,
      "_view_module": "@jupyter-widgets/base",
      "_view_module_version": "1.2.0",
      "_view_name": "StyleView",
      "bar_color": null,
      "description_width": "initial"
     }
    },
    "afdd9c670ada49f1bbe2ddd87831a0e9": {
     "model_module": "@jupyter-widgets/controls",
     "model_name": "DescriptionStyleModel",
     "state": {
      "_model_module": "@jupyter-widgets/controls",
      "_model_module_version": "1.5.0",
      "_model_name": "DescriptionStyleModel",
      "_view_count": null,
      "_view_module": "@jupyter-widgets/base",
      "_view_module_version": "1.2.0",
      "_view_name": "StyleView",
      "description_width": ""
     }
    },
    "b00fab26ec7b4050b38e6d5eb2146157": {
     "model_module": "@jupyter-widgets/controls",
     "model_name": "HBoxModel",
     "state": {
      "_dom_classes": [],
      "_model_module": "@jupyter-widgets/controls",
      "_model_module_version": "1.5.0",
      "_model_name": "HBoxModel",
      "_view_count": null,
      "_view_module": "@jupyter-widgets/controls",
      "_view_module_version": "1.5.0",
      "_view_name": "HBoxView",
      "box_style": "",
      "children": [
       "IPY_MODEL_e1411211ef5b4038926b6e42e4b52653",
       "IPY_MODEL_73ca1a84f86f4525b55d8019807264e3"
      ],
      "layout": "IPY_MODEL_1d1f2036248e455d8a23aa6c703f20a7"
     }
    },
    "b93a0367c0be434d8a5e9cb43a38dd14": {
     "model_module": "@jupyter-widgets/controls",
     "model_name": "HTMLModel",
     "state": {
      "_dom_classes": [],
      "_model_module": "@jupyter-widgets/controls",
      "_model_module_version": "1.5.0",
      "_model_name": "HTMLModel",
      "_view_count": null,
      "_view_module": "@jupyter-widgets/controls",
      "_view_module_version": "1.5.0",
      "_view_name": "HTMLView",
      "description": "",
      "description_tooltip": null,
      "layout": "IPY_MODEL_bda37178eb2744e5a1b534b05178e2f7",
      "placeholder": "​",
      "style": "IPY_MODEL_4882b6827a674aa3b7c3c0e89a5386d5",
      "value": " 1079/1079 [04:38&lt;00:00,  3.88it/s]"
     }
    },
    "bc3fa8d0fea646bda5d31b38739e6cdb": {
     "model_module": "@jupyter-widgets/base",
     "model_name": "LayoutModel",
     "state": {
      "_model_module": "@jupyter-widgets/base",
      "_model_module_version": "1.2.0",
      "_model_name": "LayoutModel",
      "_view_count": null,
      "_view_module": "@jupyter-widgets/base",
      "_view_module_version": "1.2.0",
      "_view_name": "LayoutView",
      "align_content": null,
      "align_items": null,
      "align_self": null,
      "border": null,
      "bottom": null,
      "display": null,
      "flex": null,
      "flex_flow": null,
      "grid_area": null,
      "grid_auto_columns": null,
      "grid_auto_flow": null,
      "grid_auto_rows": null,
      "grid_column": null,
      "grid_gap": null,
      "grid_row": null,
      "grid_template_areas": null,
      "grid_template_columns": null,
      "grid_template_rows": null,
      "height": null,
      "justify_content": null,
      "justify_items": null,
      "left": null,
      "margin": null,
      "max_height": null,
      "max_width": null,
      "min_height": null,
      "min_width": null,
      "object_fit": null,
      "object_position": null,
      "order": null,
      "overflow": null,
      "overflow_x": null,
      "overflow_y": null,
      "padding": null,
      "right": null,
      "top": null,
      "visibility": null,
      "width": null
     }
    },
    "bda37178eb2744e5a1b534b05178e2f7": {
     "model_module": "@jupyter-widgets/base",
     "model_name": "LayoutModel",
     "state": {
      "_model_module": "@jupyter-widgets/base",
      "_model_module_version": "1.2.0",
      "_model_name": "LayoutModel",
      "_view_count": null,
      "_view_module": "@jupyter-widgets/base",
      "_view_module_version": "1.2.0",
      "_view_name": "LayoutView",
      "align_content": null,
      "align_items": null,
      "align_self": null,
      "border": null,
      "bottom": null,
      "display": null,
      "flex": null,
      "flex_flow": null,
      "grid_area": null,
      "grid_auto_columns": null,
      "grid_auto_flow": null,
      "grid_auto_rows": null,
      "grid_column": null,
      "grid_gap": null,
      "grid_row": null,
      "grid_template_areas": null,
      "grid_template_columns": null,
      "grid_template_rows": null,
      "height": null,
      "justify_content": null,
      "justify_items": null,
      "left": null,
      "margin": null,
      "max_height": null,
      "max_width": null,
      "min_height": null,
      "min_width": null,
      "object_fit": null,
      "object_position": null,
      "order": null,
      "overflow": null,
      "overflow_x": null,
      "overflow_y": null,
      "padding": null,
      "right": null,
      "top": null,
      "visibility": null,
      "width": null
     }
    },
    "c4b4b6679fe045c6a251547b7046fcc6": {
     "model_module": "@jupyter-widgets/base",
     "model_name": "LayoutModel",
     "state": {
      "_model_module": "@jupyter-widgets/base",
      "_model_module_version": "1.2.0",
      "_model_name": "LayoutModel",
      "_view_count": null,
      "_view_module": "@jupyter-widgets/base",
      "_view_module_version": "1.2.0",
      "_view_name": "LayoutView",
      "align_content": null,
      "align_items": null,
      "align_self": null,
      "border": null,
      "bottom": null,
      "display": null,
      "flex": null,
      "flex_flow": null,
      "grid_area": null,
      "grid_auto_columns": null,
      "grid_auto_flow": null,
      "grid_auto_rows": null,
      "grid_column": null,
      "grid_gap": null,
      "grid_row": null,
      "grid_template_areas": null,
      "grid_template_columns": null,
      "grid_template_rows": null,
      "height": null,
      "justify_content": null,
      "justify_items": null,
      "left": null,
      "margin": null,
      "max_height": null,
      "max_width": null,
      "min_height": null,
      "min_width": null,
      "object_fit": null,
      "object_position": null,
      "order": null,
      "overflow": null,
      "overflow_x": null,
      "overflow_y": null,
      "padding": null,
      "right": null,
      "top": null,
      "visibility": null,
      "width": null
     }
    },
    "c63e4861f3b44523b3974f77942a1a43": {
     "model_module": "@jupyter-widgets/controls",
     "model_name": "FloatProgressModel",
     "state": {
      "_dom_classes": [],
      "_model_module": "@jupyter-widgets/controls",
      "_model_module_version": "1.5.0",
      "_model_name": "FloatProgressModel",
      "_view_count": null,
      "_view_module": "@jupyter-widgets/controls",
      "_view_module_version": "1.5.0",
      "_view_name": "ProgressView",
      "bar_style": "success",
      "description": "Processing: 100%",
      "description_tooltip": null,
      "layout": "IPY_MODEL_1c5db654c186479abac82bdd8364a82f",
      "max": 390,
      "min": 0,
      "orientation": "horizontal",
      "style": "IPY_MODEL_9faff684a2c94ac780334985737b9577",
      "value": 390
     }
    },
    "cf434cf2b5d54239a58a58aa6e53b275": {
     "model_module": "@jupyter-widgets/controls",
     "model_name": "HBoxModel",
     "state": {
      "_dom_classes": [],
      "_model_module": "@jupyter-widgets/controls",
      "_model_module_version": "1.5.0",
      "_model_name": "HBoxModel",
      "_view_count": null,
      "_view_module": "@jupyter-widgets/controls",
      "_view_module_version": "1.5.0",
      "_view_name": "HBoxView",
      "box_style": "",
      "children": [
       "IPY_MODEL_a5fa71c287eb41aaa7f49c5f82a4aafe",
       "IPY_MODEL_2f20d5232d784d72b3fd4dc2a77bf861"
      ],
      "layout": "IPY_MODEL_9f81d81ff7214aa094814cd24e1facbf"
     }
    },
    "d26bc118160647a1bfe45f1f7a008f8d": {
     "model_module": "@jupyter-widgets/base",
     "model_name": "LayoutModel",
     "state": {
      "_model_module": "@jupyter-widgets/base",
      "_model_module_version": "1.2.0",
      "_model_name": "LayoutModel",
      "_view_count": null,
      "_view_module": "@jupyter-widgets/base",
      "_view_module_version": "1.2.0",
      "_view_name": "LayoutView",
      "align_content": null,
      "align_items": null,
      "align_self": null,
      "border": null,
      "bottom": null,
      "display": null,
      "flex": null,
      "flex_flow": null,
      "grid_area": null,
      "grid_auto_columns": null,
      "grid_auto_flow": null,
      "grid_auto_rows": null,
      "grid_column": null,
      "grid_gap": null,
      "grid_row": null,
      "grid_template_areas": null,
      "grid_template_columns": null,
      "grid_template_rows": null,
      "height": null,
      "justify_content": null,
      "justify_items": null,
      "left": null,
      "margin": null,
      "max_height": null,
      "max_width": null,
      "min_height": null,
      "min_width": null,
      "object_fit": null,
      "object_position": null,
      "order": null,
      "overflow": null,
      "overflow_x": null,
      "overflow_y": null,
      "padding": null,
      "right": null,
      "top": null,
      "visibility": null,
      "width": null
     }
    },
    "d3a398f65608484bba9476f1b37f19ee": {
     "model_module": "@jupyter-widgets/controls",
     "model_name": "HTMLModel",
     "state": {
      "_dom_classes": [],
      "_model_module": "@jupyter-widgets/controls",
      "_model_module_version": "1.5.0",
      "_model_name": "HTMLModel",
      "_view_count": null,
      "_view_module": "@jupyter-widgets/controls",
      "_view_module_version": "1.5.0",
      "_view_name": "HTMLView",
      "description": "",
      "description_tooltip": null,
      "layout": "IPY_MODEL_840dc51ab85b4ab18f98542237d89e55",
      "placeholder": "​",
      "style": "IPY_MODEL_3c8cdedbdf274baeb432729f3037c7c2",
      "value": " 270/270 [00:14&lt;00:00, 19.26files/s]"
     }
    },
    "daafda8b89e741e68c1c8e8a51197200": {
     "model_module": "@jupyter-widgets/base",
     "model_name": "LayoutModel",
     "state": {
      "_model_module": "@jupyter-widgets/base",
      "_model_module_version": "1.2.0",
      "_model_name": "LayoutModel",
      "_view_count": null,
      "_view_module": "@jupyter-widgets/base",
      "_view_module_version": "1.2.0",
      "_view_name": "LayoutView",
      "align_content": null,
      "align_items": null,
      "align_self": null,
      "border": null,
      "bottom": null,
      "display": null,
      "flex": null,
      "flex_flow": null,
      "grid_area": null,
      "grid_auto_columns": null,
      "grid_auto_flow": null,
      "grid_auto_rows": null,
      "grid_column": null,
      "grid_gap": null,
      "grid_row": null,
      "grid_template_areas": null,
      "grid_template_columns": null,
      "grid_template_rows": null,
      "height": null,
      "justify_content": null,
      "justify_items": null,
      "left": null,
      "margin": null,
      "max_height": null,
      "max_width": null,
      "min_height": null,
      "min_width": null,
      "object_fit": null,
      "object_position": null,
      "order": null,
      "overflow": null,
      "overflow_x": null,
      "overflow_y": null,
      "padding": null,
      "right": null,
      "top": null,
      "visibility": null,
      "width": null
     }
    },
    "dbd1104544a24a9fb7823d349f87fafd": {
     "model_module": "@jupyter-widgets/controls",
     "model_name": "HTMLModel",
     "state": {
      "_dom_classes": [],
      "_model_module": "@jupyter-widgets/controls",
      "_model_module_version": "1.5.0",
      "_model_name": "HTMLModel",
      "_view_count": null,
      "_view_module": "@jupyter-widgets/controls",
      "_view_module_version": "1.5.0",
      "_view_name": "HTMLView",
      "description": "",
      "description_tooltip": null,
      "layout": "IPY_MODEL_0fd428ea2369431d9fcd5eb9a0c451e5",
      "placeholder": "​",
      "style": "IPY_MODEL_e13999fb26aa4def947e88972c6f75b8",
      "value": " 777/777 [00:15&lt;00:00, 51.37files/s]"
     }
    },
    "dc436f7c460b4c8ba3940bbc28af68f6": {
     "model_module": "@jupyter-widgets/controls",
     "model_name": "HTMLModel",
     "state": {
      "_dom_classes": [],
      "_model_module": "@jupyter-widgets/controls",
      "_model_module_version": "1.5.0",
      "_model_name": "HTMLModel",
      "_view_count": null,
      "_view_module": "@jupyter-widgets/controls",
      "_view_module_version": "1.5.0",
      "_view_name": "HTMLView",
      "description": "",
      "description_tooltip": null,
      "layout": "IPY_MODEL_9cd87d2c332342d0a18a9ef40b798c61",
      "placeholder": "​",
      "style": "IPY_MODEL_e4de0d4754594931bfb03c148bcdc1c8",
      "value": " 1079/1079 [44:21&lt;00:00,  2.47s/it]"
     }
    },
    "dd7ca99a66d14ff0b82422918a4e3b6b": {
     "model_module": "@jupyter-widgets/controls",
     "model_name": "ProgressStyleModel",
     "state": {
      "_model_module": "@jupyter-widgets/controls",
      "_model_module_version": "1.5.0",
      "_model_name": "ProgressStyleModel",
      "_view_count": null,
      "_view_module": "@jupyter-widgets/base",
      "_view_module_version": "1.2.0",
      "_view_name": "StyleView",
      "bar_color": null,
      "description_width": "initial"
     }
    },
    "df45f95e049041b7b07adc72b966e2e8": {
     "model_module": "@jupyter-widgets/controls",
     "model_name": "ProgressStyleModel",
     "state": {
      "_model_module": "@jupyter-widgets/controls",
      "_model_module_version": "1.5.0",
      "_model_name": "ProgressStyleModel",
      "_view_count": null,
      "_view_module": "@jupyter-widgets/base",
      "_view_module_version": "1.2.0",
      "_view_name": "StyleView",
      "bar_color": null,
      "description_width": "initial"
     }
    },
    "e0b0726dea7f4560a15842140663d118": {
     "model_module": "@jupyter-widgets/base",
     "model_name": "LayoutModel",
     "state": {
      "_model_module": "@jupyter-widgets/base",
      "_model_module_version": "1.2.0",
      "_model_name": "LayoutModel",
      "_view_count": null,
      "_view_module": "@jupyter-widgets/base",
      "_view_module_version": "1.2.0",
      "_view_name": "LayoutView",
      "align_content": null,
      "align_items": null,
      "align_self": null,
      "border": null,
      "bottom": null,
      "display": null,
      "flex": null,
      "flex_flow": null,
      "grid_area": null,
      "grid_auto_columns": null,
      "grid_auto_flow": null,
      "grid_auto_rows": null,
      "grid_column": null,
      "grid_gap": null,
      "grid_row": null,
      "grid_template_areas": null,
      "grid_template_columns": null,
      "grid_template_rows": null,
      "height": null,
      "justify_content": null,
      "justify_items": null,
      "left": null,
      "margin": null,
      "max_height": null,
      "max_width": null,
      "min_height": null,
      "min_width": null,
      "object_fit": null,
      "object_position": null,
      "order": null,
      "overflow": null,
      "overflow_x": null,
      "overflow_y": null,
      "padding": null,
      "right": null,
      "top": null,
      "visibility": null,
      "width": null
     }
    },
    "e13999fb26aa4def947e88972c6f75b8": {
     "model_module": "@jupyter-widgets/controls",
     "model_name": "DescriptionStyleModel",
     "state": {
      "_model_module": "@jupyter-widgets/controls",
      "_model_module_version": "1.5.0",
      "_model_name": "DescriptionStyleModel",
      "_view_count": null,
      "_view_module": "@jupyter-widgets/base",
      "_view_module_version": "1.2.0",
      "_view_name": "StyleView",
      "description_width": ""
     }
    },
    "e1411211ef5b4038926b6e42e4b52653": {
     "model_module": "@jupyter-widgets/controls",
     "model_name": "FloatProgressModel",
     "state": {
      "_dom_classes": [],
      "_model_module": "@jupyter-widgets/controls",
      "_model_module_version": "1.5.0",
      "_model_name": "FloatProgressModel",
      "_view_count": null,
      "_view_module": "@jupyter-widgets/controls",
      "_view_module_version": "1.5.0",
      "_view_name": "ProgressView",
      "bar_style": "success",
      "description": "Proccessing: 100%",
      "description_tooltip": null,
      "layout": "IPY_MODEL_e25b7a18c29a4c45963a87bbaf9dda2d",
      "max": 6,
      "min": 0,
      "orientation": "horizontal",
      "style": "IPY_MODEL_adb4e7d9e3be4f96985fd23d21b45714",
      "value": 6
     }
    },
    "e25b7a18c29a4c45963a87bbaf9dda2d": {
     "model_module": "@jupyter-widgets/base",
     "model_name": "LayoutModel",
     "state": {
      "_model_module": "@jupyter-widgets/base",
      "_model_module_version": "1.2.0",
      "_model_name": "LayoutModel",
      "_view_count": null,
      "_view_module": "@jupyter-widgets/base",
      "_view_module_version": "1.2.0",
      "_view_name": "LayoutView",
      "align_content": null,
      "align_items": null,
      "align_self": null,
      "border": null,
      "bottom": null,
      "display": null,
      "flex": null,
      "flex_flow": null,
      "grid_area": null,
      "grid_auto_columns": null,
      "grid_auto_flow": null,
      "grid_auto_rows": null,
      "grid_column": null,
      "grid_gap": null,
      "grid_row": null,
      "grid_template_areas": null,
      "grid_template_columns": null,
      "grid_template_rows": null,
      "height": null,
      "justify_content": null,
      "justify_items": null,
      "left": null,
      "margin": null,
      "max_height": null,
      "max_width": null,
      "min_height": null,
      "min_width": null,
      "object_fit": null,
      "object_position": null,
      "order": null,
      "overflow": null,
      "overflow_x": null,
      "overflow_y": null,
      "padding": null,
      "right": null,
      "top": null,
      "visibility": null,
      "width": null
     }
    },
    "e4de0d4754594931bfb03c148bcdc1c8": {
     "model_module": "@jupyter-widgets/controls",
     "model_name": "DescriptionStyleModel",
     "state": {
      "_model_module": "@jupyter-widgets/controls",
      "_model_module_version": "1.5.0",
      "_model_name": "DescriptionStyleModel",
      "_view_count": null,
      "_view_module": "@jupyter-widgets/base",
      "_view_module_version": "1.2.0",
      "_view_name": "StyleView",
      "description_width": ""
     }
    },
    "e5b4bd2264804df89685de79504c8a63": {
     "model_module": "@jupyter-widgets/controls",
     "model_name": "HBoxModel",
     "state": {
      "_dom_classes": [],
      "_model_module": "@jupyter-widgets/controls",
      "_model_module_version": "1.5.0",
      "_model_name": "HBoxModel",
      "_view_count": null,
      "_view_module": "@jupyter-widgets/controls",
      "_view_module_version": "1.5.0",
      "_view_name": "HBoxView",
      "box_style": "",
      "children": [
       "IPY_MODEL_7b2ef8425a2b4649940a4dd4f6712895",
       "IPY_MODEL_dc436f7c460b4c8ba3940bbc28af68f6"
      ],
      "layout": "IPY_MODEL_f8ac84456c824786a93b7bf6a264efbd"
     }
    },
    "ee8a51dffa0c4de4b08974b46941d8e3": {
     "model_module": "@jupyter-widgets/base",
     "model_name": "LayoutModel",
     "state": {
      "_model_module": "@jupyter-widgets/base",
      "_model_module_version": "1.2.0",
      "_model_name": "LayoutModel",
      "_view_count": null,
      "_view_module": "@jupyter-widgets/base",
      "_view_module_version": "1.2.0",
      "_view_name": "LayoutView",
      "align_content": null,
      "align_items": null,
      "align_self": null,
      "border": null,
      "bottom": null,
      "display": null,
      "flex": null,
      "flex_flow": null,
      "grid_area": null,
      "grid_auto_columns": null,
      "grid_auto_flow": null,
      "grid_auto_rows": null,
      "grid_column": null,
      "grid_gap": null,
      "grid_row": null,
      "grid_template_areas": null,
      "grid_template_columns": null,
      "grid_template_rows": null,
      "height": null,
      "justify_content": null,
      "justify_items": null,
      "left": null,
      "margin": null,
      "max_height": null,
      "max_width": null,
      "min_height": null,
      "min_width": null,
      "object_fit": null,
      "object_position": null,
      "order": null,
      "overflow": null,
      "overflow_x": null,
      "overflow_y": null,
      "padding": null,
      "right": null,
      "top": null,
      "visibility": null,
      "width": null
     }
    },
    "ee911c22a2c7498c804a12f8e85aa8fc": {
     "model_module": "@jupyter-widgets/base",
     "model_name": "LayoutModel",
     "state": {
      "_model_module": "@jupyter-widgets/base",
      "_model_module_version": "1.2.0",
      "_model_name": "LayoutModel",
      "_view_count": null,
      "_view_module": "@jupyter-widgets/base",
      "_view_module_version": "1.2.0",
      "_view_name": "LayoutView",
      "align_content": null,
      "align_items": null,
      "align_self": null,
      "border": null,
      "bottom": null,
      "display": null,
      "flex": null,
      "flex_flow": null,
      "grid_area": null,
      "grid_auto_columns": null,
      "grid_auto_flow": null,
      "grid_auto_rows": null,
      "grid_column": null,
      "grid_gap": null,
      "grid_row": null,
      "grid_template_areas": null,
      "grid_template_columns": null,
      "grid_template_rows": null,
      "height": null,
      "justify_content": null,
      "justify_items": null,
      "left": null,
      "margin": null,
      "max_height": null,
      "max_width": null,
      "min_height": null,
      "min_width": null,
      "object_fit": null,
      "object_position": null,
      "order": null,
      "overflow": null,
      "overflow_x": null,
      "overflow_y": null,
      "padding": null,
      "right": null,
      "top": null,
      "visibility": null,
      "width": null
     }
    },
    "f8ac84456c824786a93b7bf6a264efbd": {
     "model_module": "@jupyter-widgets/base",
     "model_name": "LayoutModel",
     "state": {
      "_model_module": "@jupyter-widgets/base",
      "_model_module_version": "1.2.0",
      "_model_name": "LayoutModel",
      "_view_count": null,
      "_view_module": "@jupyter-widgets/base",
      "_view_module_version": "1.2.0",
      "_view_name": "LayoutView",
      "align_content": null,
      "align_items": null,
      "align_self": null,
      "border": null,
      "bottom": null,
      "display": null,
      "flex": null,
      "flex_flow": null,
      "grid_area": null,
      "grid_auto_columns": null,
      "grid_auto_flow": null,
      "grid_auto_rows": null,
      "grid_column": null,
      "grid_gap": null,
      "grid_row": null,
      "grid_template_areas": null,
      "grid_template_columns": null,
      "grid_template_rows": null,
      "height": null,
      "justify_content": null,
      "justify_items": null,
      "left": null,
      "margin": null,
      "max_height": null,
      "max_width": null,
      "min_height": null,
      "min_width": null,
      "object_fit": null,
      "object_position": null,
      "order": null,
      "overflow": null,
      "overflow_x": null,
      "overflow_y": null,
      "padding": null,
      "right": null,
      "top": null,
      "visibility": null,
      "width": null
     }
    },
    "fafa49589095410198c50e6081554e71": {
     "model_module": "@jupyter-widgets/controls",
     "model_name": "HBoxModel",
     "state": {
      "_dom_classes": [],
      "_model_module": "@jupyter-widgets/controls",
      "_model_module_version": "1.5.0",
      "_model_name": "HBoxModel",
      "_view_count": null,
      "_view_module": "@jupyter-widgets/controls",
      "_view_module_version": "1.5.0",
      "_view_name": "HBoxView",
      "box_style": "",
      "children": [
       "IPY_MODEL_981d534b71864ef3ac101acad46f7d08",
       "IPY_MODEL_00808a496c5242c59e3cefd6b5270ba3"
      ],
      "layout": "IPY_MODEL_c4b4b6679fe045c6a251547b7046fcc6"
     }
    }
   }
  }
 },
 "nbformat": 4,
 "nbformat_minor": 1
}
