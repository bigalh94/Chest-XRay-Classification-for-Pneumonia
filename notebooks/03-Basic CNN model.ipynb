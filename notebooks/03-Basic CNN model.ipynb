{
 "cells": [
  {
   "cell_type": "code",
   "execution_count": 1,
   "metadata": {
    "colab": {
     "base_uri": "https://localhost:8080/",
     "height": 33
    },
    "executionInfo": {
     "elapsed": 39410,
     "status": "ok",
     "timestamp": 1601912888989,
     "user": {
      "displayName": "Alvaro Henriquez",
      "photoUrl": "",
      "userId": "02782214734520853933"
     },
     "user_tz": 240
    },
    "id": "ZH3NOtMzzG0U",
    "outputId": "5d1c5034-127e-4e41-bce4-854ae0dd6bc3"
   },
   "outputs": [
    {
     "name": "stdout",
     "output_type": "stream",
     "text": [
      "Mounted at /content/drive\n"
     ]
    }
   ],
   "source": [
    "from google.colab import drive\n",
    "drive.mount('/content/drive')"
   ]
  },
  {
   "cell_type": "code",
   "execution_count": null,
   "metadata": {
    "colab": {
     "base_uri": "https://localhost:8080/",
     "height": 33
    },
    "executionInfo": {
     "elapsed": 37357,
     "status": "ok",
     "timestamp": 1601597808915,
     "user": {
      "displayName": "Alvaro Henriquez",
      "photoUrl": "",
      "userId": "02782214734520853933"
     },
     "user_tz": 240
    },
    "id": "7ErDgBSO8gmJ",
    "outputId": "174ced0b-fdde-4796-c5a6-025295e6f6ef"
   },
   "outputs": [
    {
     "name": "stdout",
     "output_type": "stream",
     "text": [
      "/content\n"
     ]
    }
   ],
   "source": [
    "!pwd"
   ]
  },
  {
   "cell_type": "code",
   "execution_count": 2,
   "metadata": {
    "executionInfo": {
     "elapsed": 1444,
     "status": "ok",
     "timestamp": 1601912895604,
     "user": {
      "displayName": "Alvaro Henriquez",
      "photoUrl": "",
      "userId": "02782214734520853933"
     },
     "user_tz": 240
    },
    "id": "8_cItkKglh0Y"
   },
   "outputs": [],
   "source": [
    "import os\n",
    "import sys\n",
    "sys.path.append('../src')\n",
    "\n",
    "os.chdir('drive/My Drive')\n",
    "ROOT = os.getcwd()\n",
    "os.chdir(ROOT + '/Colab Notebooks')\n",
    "\n",
    "from project_utilities.config import DATA_DIR_RAW"
   ]
  },
  {
   "cell_type": "code",
   "execution_count": 3,
   "metadata": {
    "executionInfo": {
     "elapsed": 3157,
     "status": "ok",
     "timestamp": 1601912900103,
     "user": {
      "displayName": "Alvaro Henriquez",
      "photoUrl": "",
      "userId": "02782214734520853933"
     },
     "user_tz": 240
    },
    "id": "vKlfwhQmlh0v"
   },
   "outputs": [],
   "source": [
    "import pandas as pd\n",
    "import numpy as np\n",
    "import matplotlib.pyplot as plt\n",
    "%matplotlib inline\n",
    "\n",
    "import tensorflow as tf\n",
    "from tensorflow import keras\n",
    "from tensorflow.keras.models import Sequential\n",
    "from tensorflow.keras.layers import Activation, Dense, BatchNormalization, Conv2D, MaxPool2D, Dropout, Flatten\n",
    "from tensorflow.keras.optimizers import Adam\n",
    "from tensorflow.keras.metrics import categorical_crossentropy\n",
    "from tensorflow.keras.preprocessing.image import ImageDataGenerator, load_img, array_to_img, img_to_array\n",
    "from sklearn.metrics import confusion_matrix\n",
    "\n",
    "import itertools\n",
    "from project_utilities import *"
   ]
  },
  {
   "cell_type": "markdown",
   "metadata": {
    "id": "wCQuWSr76iZP"
   },
   "source": [
    "#### Verify that the GPU is being utilized"
   ]
  },
  {
   "cell_type": "code",
   "execution_count": null,
   "metadata": {
    "colab": {
     "base_uri": "https://localhost:8080/",
     "height": 84
    },
    "executionInfo": {
     "elapsed": 1770,
     "status": "ok",
     "timestamp": 1601868672842,
     "user": {
      "displayName": "Alvaro Henriquez",
      "photoUrl": "",
      "userId": "02782214734520853933"
     },
     "user_tz": 240
    },
    "id": "nsmih5C0lh03",
    "outputId": "482e4385-5d67-4780-d381-4acbbd8b0f36"
   },
   "outputs": [
    {
     "name": "stdout",
     "output_type": "stream",
     "text": [
      "TensorFlow Version: 2.3.0\n",
      "Using CUDA: True\n",
      "Using GPU: [PhysicalDevice(name='/physical_device:GPU:0', device_type='GPU')]\n",
      "Num GPUs Available:  1\n"
     ]
    }
   ],
   "source": [
    "print(f'TensorFlow Version: {tf.__version__}')\n",
    "print(f'Using CUDA: {tf.test.is_built_with_cuda()}')\n",
    "print(f'Using GPU: {tf.config.list_physical_devices(\"GPU\")}')\n",
    "# print(\"Num of GPUs available: \", len(tf.test.gpu_device_name()))\n",
    "physical_devices = tf.config.experimental.list_physical_devices('GPU')\n",
    "print(\"Num GPUs Available: \", len(physical_devices))\n",
    "\n",
    "tf.config.experimental.set_memory_growth(physical_devices[0], True)"
   ]
  },
  {
   "cell_type": "markdown",
   "metadata": {
    "id": "fLl1GRh_6szI"
   },
   "source": [
    "#### Paths to the data directories"
   ]
  },
  {
   "cell_type": "code",
   "execution_count": 4,
   "metadata": {
    "executionInfo": {
     "elapsed": 462,
     "status": "ok",
     "timestamp": 1601912906310,
     "user": {
      "displayName": "Alvaro Henriquez",
      "photoUrl": "",
      "userId": "02782214734520853933"
     },
     "user_tz": 240
    },
    "id": "sw-qLPjlwFf9"
   },
   "outputs": [],
   "source": [
    "train_path = '../data/raw/train'\n",
    "valid_path = '../data/raw/valid'\n",
    "test_path = '../data/raw/test'\n"
   ]
  },
  {
   "cell_type": "code",
   "execution_count": 5,
   "metadata": {
    "executionInfo": {
     "elapsed": 496,
     "status": "ok",
     "timestamp": 1601912908757,
     "user": {
      "displayName": "Alvaro Henriquez",
      "photoUrl": "",
      "userId": "02782214734520853933"
     },
     "user_tz": 240
    },
    "id": "p1B9C_YMMPbr"
   },
   "outputs": [],
   "source": [
    "def plot_confusion_matrix(cm, classes,\n",
    "                          normalize=False,\n",
    "                          title='Confusion matrix',\n",
    "                          name=None,\n",
    "                          cmap=plt.cm.Blues):\n",
    "    \"\"\"\n",
    "    This function prints and plots the confusion matrix.\n",
    "    Normalization can be applied by setting `normalize=True`.\n",
    "    \"\"\"\n",
    "    plt.imshow(cm, interpolation='nearest', cmap=cmap)\n",
    "    plt.title(title)\n",
    "    plt.colorbar()\n",
    "    tick_marks = np.arange(len(classes))\n",
    "    plt.xticks(tick_marks, classes, rotation=45)\n",
    "    plt.yticks(tick_marks, classes)\n",
    "\n",
    "    if normalize:\n",
    "        cm = cm.astype('float') / cm.sum(axis=1)[:, np.newaxis]\n",
    "        print(\"Normalized confusion matrix\")\n",
    "    else:\n",
    "        print('Confusion matrix, without normalization')\n",
    "\n",
    "    print(cm)\n",
    "\n",
    "    thresh = cm.max() / 2.\n",
    "    for i, j in itertools.product(range(cm.shape[0]), range(cm.shape[1])):\n",
    "        plt.text(j, i, cm[i, j],\n",
    "            horizontalalignment=\"center\",\n",
    "            color=\"white\" if cm[i, j] > thresh else \"black\")\n",
    "\n",
    "    plt.tight_layout()\n",
    "    plt.ylabel('True label')\n",
    "    plt.xlabel('Predicted label')\n",
    "    plt.savefig(ROOT + '/artifacts/charts/' + name + '_cm.png')"
   ]
  },
  {
   "cell_type": "code",
   "execution_count": 6,
   "metadata": {
    "executionInfo": {
     "elapsed": 486,
     "status": "ok",
     "timestamp": 1601912911104,
     "user": {
      "displayName": "Alvaro Henriquez",
      "photoUrl": "",
      "userId": "02782214734520853933"
     },
     "user_tz": 240
    },
    "id": "4btwqNmdMmRX"
   },
   "outputs": [],
   "source": [
    "def plotImages(images_arr):\n",
    "    fig, axes = plt.subplots(1, 10, figsize=(20,20))\n",
    "    axes = axes.flatten()\n",
    "    for img, ax in zip( images_arr, axes):\n",
    "        ax.imshow(img)\n",
    "        ax.axis('off')\n",
    "    plt.tight_layout()\n",
    "    plt.show()   "
   ]
  },
  {
   "cell_type": "markdown",
   "metadata": {
    "id": "RrfKPz5x652I"
   },
   "source": [
    "#### Wrap a Keras ImageDataGenerator"
   ]
  },
  {
   "cell_type": "code",
   "execution_count": 7,
   "metadata": {
    "executionInfo": {
     "elapsed": 392,
     "status": "ok",
     "timestamp": 1601912920082,
     "user": {
      "displayName": "Alvaro Henriquez",
      "photoUrl": "",
      "userId": "02782214734520853933"
     },
     "user_tz": 240
    },
    "id": "651W-Nc_9s6-"
   },
   "outputs": [],
   "source": [
    "    \n",
    "def batch_make(path, classes, batch_size=10, shuffle=True):\n",
    "  batches = ImageDataGenerator(\n",
    "      rescale=1./255,\n",
    "        rotation_range=10,\n",
    "        samplewise_center=True,\n",
    "        samplewise_std_normalization=True,\n",
    "        width_shift_range=0.2,\n",
    "        height_shift_range=0.2,\n",
    "        shear_range=0.2,\n",
    "        zoom_range=0.2,\n",
    "        fill_mode=\"nearest\",\n",
    "        cval=0.0,\n",
    "        horizontal_flip=True).flow_from_directory(\n",
    "            directory=path,\n",
    "            target_size=(224,224),\n",
    "            classes=classes,\n",
    "            batch_size=batch_size,\n",
    "            shuffle=shuffle\n",
    "            )\n",
    "  return batches\n",
    "                       "
   ]
  },
  {
   "cell_type": "code",
   "execution_count": null,
   "metadata": {
    "id": "PaRbMMLJKd6D"
   },
   "outputs": [],
   "source": [
    "if os.path.isdir(ROOT + '/artifacts/models') is False:\n",
    "    os.makedirs(ROOT + '/artifacts/models')"
   ]
  },
  {
   "cell_type": "code",
   "execution_count": null,
   "metadata": {
    "id": "O_tzKAv1O69a"
   },
   "outputs": [],
   "source": [
    "if os.path.isdir(ROOT + '/artifacts/predictions') is False:\n",
    "    os.makedirs(ROOT + '/artifacts/predictions')"
   ]
  },
  {
   "cell_type": "markdown",
   "metadata": {
    "id": "OsFDxWBl7MI-"
   },
   "source": [
    "#### Create datagenerators for the data"
   ]
  },
  {
   "cell_type": "code",
   "execution_count": 8,
   "metadata": {
    "colab": {
     "base_uri": "https://localhost:8080/",
     "height": 67
    },
    "executionInfo": {
     "elapsed": 37246,
     "status": "ok",
     "timestamp": 1601912967959,
     "user": {
      "displayName": "Alvaro Henriquez",
      "photoUrl": "",
      "userId": "02782214734520853933"
     },
     "user_tz": 240
    },
    "id": "etgHGjf5X7Ah",
    "outputId": "fa6685c3-1d08-46cb-86fd-27d51250dd2f"
   },
   "outputs": [
    {
     "name": "stdout",
     "output_type": "stream",
     "text": [
      "Found 4185 images belonging to 2 classes.\n",
      "Found 1047 images belonging to 2 classes.\n",
      "Found 624 images belonging to 2 classes.\n"
     ]
    }
   ],
   "source": [
    "          \n",
    "train_batch = batch_make(train_path, ['NORMAL', 'PNEUMONIA'], batch_size=20)\n",
    "valid_batch = batch_make(valid_path, ['NORMAL', 'PNEUMONIA'], batch_size=20)\n",
    "test_batch = batch_make(test_path, ['NORMAL', 'PNEUMONIA'], batch_size=20, shuffle=False)"
   ]
  },
  {
   "cell_type": "markdown",
   "metadata": {
    "id": "lBDvZStAeqM6"
   },
   "source": [
    "#### Basic CNN"
   ]
  },
  {
   "cell_type": "code",
   "execution_count": null,
   "metadata": {
    "id": "U31rSka_3KKT"
   },
   "outputs": [],
   "source": [
    "model = Sequential([\n",
    "    Conv2D(filters=32, kernel_size=(3, 3), activation='relu', padding = 'same', input_shape=(224,224,3)),\n",
    "    MaxPool2D(pool_size=(2, 2), strides=2),\n",
    "    Conv2D(filters=64, kernel_size=(3, 3), activation='relu', padding = 'same'),\n",
    "    MaxPool2D(pool_size=(2, 2), strides=2),\n",
    "    Flatten(),\n",
    "    Dense(units=2, activation='softmax')\n",
    "])\n"
   ]
  },
  {
   "cell_type": "markdown",
   "metadata": {
    "id": "wtNXsxcN7YEK"
   },
   "source": [
    "#### Compile the model"
   ]
  },
  {
   "cell_type": "code",
   "execution_count": null,
   "metadata": {
    "id": "ENQ1ElYi3c4v"
   },
   "outputs": [],
   "source": [
    "model.compile(optimizer=Adam(learning_rate=0.0001), loss='categorical_crossentropy', metrics=['accuracy'])"
   ]
  },
  {
   "cell_type": "markdown",
   "metadata": {
    "id": "hlCwEA3N7ft9"
   },
   "source": [
    "#### Fit the model"
   ]
  },
  {
   "cell_type": "code",
   "execution_count": null,
   "metadata": {
    "colab": {
     "base_uri": "https://localhost:8080/",
     "height": 1000
    },
    "executionInfo": {
     "elapsed": 11544939,
     "status": "ok",
     "timestamp": 1601880375829,
     "user": {
      "displayName": "Alvaro Henriquez",
      "photoUrl": "",
      "userId": "02782214734520853933"
     },
     "user_tz": 240
    },
    "id": "uSoDv1GB3Qd1",
    "outputId": "57983a89-e68e-47b1-98e1-6b3ea179ce2e"
   },
   "outputs": [
    {
     "name": "stdout",
     "output_type": "stream",
     "text": [
      "Epoch 1/100\n",
      "210/210 - 1532s - loss: 0.3867 - accuracy: 0.8232 - val_loss: 0.2814 - val_accuracy: 0.8701\n",
      "Epoch 2/100\n",
      "210/210 - 104s - loss: 0.2613 - accuracy: 0.8908 - val_loss: 0.2403 - val_accuracy: 0.9064\n",
      "Epoch 3/100\n",
      "210/210 - 104s - loss: 0.2472 - accuracy: 0.8906 - val_loss: 0.2281 - val_accuracy: 0.9007\n",
      "Epoch 4/100\n",
      "210/210 - 104s - loss: 0.2427 - accuracy: 0.8956 - val_loss: 0.2286 - val_accuracy: 0.9179\n",
      "Epoch 5/100\n",
      "210/210 - 103s - loss: 0.2357 - accuracy: 0.9059 - val_loss: 0.2385 - val_accuracy: 0.9121\n",
      "Epoch 6/100\n",
      "210/210 - 103s - loss: 0.2299 - accuracy: 0.9023 - val_loss: 0.2172 - val_accuracy: 0.9188\n",
      "Epoch 7/100\n",
      "210/210 - 102s - loss: 0.2078 - accuracy: 0.9147 - val_loss: 0.2030 - val_accuracy: 0.9312\n",
      "Epoch 8/100\n",
      "210/210 - 102s - loss: 0.2167 - accuracy: 0.9097 - val_loss: 0.2141 - val_accuracy: 0.9160\n",
      "Epoch 9/100\n",
      "210/210 - 102s - loss: 0.2100 - accuracy: 0.9176 - val_loss: 0.2128 - val_accuracy: 0.9188\n",
      "Epoch 10/100\n",
      "210/210 - 102s - loss: 0.2064 - accuracy: 0.9109 - val_loss: 0.2227 - val_accuracy: 0.9074\n",
      "Epoch 11/100\n",
      "210/210 - 102s - loss: 0.2065 - accuracy: 0.9183 - val_loss: 0.1775 - val_accuracy: 0.9245\n",
      "Epoch 12/100\n",
      "210/210 - 102s - loss: 0.2050 - accuracy: 0.9173 - val_loss: 0.1916 - val_accuracy: 0.9255\n",
      "Epoch 13/100\n",
      "210/210 - 101s - loss: 0.2003 - accuracy: 0.9188 - val_loss: 0.2402 - val_accuracy: 0.8997\n",
      "Epoch 14/100\n",
      "210/210 - 101s - loss: 0.2023 - accuracy: 0.9221 - val_loss: 0.2370 - val_accuracy: 0.9045\n",
      "Epoch 15/100\n",
      "210/210 - 101s - loss: 0.1929 - accuracy: 0.9214 - val_loss: 0.1757 - val_accuracy: 0.9293\n",
      "Epoch 16/100\n",
      "210/210 - 101s - loss: 0.1786 - accuracy: 0.9252 - val_loss: 0.1970 - val_accuracy: 0.9274\n",
      "Epoch 17/100\n",
      "210/210 - 100s - loss: 0.1828 - accuracy: 0.9324 - val_loss: 0.1841 - val_accuracy: 0.9322\n",
      "Epoch 18/100\n",
      "210/210 - 99s - loss: 0.1835 - accuracy: 0.9274 - val_loss: 0.1825 - val_accuracy: 0.9226\n",
      "Epoch 19/100\n",
      "210/210 - 100s - loss: 0.1847 - accuracy: 0.9240 - val_loss: 0.1734 - val_accuracy: 0.9360\n",
      "Epoch 20/100\n",
      "210/210 - 100s - loss: 0.1768 - accuracy: 0.9295 - val_loss: 0.1657 - val_accuracy: 0.9427\n",
      "Epoch 21/100\n",
      "210/210 - 100s - loss: 0.1796 - accuracy: 0.9274 - val_loss: 0.1582 - val_accuracy: 0.9456\n",
      "Epoch 22/100\n",
      "210/210 - 100s - loss: 0.1750 - accuracy: 0.9295 - val_loss: 0.1644 - val_accuracy: 0.9322\n",
      "Epoch 23/100\n",
      "210/210 - 100s - loss: 0.1724 - accuracy: 0.9333 - val_loss: 0.1697 - val_accuracy: 0.9360\n",
      "Epoch 24/100\n",
      "210/210 - 100s - loss: 0.1745 - accuracy: 0.9338 - val_loss: 0.1778 - val_accuracy: 0.9255\n",
      "Epoch 25/100\n",
      "210/210 - 101s - loss: 0.1739 - accuracy: 0.9333 - val_loss: 0.1881 - val_accuracy: 0.9331\n",
      "Epoch 26/100\n",
      "210/210 - 100s - loss: 0.1867 - accuracy: 0.9278 - val_loss: 0.1671 - val_accuracy: 0.9351\n",
      "Epoch 27/100\n",
      "210/210 - 100s - loss: 0.1670 - accuracy: 0.9329 - val_loss: 0.1864 - val_accuracy: 0.9265\n",
      "Epoch 28/100\n",
      "210/210 - 101s - loss: 0.1580 - accuracy: 0.9424 - val_loss: 0.1672 - val_accuracy: 0.9322\n",
      "Epoch 29/100\n",
      "210/210 - 101s - loss: 0.1744 - accuracy: 0.9309 - val_loss: 0.1779 - val_accuracy: 0.9236\n",
      "Epoch 30/100\n",
      "210/210 - 102s - loss: 0.1701 - accuracy: 0.9329 - val_loss: 0.1927 - val_accuracy: 0.9303\n",
      "Epoch 31/100\n",
      "210/210 - 102s - loss: 0.1585 - accuracy: 0.9391 - val_loss: 0.1315 - val_accuracy: 0.9542\n",
      "Epoch 32/100\n",
      "210/210 - 102s - loss: 0.1691 - accuracy: 0.9321 - val_loss: 0.1557 - val_accuracy: 0.9360\n",
      "Epoch 33/100\n",
      "210/210 - 102s - loss: 0.1571 - accuracy: 0.9395 - val_loss: 0.1602 - val_accuracy: 0.9408\n",
      "Epoch 34/100\n",
      "210/210 - 102s - loss: 0.1604 - accuracy: 0.9398 - val_loss: 0.1562 - val_accuracy: 0.9379\n",
      "Epoch 35/100\n",
      "210/210 - 101s - loss: 0.1628 - accuracy: 0.9326 - val_loss: 0.1901 - val_accuracy: 0.9293\n",
      "Epoch 36/100\n",
      "210/210 - 100s - loss: 0.1720 - accuracy: 0.9297 - val_loss: 0.1542 - val_accuracy: 0.9398\n",
      "Epoch 37/100\n",
      "210/210 - 101s - loss: 0.1497 - accuracy: 0.9427 - val_loss: 0.1774 - val_accuracy: 0.9303\n",
      "Epoch 38/100\n",
      "210/210 - 100s - loss: 0.1590 - accuracy: 0.9395 - val_loss: 0.1579 - val_accuracy: 0.9370\n",
      "Epoch 39/100\n",
      "210/210 - 100s - loss: 0.1590 - accuracy: 0.9362 - val_loss: 0.1788 - val_accuracy: 0.9198\n",
      "Epoch 40/100\n",
      "210/210 - 100s - loss: 0.1599 - accuracy: 0.9374 - val_loss: 0.1540 - val_accuracy: 0.9408\n",
      "Epoch 41/100\n",
      "210/210 - 100s - loss: 0.1455 - accuracy: 0.9436 - val_loss: 0.1481 - val_accuracy: 0.9475\n",
      "Epoch 42/100\n",
      "210/210 - 100s - loss: 0.1637 - accuracy: 0.9362 - val_loss: 0.1530 - val_accuracy: 0.9379\n",
      "Epoch 43/100\n",
      "210/210 - 101s - loss: 0.1568 - accuracy: 0.9403 - val_loss: 0.1642 - val_accuracy: 0.9331\n",
      "Epoch 44/100\n",
      "210/210 - 100s - loss: 0.1623 - accuracy: 0.9364 - val_loss: 0.1315 - val_accuracy: 0.9475\n",
      "Epoch 45/100\n",
      "210/210 - 100s - loss: 0.1496 - accuracy: 0.9448 - val_loss: 0.1723 - val_accuracy: 0.9312\n",
      "Epoch 46/100\n",
      "210/210 - 100s - loss: 0.1465 - accuracy: 0.9453 - val_loss: 0.1474 - val_accuracy: 0.9436\n",
      "Epoch 47/100\n",
      "210/210 - 100s - loss: 0.1463 - accuracy: 0.9446 - val_loss: 0.1367 - val_accuracy: 0.9446\n",
      "Epoch 48/100\n",
      "210/210 - 99s - loss: 0.1498 - accuracy: 0.9412 - val_loss: 0.1478 - val_accuracy: 0.9513\n",
      "Epoch 49/100\n",
      "210/210 - 101s - loss: 0.1428 - accuracy: 0.9427 - val_loss: 0.1550 - val_accuracy: 0.9398\n",
      "Epoch 50/100\n",
      "210/210 - 101s - loss: 0.1480 - accuracy: 0.9427 - val_loss: 0.1270 - val_accuracy: 0.9532\n",
      "Epoch 51/100\n",
      "210/210 - 100s - loss: 0.1475 - accuracy: 0.9424 - val_loss: 0.1395 - val_accuracy: 0.9427\n",
      "Epoch 52/100\n",
      "210/210 - 100s - loss: 0.1432 - accuracy: 0.9455 - val_loss: 0.1279 - val_accuracy: 0.9522\n",
      "Epoch 53/100\n",
      "210/210 - 100s - loss: 0.1496 - accuracy: 0.9398 - val_loss: 0.1538 - val_accuracy: 0.9303\n",
      "Epoch 54/100\n",
      "210/210 - 99s - loss: 0.1476 - accuracy: 0.9427 - val_loss: 0.1351 - val_accuracy: 0.9494\n",
      "Epoch 55/100\n",
      "210/210 - 100s - loss: 0.1500 - accuracy: 0.9407 - val_loss: 0.1465 - val_accuracy: 0.9398\n",
      "Epoch 56/100\n",
      "210/210 - 100s - loss: 0.1364 - accuracy: 0.9491 - val_loss: 0.1400 - val_accuracy: 0.9456\n",
      "Epoch 57/100\n",
      "210/210 - 100s - loss: 0.1437 - accuracy: 0.9438 - val_loss: 0.1960 - val_accuracy: 0.9150\n",
      "Epoch 58/100\n",
      "210/210 - 100s - loss: 0.1408 - accuracy: 0.9470 - val_loss: 0.1351 - val_accuracy: 0.9513\n",
      "Epoch 59/100\n",
      "210/210 - 100s - loss: 0.1387 - accuracy: 0.9472 - val_loss: 0.1366 - val_accuracy: 0.9465\n",
      "Epoch 60/100\n",
      "210/210 - 100s - loss: 0.1497 - accuracy: 0.9424 - val_loss: 0.1417 - val_accuracy: 0.9484\n",
      "Epoch 61/100\n",
      "210/210 - 100s - loss: 0.1407 - accuracy: 0.9455 - val_loss: 0.1871 - val_accuracy: 0.9312\n",
      "Epoch 62/100\n",
      "210/210 - 100s - loss: 0.1439 - accuracy: 0.9446 - val_loss: 0.1365 - val_accuracy: 0.9398\n",
      "Epoch 63/100\n",
      "210/210 - 100s - loss: 0.1371 - accuracy: 0.9455 - val_loss: 0.1742 - val_accuracy: 0.9417\n",
      "Epoch 64/100\n",
      "210/210 - 100s - loss: 0.1322 - accuracy: 0.9534 - val_loss: 0.1302 - val_accuracy: 0.9465\n",
      "Epoch 65/100\n",
      "210/210 - 101s - loss: 0.1501 - accuracy: 0.9424 - val_loss: 0.1312 - val_accuracy: 0.9417\n",
      "Epoch 66/100\n",
      "210/210 - 100s - loss: 0.1320 - accuracy: 0.9455 - val_loss: 0.1514 - val_accuracy: 0.9408\n",
      "Epoch 67/100\n",
      "210/210 - 100s - loss: 0.1362 - accuracy: 0.9460 - val_loss: 0.1238 - val_accuracy: 0.9542\n",
      "Epoch 68/100\n",
      "210/210 - 101s - loss: 0.1362 - accuracy: 0.9465 - val_loss: 0.1525 - val_accuracy: 0.9427\n",
      "Epoch 69/100\n",
      "210/210 - 100s - loss: 0.1305 - accuracy: 0.9517 - val_loss: 0.1547 - val_accuracy: 0.9503\n",
      "Epoch 70/100\n",
      "210/210 - 100s - loss: 0.1353 - accuracy: 0.9496 - val_loss: 0.1165 - val_accuracy: 0.9484\n",
      "Epoch 71/100\n",
      "210/210 - 100s - loss: 0.1391 - accuracy: 0.9491 - val_loss: 0.1215 - val_accuracy: 0.9551\n",
      "Epoch 72/100\n",
      "210/210 - 100s - loss: 0.1410 - accuracy: 0.9481 - val_loss: 0.1923 - val_accuracy: 0.9322\n",
      "Epoch 73/100\n",
      "210/210 - 100s - loss: 0.1388 - accuracy: 0.9455 - val_loss: 0.1274 - val_accuracy: 0.9465\n",
      "Epoch 74/100\n",
      "210/210 - 101s - loss: 0.1327 - accuracy: 0.9520 - val_loss: 0.1341 - val_accuracy: 0.9494\n",
      "Epoch 75/100\n",
      "210/210 - 100s - loss: 0.1282 - accuracy: 0.9529 - val_loss: 0.1208 - val_accuracy: 0.9580\n",
      "Epoch 76/100\n",
      "210/210 - 100s - loss: 0.1262 - accuracy: 0.9505 - val_loss: 0.1445 - val_accuracy: 0.9427\n",
      "Epoch 77/100\n",
      "210/210 - 100s - loss: 0.1286 - accuracy: 0.9493 - val_loss: 0.1027 - val_accuracy: 0.9647\n",
      "Epoch 78/100\n",
      "210/210 - 100s - loss: 0.1325 - accuracy: 0.9498 - val_loss: 0.1518 - val_accuracy: 0.9331\n",
      "Epoch 79/100\n",
      "210/210 - 100s - loss: 0.1330 - accuracy: 0.9458 - val_loss: 0.1928 - val_accuracy: 0.9179\n",
      "Epoch 80/100\n",
      "210/210 - 101s - loss: 0.1252 - accuracy: 0.9544 - val_loss: 0.1319 - val_accuracy: 0.9503\n",
      "Epoch 81/100\n",
      "210/210 - 100s - loss: 0.1373 - accuracy: 0.9431 - val_loss: 0.1352 - val_accuracy: 0.9427\n",
      "Epoch 82/100\n",
      "210/210 - 100s - loss: 0.1285 - accuracy: 0.9501 - val_loss: 0.1304 - val_accuracy: 0.9408\n",
      "Epoch 83/100\n",
      "210/210 - 101s - loss: 0.1278 - accuracy: 0.9458 - val_loss: 0.1162 - val_accuracy: 0.9580\n",
      "Epoch 84/100\n",
      "210/210 - 100s - loss: 0.1276 - accuracy: 0.9522 - val_loss: 0.1205 - val_accuracy: 0.9542\n",
      "Epoch 85/100\n",
      "210/210 - 100s - loss: 0.1226 - accuracy: 0.9558 - val_loss: 0.1371 - val_accuracy: 0.9503\n",
      "Epoch 86/100\n",
      "210/210 - 101s - loss: 0.1288 - accuracy: 0.9503 - val_loss: 0.1106 - val_accuracy: 0.9561\n",
      "Epoch 87/100\n",
      "210/210 - 100s - loss: 0.1188 - accuracy: 0.9589 - val_loss: 0.1233 - val_accuracy: 0.9542\n",
      "Epoch 88/100\n",
      "210/210 - 100s - loss: 0.1169 - accuracy: 0.9599 - val_loss: 0.1168 - val_accuracy: 0.9494\n",
      "Epoch 89/100\n",
      "210/210 - 100s - loss: 0.1272 - accuracy: 0.9541 - val_loss: 0.1089 - val_accuracy: 0.9618\n",
      "Epoch 90/100\n",
      "210/210 - 100s - loss: 0.1211 - accuracy: 0.9544 - val_loss: 0.1298 - val_accuracy: 0.9446\n",
      "Epoch 91/100\n",
      "210/210 - 100s - loss: 0.1254 - accuracy: 0.9548 - val_loss: 0.1306 - val_accuracy: 0.9551\n",
      "Epoch 92/100\n",
      "210/210 - 100s - loss: 0.1269 - accuracy: 0.9520 - val_loss: 0.1154 - val_accuracy: 0.9551\n",
      "Epoch 93/100\n",
      "210/210 - 100s - loss: 0.1356 - accuracy: 0.9503 - val_loss: 0.1419 - val_accuracy: 0.9475\n",
      "Epoch 94/100\n",
      "210/210 - 100s - loss: 0.1183 - accuracy: 0.9544 - val_loss: 0.1217 - val_accuracy: 0.9551\n",
      "Epoch 95/100\n",
      "210/210 - 100s - loss: 0.1289 - accuracy: 0.9470 - val_loss: 0.1322 - val_accuracy: 0.9542\n",
      "Epoch 96/100\n",
      "210/210 - 101s - loss: 0.1211 - accuracy: 0.9546 - val_loss: 0.1266 - val_accuracy: 0.9494\n",
      "Epoch 97/100\n",
      "210/210 - 100s - loss: 0.1254 - accuracy: 0.9527 - val_loss: 0.1229 - val_accuracy: 0.9551\n",
      "Epoch 98/100\n",
      "210/210 - 100s - loss: 0.1166 - accuracy: 0.9553 - val_loss: 0.1201 - val_accuracy: 0.9475\n",
      "Epoch 99/100\n",
      "210/210 - 101s - loss: 0.1254 - accuracy: 0.9503 - val_loss: 0.1167 - val_accuracy: 0.9494\n",
      "Epoch 100/100\n",
      "210/210 - 100s - loss: 0.1119 - accuracy: 0.9584 - val_loss: 0.1157 - val_accuracy: 0.9570\n"
     ]
    }
   ],
   "source": [
    "history_1 = model.fit(x=train_batch,\n",
    "                      steps_per_epoch=len(train_batch),\n",
    "                      validation_data=valid_batch,\n",
    "                      validation_steps=len(valid_batch),\n",
    "                      epochs=100,\n",
    "                      verbose=2\n",
    "                      )"
   ]
  },
  {
   "cell_type": "code",
   "execution_count": null,
   "metadata": {
    "id": "cE4gDNPYKH_J"
   },
   "outputs": [],
   "source": [
    "model.save(ROOT + '/artifacts/models/basic_cnn_model.h5')"
   ]
  },
  {
   "cell_type": "code",
   "execution_count": null,
   "metadata": {
    "id": "7HpkfImfqNXq"
   },
   "outputs": [],
   "source": [
    "model = keras.models.load_model(ROOT + '/artifacts/models/basic_cnn_model.h5')"
   ]
  },
  {
   "cell_type": "code",
   "execution_count": null,
   "metadata": {
    "id": "fVu1M_cEch8A"
   },
   "outputs": [],
   "source": [
    "predictions = model.predict(x=test_batch, verbose=0)"
   ]
  },
  {
   "cell_type": "code",
   "execution_count": null,
   "metadata": {
    "id": "GGuOlR_gPh3U"
   },
   "outputs": [],
   "source": [
    "np.save(ROOT + '/artifacts/predictions/model_preds.py', predictions)"
   ]
  },
  {
   "cell_type": "markdown",
   "metadata": {
    "id": "yxJgQ10rIDAB"
   },
   "source": []
  },
  {
   "cell_type": "code",
   "execution_count": null,
   "metadata": {
    "colab": {
     "base_uri": "https://localhost:8080/",
     "height": 33
    },
    "executionInfo": {
     "elapsed": 664,
     "status": "ok",
     "timestamp": 1601598551104,
     "user": {
      "displayName": "Alvaro Henriquez",
      "photoUrl": "",
      "userId": "02782214734520853933"
     },
     "user_tz": 240
    },
    "id": "1B12g7QcIfcj",
    "outputId": "3315e4f7-10df-4adb-ca70-cef5a0c7fedc"
   },
   "outputs": [
    {
     "data": {
      "text/plain": [
       "{'NORMAL': 0, 'PNEUMONIA': 1}"
      ]
     },
     "execution_count": 14,
     "metadata": {
      "tags": []
     },
     "output_type": "execute_result"
    }
   ],
   "source": [
    "test_batch.class_indices"
   ]
  },
  {
   "cell_type": "code",
   "execution_count": null,
   "metadata": {
    "colab": {
     "base_uri": "https://localhost:8080/",
     "height": 361
    },
    "executionInfo": {
     "elapsed": 480,
     "status": "ok",
     "timestamp": 1601881094104,
     "user": {
      "displayName": "Alvaro Henriquez",
      "photoUrl": "",
      "userId": "02782214734520853933"
     },
     "user_tz": 240
    },
    "id": "93QoL9hVIDWn",
    "outputId": "daff8a41-fc3e-4406-824c-17b8b0dfde42"
   },
   "outputs": [
    {
     "name": "stdout",
     "output_type": "stream",
     "text": [
      "Confusion matrix, without normalization\n",
      "[[162  72]\n",
      " [ 12 378]]\n"
     ]
    },
    {
     "data": {
      "image/png": "[encoded data removed]",
      "text/plain": [
       "<Figure size 432x288 with 2 Axes>"
      ]
     },
     "metadata": {
      "needs_background": "light",
      "tags": []
     },
     "output_type": "display_data"
    }
   ],
   "source": [
    "cm = confusion_matrix(y_true=test_batch.classes, y_pred=np.argmax(predictions, axis=-1))\n",
    "cm_plot_labels = ['NORMAL', 'PNEUMONIA']\n",
    "plot_confusion_matrix(cm=cm, classes=cm_plot_labels, title='Confusion Matrix', name='basic_cnn_model')"
   ]
  },
  {
   "cell_type": "code",
   "execution_count": null,
   "metadata": {
    "colab": {
     "base_uri": "https://localhost:8080/",
     "height": 338
    },
    "executionInfo": {
     "elapsed": 551,
     "status": "ok",
     "timestamp": 1601881111926,
     "user": {
      "displayName": "Alvaro Henriquez",
      "photoUrl": "",
      "userId": "02782214734520853933"
     },
     "user_tz": 240
    },
    "id": "F3xctL5pm459",
    "outputId": "480c7b65-2d68-44f7-a2d6-00f808a55638"
   },
   "outputs": [
    {
     "data": {
      "image/png": "[encoded data removed]",
      "text/plain": [
       "<Figure size 576x360 with 1 Axes>"
      ]
     },
     "metadata": {
      "needs_background": "light",
      "tags": []
     },
     "output_type": "display_data"
    }
   ],
   "source": [
    "pd.DataFrame(history_1.history).plot(figsize=(8, 5))\n",
    "plt.grid(True)\n",
    "plt.gca().set_ylim(0, 1) \n",
    "plt.xlabel('Epoch')\n",
    "plt.ylabel('Acurracy')\n",
    "plt.savefig(ROOT + '/artifacts/charts/basic_cnn_model_av.png')\n",
    "plt.show()"
   ]
  },
  {
   "cell_type": "code",
   "execution_count": null,
   "metadata": {
    "id": "jGhK14lEnYWM"
   },
   "outputs": [],
   "source": []
  },
  {
   "cell_type": "code",
   "execution_count": null,
   "metadata": {
    "id": "0rRByAA-nYja"
   },
   "outputs": [],
   "source": []
  },
  {
   "cell_type": "code",
   "execution_count": null,
   "metadata": {
    "id": "Zy518JgjnYxB"
   },
   "outputs": [],
   "source": []
  },
  {
   "cell_type": "markdown",
   "metadata": {
    "id": "UgNna6xSezeR"
   },
   "source": [
    "#### Basic CNN with two addtional convolutional layers"
   ]
  },
  {
   "cell_type": "code",
   "execution_count": 9,
   "metadata": {
    "executionInfo": {
     "elapsed": 851,
     "status": "ok",
     "timestamp": 1601914769321,
     "user": {
      "displayName": "Alvaro Henriquez",
      "photoUrl": "",
      "userId": "02782214734520853933"
     },
     "user_tz": 240
    },
    "id": "e5QHS0Jrdf_a"
   },
   "outputs": [],
   "source": [
    "model_2 = Sequential([\n",
    "    Conv2D(filters=32, kernel_size=(3, 3), activation='relu', padding = 'same', input_shape=(224,224,3)),\n",
    "    MaxPool2D(pool_size=(2, 2), strides=2),\n",
    "    Conv2D(filters=32, kernel_size=(3, 3), activation='relu', padding = 'same'),\n",
    "    MaxPool2D(pool_size=(2, 2), strides=2),\n",
    "    Conv2D(filters=32, kernel_size=(3, 3), activation='relu', padding = 'same'),\n",
    "    MaxPool2D(pool_size=(2, 2), strides=2),\n",
    "    Conv2D(filters=64, kernel_size=(3, 3), activation='relu', padding = 'same'),\n",
    "    MaxPool2D(pool_size=(2, 2), strides=2),\n",
    "    Flatten(),\n",
    "    Dense(units=2, activation='softmax')\n",
    "])\n"
   ]
  },
  {
   "cell_type": "code",
   "execution_count": 10,
   "metadata": {
    "executionInfo": {
     "elapsed": 366,
     "status": "ok",
     "timestamp": 1601914773208,
     "user": {
      "displayName": "Alvaro Henriquez",
      "photoUrl": "",
      "userId": "02782214734520853933"
     },
     "user_tz": 240
    },
    "id": "82KmSzHkeY4T"
   },
   "outputs": [],
   "source": [
    "model_2.compile(optimizer=Adam(learning_rate=0.0001), loss='categorical_crossentropy', metrics=['accuracy'])"
   ]
  },
  {
   "cell_type": "code",
   "execution_count": 11,
   "metadata": {
    "colab": {
     "base_uri": "https://localhost:8080/",
     "height": 1000
    },
    "executionInfo": {
     "elapsed": 21254617,
     "status": "ok",
     "timestamp": 1601936029821,
     "user": {
      "displayName": "Alvaro Henriquez",
      "photoUrl": "",
      "userId": "02782214734520853933"
     },
     "user_tz": 240
    },
    "id": "C6GBkXtzYzb1",
    "outputId": "142d4f9d-0515-41db-f645-3cf0d1d653e9"
   },
   "outputs": [
    {
     "name": "stdout",
     "output_type": "stream",
     "text": [
      "Epoch 1/50\n",
      "210/210 - 1343s - loss: 0.4894 - accuracy: 0.7649 - val_loss: 0.3502 - val_accuracy: 0.8262\n",
      "Epoch 2/50\n",
      "210/210 - 402s - loss: 0.3011 - accuracy: 0.8628 - val_loss: 0.3167 - val_accuracy: 0.8720\n",
      "Epoch 3/50\n",
      "210/210 - 402s - loss: 0.2622 - accuracy: 0.8918 - val_loss: 0.2766 - val_accuracy: 0.8835\n",
      "Epoch 4/50\n",
      "210/210 - 409s - loss: 0.2462 - accuracy: 0.8927 - val_loss: 0.2534 - val_accuracy: 0.8844\n",
      "Epoch 5/50\n",
      "210/210 - 402s - loss: 0.2403 - accuracy: 0.9001 - val_loss: 0.2617 - val_accuracy: 0.8844\n",
      "Epoch 6/50\n",
      "210/210 - 403s - loss: 0.2248 - accuracy: 0.9087 - val_loss: 0.2097 - val_accuracy: 0.9188\n",
      "Epoch 7/50\n",
      "210/210 - 402s - loss: 0.2221 - accuracy: 0.9116 - val_loss: 0.2013 - val_accuracy: 0.9245\n",
      "Epoch 8/50\n",
      "210/210 - 412s - loss: 0.2016 - accuracy: 0.9161 - val_loss: 0.2103 - val_accuracy: 0.9217\n",
      "Epoch 9/50\n",
      "210/210 - 403s - loss: 0.2033 - accuracy: 0.9185 - val_loss: 0.2179 - val_accuracy: 0.9131\n",
      "Epoch 10/50\n",
      "210/210 - 402s - loss: 0.2082 - accuracy: 0.9135 - val_loss: 0.1876 - val_accuracy: 0.9198\n",
      "Epoch 11/50\n",
      "210/210 - 404s - loss: 0.1992 - accuracy: 0.9188 - val_loss: 0.2134 - val_accuracy: 0.9140\n",
      "Epoch 12/50\n",
      "210/210 - 411s - loss: 0.2065 - accuracy: 0.9159 - val_loss: 0.1979 - val_accuracy: 0.9207\n",
      "Epoch 13/50\n",
      "210/210 - 407s - loss: 0.1941 - accuracy: 0.9226 - val_loss: 0.2194 - val_accuracy: 0.9083\n",
      "Epoch 14/50\n",
      "210/210 - 402s - loss: 0.1951 - accuracy: 0.9243 - val_loss: 0.1756 - val_accuracy: 0.9265\n",
      "Epoch 15/50\n",
      "210/210 - 405s - loss: 0.1908 - accuracy: 0.9245 - val_loss: 0.1695 - val_accuracy: 0.9274\n",
      "Epoch 16/50\n",
      "210/210 - 413s - loss: 0.1876 - accuracy: 0.9243 - val_loss: 0.1818 - val_accuracy: 0.9331\n",
      "Epoch 17/50\n",
      "210/210 - 408s - loss: 0.1907 - accuracy: 0.9245 - val_loss: 0.1757 - val_accuracy: 0.9341\n",
      "Epoch 18/50\n",
      "210/210 - 401s - loss: 0.1926 - accuracy: 0.9264 - val_loss: 0.1953 - val_accuracy: 0.9083\n",
      "Epoch 19/50\n",
      "210/210 - 398s - loss: 0.1775 - accuracy: 0.9305 - val_loss: 0.1920 - val_accuracy: 0.9160\n",
      "Epoch 20/50\n",
      "210/210 - 410s - loss: 0.1786 - accuracy: 0.9329 - val_loss: 0.2034 - val_accuracy: 0.9255\n",
      "Epoch 21/50\n",
      "210/210 - 400s - loss: 0.1723 - accuracy: 0.9321 - val_loss: 0.1863 - val_accuracy: 0.9150\n",
      "Epoch 22/50\n",
      "210/210 - 399s - loss: 0.1844 - accuracy: 0.9300 - val_loss: 0.1924 - val_accuracy: 0.9274\n",
      "Epoch 23/50\n",
      "210/210 - 405s - loss: 0.1674 - accuracy: 0.9381 - val_loss: 0.1508 - val_accuracy: 0.9379\n",
      "Epoch 24/50\n",
      "210/210 - 408s - loss: 0.1625 - accuracy: 0.9357 - val_loss: 0.1789 - val_accuracy: 0.9284\n",
      "Epoch 25/50\n",
      "210/210 - 402s - loss: 0.1696 - accuracy: 0.9319 - val_loss: 0.1447 - val_accuracy: 0.9436\n",
      "Epoch 26/50\n",
      "210/210 - 423s - loss: 0.1597 - accuracy: 0.9379 - val_loss: 0.1542 - val_accuracy: 0.9360\n",
      "Epoch 27/50\n",
      "210/210 - 418s - loss: 0.1650 - accuracy: 0.9336 - val_loss: 0.1548 - val_accuracy: 0.9360\n",
      "Epoch 28/50\n",
      "210/210 - 424s - loss: 0.1553 - accuracy: 0.9357 - val_loss: 0.1717 - val_accuracy: 0.9322\n",
      "Epoch 29/50\n",
      "210/210 - 402s - loss: 0.1454 - accuracy: 0.9470 - val_loss: 0.1433 - val_accuracy: 0.9417\n",
      "Epoch 30/50\n",
      "210/210 - 397s - loss: 0.1558 - accuracy: 0.9415 - val_loss: 0.1686 - val_accuracy: 0.9265\n",
      "Epoch 31/50\n",
      "210/210 - 395s - loss: 0.1519 - accuracy: 0.9391 - val_loss: 0.1500 - val_accuracy: 0.9446\n",
      "Epoch 32/50\n",
      "210/210 - 403s - loss: 0.1591 - accuracy: 0.9367 - val_loss: 0.1482 - val_accuracy: 0.9351\n",
      "Epoch 33/50\n",
      "210/210 - 405s - loss: 0.1467 - accuracy: 0.9450 - val_loss: 0.1369 - val_accuracy: 0.9484\n",
      "Epoch 34/50\n",
      "210/210 - 394s - loss: 0.1505 - accuracy: 0.9393 - val_loss: 0.1404 - val_accuracy: 0.9475\n",
      "Epoch 35/50\n",
      "210/210 - 401s - loss: 0.1472 - accuracy: 0.9405 - val_loss: 0.1522 - val_accuracy: 0.9436\n",
      "Epoch 36/50\n",
      "210/210 - 409s - loss: 0.1414 - accuracy: 0.9446 - val_loss: 0.1319 - val_accuracy: 0.9484\n",
      "Epoch 37/50\n",
      "210/210 - 395s - loss: 0.1452 - accuracy: 0.9427 - val_loss: 0.1474 - val_accuracy: 0.9446\n",
      "Epoch 38/50\n",
      "210/210 - 400s - loss: 0.1546 - accuracy: 0.9448 - val_loss: 0.1397 - val_accuracy: 0.9379\n",
      "Epoch 39/50\n",
      "210/210 - 403s - loss: 0.1349 - accuracy: 0.9501 - val_loss: 0.1697 - val_accuracy: 0.9322\n",
      "Epoch 40/50\n",
      "210/210 - 407s - loss: 0.1436 - accuracy: 0.9431 - val_loss: 0.1192 - val_accuracy: 0.9542\n",
      "Epoch 41/50\n",
      "210/210 - 396s - loss: 0.1446 - accuracy: 0.9458 - val_loss: 0.1253 - val_accuracy: 0.9522\n",
      "Epoch 42/50\n",
      "210/210 - 398s - loss: 0.1439 - accuracy: 0.9470 - val_loss: 0.1365 - val_accuracy: 0.9408\n",
      "Epoch 43/50\n",
      "210/210 - 405s - loss: 0.1417 - accuracy: 0.9472 - val_loss: 0.1580 - val_accuracy: 0.9312\n",
      "Epoch 44/50\n",
      "210/210 - 407s - loss: 0.1431 - accuracy: 0.9465 - val_loss: 0.1259 - val_accuracy: 0.9532\n",
      "Epoch 45/50\n",
      "210/210 - 404s - loss: 0.1344 - accuracy: 0.9513 - val_loss: 0.1245 - val_accuracy: 0.9551\n",
      "Epoch 46/50\n",
      "210/210 - 398s - loss: 0.1303 - accuracy: 0.9489 - val_loss: 0.1177 - val_accuracy: 0.9666\n",
      "Epoch 47/50\n",
      "210/210 - 399s - loss: 0.1417 - accuracy: 0.9472 - val_loss: 0.1288 - val_accuracy: 0.9551\n",
      "Epoch 48/50\n",
      "210/210 - 397s - loss: 0.1302 - accuracy: 0.9493 - val_loss: 0.1269 - val_accuracy: 0.9542\n",
      "Epoch 49/50\n",
      "210/210 - 407s - loss: 0.1182 - accuracy: 0.9532 - val_loss: 0.1139 - val_accuracy: 0.9599\n",
      "Epoch 50/50\n",
      "210/210 - 395s - loss: 0.1223 - accuracy: 0.9503 - val_loss: 0.1183 - val_accuracy: 0.9542\n"
     ]
    }
   ],
   "source": [
    "history_2 = model_2.fit(x=train_batch,\n",
    "                        steps_per_epoch=len(train_batch),\n",
    "                        validation_data=valid_batch,\n",
    "                        validation_steps=len(valid_batch),\n",
    "                        epochs=50,\n",
    "                        verbose=2\n",
    "                        )"
   ]
  },
  {
   "cell_type": "code",
   "execution_count": null,
   "metadata": {
    "id": "poDhx8fbt0Xz"
   },
   "outputs": [],
   "source": [
    "#model_2 = keras.models.load_model(ROOT + '/artifacts/models/bigger_cnn_model.h5')"
   ]
  },
  {
   "cell_type": "code",
   "execution_count": 12,
   "metadata": {
    "executionInfo": {
     "elapsed": 176581,
     "status": "ok",
     "timestamp": 1601936476702,
     "user": {
      "displayName": "Alvaro Henriquez",
      "photoUrl": "",
      "userId": "02782214734520853933"
     },
     "user_tz": 240
    },
    "id": "6Yoej8mH8J2Y"
   },
   "outputs": [],
   "source": [
    "predictions_2 = model_2.predict(x=test_batch, verbose=0)"
   ]
  },
  {
   "cell_type": "code",
   "execution_count": null,
   "metadata": {
    "id": "QDQqF4XJNln0"
   },
   "outputs": [],
   "source": [
    "np.save(ROOT + '/artifacts/predictions/model_2_preds.py', predictions_2)"
   ]
  },
  {
   "cell_type": "code",
   "execution_count": null,
   "metadata": {
    "id": "k3BDpM4dNV0Z"
   },
   "outputs": [],
   "source": [
    "model_2.save(ROOT + '/artifacts/models/bigger_cnn_model.h5')"
   ]
  },
  {
   "cell_type": "code",
   "execution_count": null,
   "metadata": {
    "colab": {
     "base_uri": "https://localhost:8080/",
     "height": 33
    },
    "executionInfo": {
     "elapsed": 393,
     "status": "ok",
     "timestamp": 1601589984468,
     "user": {
      "displayName": "Alvaro Henriquez",
      "photoUrl": "",
      "userId": "02782214734520853933"
     },
     "user_tz": 240
    },
    "id": "Qy47YVz1DFX9",
    "outputId": "9fddcfb5-4018-4059-a529-d327eb480744"
   },
   "outputs": [
    {
     "data": {
      "text/plain": [
       "{'NORMAL': 0, 'PNEUMONIA': 1}"
      ]
     },
     "execution_count": 37,
     "metadata": {
      "tags": []
     },
     "output_type": "execute_result"
    }
   ],
   "source": [
    "test_batch.class_indices"
   ]
  },
  {
   "cell_type": "code",
   "execution_count": 13,
   "metadata": {
    "colab": {
     "base_uri": "https://localhost:8080/",
     "height": 361
    },
    "executionInfo": {
     "elapsed": 1150,
     "status": "ok",
     "timestamp": 1601936850419,
     "user": {
      "displayName": "Alvaro Henriquez",
      "photoUrl": "",
      "userId": "02782214734520853933"
     },
     "user_tz": 240
    },
    "id": "gg3ivknWM7r4",
    "outputId": "27cfdb61-df9a-4644-a96e-74845f585706"
   },
   "outputs": [
    {
     "name": "stdout",
     "output_type": "stream",
     "text": [
      "Confusion matrix, without normalization\n",
      "[[165  69]\n",
      " [ 12 378]]\n"
     ]
    },
    {
     "data": {
      "image/png": "[encoded data removed]",
      "text/plain": [
       "<Figure size 432x288 with 2 Axes>"
      ]
     },
     "metadata": {
      "needs_background": "light",
      "tags": []
     },
     "output_type": "display_data"
    }
   ],
   "source": [
    "cm = confusion_matrix(y_true=test_batch.classes, y_pred=np.argmax(predictions_2, axis=-1))\n",
    "cm_plot_labels = ['NORMAL', 'PNEUMONIA']\n",
    "plot_confusion_matrix(cm=cm, classes=cm_plot_labels, title='Confusion Matrix', name='bigger_cnn_model')"
   ]
  },
  {
   "cell_type": "code",
   "execution_count": null,
   "metadata": {
    "colab": {
     "base_uri": "https://localhost:8080/",
     "height": 53
    },
    "executionInfo": {
     "elapsed": 347,
     "status": "ok",
     "timestamp": 1601765811137,
     "user": {
      "displayName": "Alvaro Henriquez",
      "photoUrl": "",
      "userId": "02782214734520853933"
     },
     "user_tz": 240
    },
    "id": "9RjZ679ntnnh",
    "outputId": "d6805c8b-6154-406c-da40-7e679dd4c4af"
   },
   "outputs": [
    {
     "name": "stdout",
     "output_type": "stream",
     "text": [
      "{'loss': [0.4582984149456024, 0.2957676351070404, 0.2605555057525635, 0.2519104480743408, 0.23621688783168793, 0.24180224537849426, 0.22377650439739227, 0.22648148238658905, 0.20983430743217468, 0.2173459529876709, 0.20751188695430756, 0.2068670243024826, 0.19053716957569122, 0.19553780555725098, 0.19210490584373474, 0.193191260099411, 0.1790614277124405, 0.19293822348117828, 0.178292378783226, 0.17263570427894592, 0.17348003387451172, 0.1697971522808075, 0.1752730756998062, 0.18519486486911774, 0.16445964574813843, 0.17136149108409882, 0.16545617580413818, 0.16383063793182373, 0.15592166781425476, 0.16246069967746735, 0.1523170918226242, 0.14939743280410767, 0.15271054208278656, 0.1517094373703003, 0.14688409864902496, 0.1503312736749649, 0.14813698828220367, 0.14289164543151855, 0.14550359547138214, 0.13879257440567017, 0.1434471756219864, 0.14228741824626923, 0.145168736577034, 0.1363365203142166, 0.13333438336849213, 0.13805383443832397, 0.13901051878929138, 0.1299835443496704, 0.13998927175998688, 0.13303887844085693], 'accuracy': [0.7856630682945251, 0.8709677457809448, 0.8850657343864441, 0.8929510116577148, 0.8986857533454895, 0.9032257795333862, 0.9070490002632141, 0.9115890264511108, 0.9125447869300842, 0.9111111164093018, 0.9113500714302063, 0.914217472076416, 0.9259259104728699, 0.9189963936805725, 0.9204301238059998, 0.9261648654937744, 0.9304659366607666, 0.9240143299102783, 0.9311828017234802, 0.9335722923278809, 0.9323775172233582, 0.9326164722442627, 0.9328554272651672, 0.928076446056366, 0.9323775172233582, 0.9347670078277588, 0.9323775172233582, 0.935722827911377, 0.9366785883903503, 0.9385902285575867, 0.9424133896827698, 0.9448028802871704, 0.9400238990783691, 0.9381123185157776, 0.9455196857452393, 0.9428912997245789, 0.9436081051826477, 0.9448028802871704, 0.9474313259124756, 0.9464755058288574, 0.9469534158706665, 0.9443249702453613, 0.9419354796409607, 0.9476702213287354, 0.9507765769958496, 0.9433691501617432, 0.9464755058288574, 0.9486260414123535, 0.9452807903289795, 0.9512544870376587], 'val_loss': [0.3044160008430481, 0.3028760552406311, 0.2699718773365021, 0.26117900013923645, 0.2457396388053894, 0.2256978303194046, 0.2166219800710678, 0.20328998565673828, 0.23457814753055573, 0.25154492259025574, 0.19313907623291016, 0.21553637087345123, 0.1870923489332199, 0.1999390572309494, 0.16783879697322845, 0.19867001473903656, 0.17047324776649475, 0.21305005252361298, 0.1726907342672348, 0.1741577684879303, 0.18669280409812927, 0.24130457639694214, 0.17358343303203583, 0.1515616625547409, 0.15749095380306244, 0.16749782860279083, 0.15288513898849487, 0.15515471994876862, 0.16522742807865143, 0.16231796145439148, 0.14399710297584534, 0.20353040099143982, 0.16326023638248444, 0.17370092868804932, 0.14459346234798431, 0.13189882040023804, 0.13701605796813965, 0.1354333907365799, 0.13769984245300293, 0.12850823998451233, 0.1471496820449829, 0.14415840804576874, 0.1473124474287033, 0.13186097145080566, 0.13327188789844513, 0.11353674530982971, 0.11659521609544754, 0.13885316252708435, 0.13032403588294983, 0.1212337538599968], 'val_accuracy': [0.8834766149520874, 0.8767908215522766, 0.88634192943573, 0.8930277228355408, 0.8987583518028259, 0.9111747741699219, 0.9092645645141602, 0.9293218851089478, 0.910219669342041, 0.8911174535751343, 0.922636091709137, 0.910219669342041, 0.9283667802810669, 0.915950357913971, 0.934097409248352, 0.915950357913971, 0.9417383074760437, 0.9111747741699219, 0.934097409248352, 0.9331423044204712, 0.9302769899368286, 0.8939828276634216, 0.9302769899368286, 0.9407832026481628, 0.9407832026481628, 0.9369627237319946, 0.9407832026481628, 0.9369627237319946, 0.9312320947647095, 0.9350525140762329, 0.9407832026481628, 0.9073543548583984, 0.9379178881645203, 0.9312320947647095, 0.9407832026481628, 0.9417383074760437, 0.9522445201873779, 0.9455587267875671, 0.946513831615448, 0.9493792057037354, 0.946513831615448, 0.9417383074760437, 0.946513831615448, 0.9474689364433289, 0.9474689364433289, 0.9608405232429504, 0.9531996250152588, 0.9484240412712097, 0.9522445201873779, 0.9579751491546631]}\n"
     ]
    }
   ],
   "source": [
    "print(history_2.history)"
   ]
  },
  {
   "cell_type": "code",
   "execution_count": 14,
   "metadata": {
    "colab": {
     "base_uri": "https://localhost:8080/",
     "height": 338
    },
    "executionInfo": {
     "elapsed": 810,
     "status": "ok",
     "timestamp": 1601936868660,
     "user": {
      "displayName": "Alvaro Henriquez",
      "photoUrl": "",
      "userId": "02782214734520853933"
     },
     "user_tz": 240
    },
    "id": "2rRL1U_BNCXU",
    "outputId": "d549c8c8-eb9e-417f-c2f0-e9cc13dcacd4"
   },
   "outputs": [
    {
     "data": {
      "image/png": "[encoded data removed]",
      "text/plain": [
       "<Figure size 576x360 with 1 Axes>"
      ]
     },
     "metadata": {
      "needs_background": "light",
      "tags": []
     },
     "output_type": "display_data"
    }
   ],
   "source": [
    "\n",
    "pd.DataFrame(history_2.history).plot(figsize=(8, 5))\n",
    "plt.grid(True)\n",
    "plt.gca().set_ylim(0, 1) \n",
    "plt.xlabel('Epoch')\n",
    "plt.ylabel('Acurracy')\n",
    "plt.savefig(ROOT + '/artifacts/charts/bigger_cnn_model_av.png')\n",
    "plt.show()"
   ]
  }
 ],
 "metadata": {
  "accelerator": "GPU",
  "colab": {
   "collapsed_sections": [],
   "name": "03-Basic CNN model.ipynb",
   "provenance": [],
   "toc_visible": true
  },
  "kernelspec": {
   "display_name": "Python 3",
   "language": "python",
   "name": "python3"
  },
  "language_info": {
   "codemirror_mode": {
    "name": "ipython",
    "version": 3
   },
   "file_extension": ".py",
   "mimetype": "text/x-python",
   "name": "python",
   "nbconvert_exporter": "python",
   "pygments_lexer": "ipython3",
   "version": "3.6.9"
  },
  "toc": {
   "base_numbering": 1,
   "nav_menu": {},
   "number_sections": true,
   "sideBar": true,
   "skip_h1_title": true,
   "title_cell": "Table of Contents",
   "title_sidebar": "Contents",
   "toc_cell": false,
   "toc_position": {},
   "toc_section_display": true,
   "toc_window_display": false
  }
 },
 "nbformat": 4,
 "nbformat_minor": 1
}
