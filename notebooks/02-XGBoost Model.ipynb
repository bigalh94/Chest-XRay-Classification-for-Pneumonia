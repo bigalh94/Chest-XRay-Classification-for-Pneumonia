{
 "cells": [
  {
   "cell_type": "code",
   "execution_count": 6,
   "metadata": {},
   "outputs": [],
   "source": [
    "import sys\n",
    "sys.path.append('../src')\n",
    "import os\n",
    "from project_utilities.config import DATA_DIR_RAW\n",
    "\n",
    "import numpy as np\n",
    "import matplotlib.pyplot as plt\n",
    "%matplotlib inline\n",
    "\n",
    "# XGBoost \n",
    "import xgboost as xgb\n",
    "from xgboost import XGBClassifier\n",
    "\n",
    "# SKLEARN\n",
    "from sklearn.decomposition import IncrementalPCA\n",
    "from sklearn.metrics import classification_report, confusion_matrix, precision_score\n",
    "from sklearn.metrics import recall_score, accuracy_score, mean_squared_error\n",
    "# Model Optimizer\n",
    "from bayes_opt import BayesianOptimization\n",
    "\n",
    "# Progress Bar\n",
    "from tqdm import tqdm, tqdm_notebook"
   ]
  },
  {
   "cell_type": "code",
   "execution_count": 7,
   "metadata": {},
   "outputs": [],
   "source": [
    "os.chdir(DATA_DIR_RAW)"
   ]
  },
  {
   "cell_type": "code",
   "execution_count": 12,
   "metadata": {},
   "outputs": [
    {
     "name": "stdout",
     "output_type": "stream",
     "text": [
      "Shape for y_train: (11543,)\n",
      "Shape for X_train: (11543, 50176)\n",
      "Shape for y_val: (983,)\n",
      "Shape for X_val: (983, 50176)\n"
     ]
    }
   ],
   "source": [
    "train_data = np.load('raw/npy/train_data.npy')\n",
    "val_data = np.load('raw/npy/val_data.npy')\n",
    "\n",
    "y_train = train_data[:,-1]\n",
    "y_train.reshape(y_train.size,1)\n",
    "print(f'Shape for y_train: {y_train.shape}')\n",
    "\n",
    "X_train = train_data[:,:-1]\n",
    "print(f'Shape for X_train: {X_train.shape}')\n",
    "\n",
    "\n",
    "y_val = val_data[:,-1]\n",
    "y_val.reshape(y_val.size,1)\n",
    "print(f'Shape for y_val: {y_val.shape}')\n",
    "\n",
    "X_val = val_data[:,:-1]\n",
    "print(f'Shape for X_val: {X_val.shape}')"
   ]
  },
  {
   "cell_type": "code",
   "execution_count": 9,
   "metadata": {},
   "outputs": [
    {
     "data": {
      "application/vnd.jupyter.widget-view+json": {
       "model_id": "6f3df82766124a899612629203d87fb3",
       "version_major": 2,
       "version_minor": 0
      },
      "text/plain": [
       "HBox(children=(IntProgress(value=0, max=11), HTML(value='')))"
      ]
     },
     "metadata": {},
     "output_type": "display_data"
    },
    {
     "name": "stdout",
     "output_type": "stream",
     "text": [
      "\n"
     ]
    }
   ],
   "source": [
    "ipca = IncrementalPCA(n_components=1000)\n",
    "\n",
    "X_train_reduced = None\n",
    "first = True\n",
    "for batch in tqdm_notebook(np.array_split(X_train, X_train.shape[0]/1000)):\n",
    "    ipca.partial_fit(batch)\n",
    "    transformed_batch = ipca.transform(batch)\n",
    "    # First batch is directly assigned to reduced.\n",
    "    if first == True:\n",
    "        X_train_reduced = transformed_batch\n",
    "        first = False\n",
    "    else:\n",
    "        X_train_reduced = np.vstack((X_train_reduced, transformed_batch))"
   ]
  },
  {
   "cell_type": "code",
   "execution_count": 10,
   "metadata": {},
   "outputs": [
    {
     "name": "stdout",
     "output_type": "stream",
     "text": [
      "The reduced shape is: (11543, 1000)\n",
      "The total explained varience is: 0.9446159755175982\n"
     ]
    }
   ],
   "source": [
    "        \n",
    "# Shape of the reduced dataset\n",
    "print(f'The reduced shape is: {X_train_reduced.shape}')\n",
    "\n",
    "# Percent of varience explained by the subset of features\n",
    "print(f'The total explained varience is: {ipca.explained_variance_ratio_.sum()}')"
   ]
  },
  {
   "cell_type": "code",
   "execution_count": 13,
   "metadata": {},
   "outputs": [
    {
     "data": {
      "text/plain": [
       "(983, 1000)"
      ]
     },
     "execution_count": 13,
     "metadata": {},
     "output_type": "execute_result"
    }
   ],
   "source": [
    "X_val_reduced = ipca.transform(X_val)\n",
    "X_val_reduced.shape"
   ]
  },
  {
   "cell_type": "code",
   "execution_count": 14,
   "metadata": {},
   "outputs": [
    {
     "name": "stdout",
     "output_type": "stream",
     "text": [
      "[0]\tvalidation_0-error:0.20662\tvalidation_1-error:0.17904\n",
      "[1]\tvalidation_0-error:0.18531\tvalidation_1-error:0.15463\n",
      "[2]\tvalidation_0-error:0.17240\tvalidation_1-error:0.15158\n",
      "[3]\tvalidation_0-error:0.16053\tvalidation_1-error:0.13327\n",
      "[4]\tvalidation_0-error:0.15291\tvalidation_1-error:0.13123\n",
      "[5]\tvalidation_0-error:0.14190\tvalidation_1-error:0.12716\n",
      "[6]\tvalidation_0-error:0.13107\tvalidation_1-error:0.12411\n",
      "[7]\tvalidation_0-error:0.12077\tvalidation_1-error:0.12716\n",
      "[8]\tvalidation_0-error:0.11384\tvalidation_1-error:0.12106\n",
      "[9]\tvalidation_0-error:0.10179\tvalidation_1-error:0.10682\n",
      "[10]\tvalidation_0-error:0.09504\tvalidation_1-error:0.10682\n",
      "[11]\tvalidation_0-error:0.08707\tvalidation_1-error:0.10376\n",
      "[12]\tvalidation_0-error:0.08247\tvalidation_1-error:0.10580\n",
      "[13]\tvalidation_0-error:0.07303\tvalidation_1-error:0.10071\n",
      "[14]\tvalidation_0-error:0.06619\tvalidation_1-error:0.09868\n",
      "[15]\tvalidation_0-error:0.05978\tvalidation_1-error:0.09156\n",
      "[16]\tvalidation_0-error:0.05345\tvalidation_1-error:0.09563\n",
      "[17]\tvalidation_0-error:0.04661\tvalidation_1-error:0.09664\n",
      "[18]\tvalidation_0-error:0.04427\tvalidation_1-error:0.09054\n",
      "[19]\tvalidation_0-error:0.04037\tvalidation_1-error:0.09054\n",
      "[20]\tvalidation_0-error:0.03474\tvalidation_1-error:0.09359\n",
      "[21]\tvalidation_0-error:0.03249\tvalidation_1-error:0.08952\n",
      "[22]\tvalidation_0-error:0.03084\tvalidation_1-error:0.09563\n",
      "[23]\tvalidation_0-error:0.02677\tvalidation_1-error:0.08851\n",
      "[24]\tvalidation_0-error:0.02426\tvalidation_1-error:0.08851\n",
      "[25]\tvalidation_0-error:0.02192\tvalidation_1-error:0.08749\n",
      "[26]\tvalidation_0-error:0.02114\tvalidation_1-error:0.08545\n",
      "[27]\tvalidation_0-error:0.01880\tvalidation_1-error:0.08647\n",
      "[28]\tvalidation_0-error:0.01776\tvalidation_1-error:0.08647\n",
      "[29]\tvalidation_0-error:0.01525\tvalidation_1-error:0.08647\n",
      "[30]\tvalidation_0-error:0.01351\tvalidation_1-error:0.08342\n",
      "[31]\tvalidation_0-error:0.01239\tvalidation_1-error:0.08240\n",
      "[32]\tvalidation_0-error:0.01040\tvalidation_1-error:0.08138\n",
      "[33]\tvalidation_0-error:0.01031\tvalidation_1-error:0.08037\n",
      "[34]\tvalidation_0-error:0.00884\tvalidation_1-error:0.08037\n",
      "[35]\tvalidation_0-error:0.00832\tvalidation_1-error:0.08443\n",
      "[36]\tvalidation_0-error:0.00745\tvalidation_1-error:0.09563\n",
      "[37]\tvalidation_0-error:0.00632\tvalidation_1-error:0.08952\n",
      "[38]\tvalidation_0-error:0.00580\tvalidation_1-error:0.09156\n",
      "[39]\tvalidation_0-error:0.00433\tvalidation_1-error:0.08342\n",
      "[40]\tvalidation_0-error:0.00398\tvalidation_1-error:0.08443\n",
      "[41]\tvalidation_0-error:0.00347\tvalidation_1-error:0.08240\n",
      "[42]\tvalidation_0-error:0.00295\tvalidation_1-error:0.08851\n",
      "[43]\tvalidation_0-error:0.00312\tvalidation_1-error:0.08952\n",
      "[44]\tvalidation_0-error:0.00303\tvalidation_1-error:0.08545\n",
      "[45]\tvalidation_0-error:0.00269\tvalidation_1-error:0.08647\n",
      "[46]\tvalidation_0-error:0.00243\tvalidation_1-error:0.08342\n",
      "[47]\tvalidation_0-error:0.00251\tvalidation_1-error:0.08545\n",
      "[48]\tvalidation_0-error:0.00191\tvalidation_1-error:0.08037\n",
      "[49]\tvalidation_0-error:0.00173\tvalidation_1-error:0.08138\n",
      "[50]\tvalidation_0-error:0.00113\tvalidation_1-error:0.08138\n",
      "[51]\tvalidation_0-error:0.00095\tvalidation_1-error:0.08138\n",
      "[52]\tvalidation_0-error:0.00052\tvalidation_1-error:0.08037\n",
      "[53]\tvalidation_0-error:0.00035\tvalidation_1-error:0.08037\n",
      "[54]\tvalidation_0-error:0.00052\tvalidation_1-error:0.07833\n",
      "[55]\tvalidation_0-error:0.00043\tvalidation_1-error:0.07731\n",
      "[56]\tvalidation_0-error:0.00043\tvalidation_1-error:0.07630\n",
      "[57]\tvalidation_0-error:0.00026\tvalidation_1-error:0.07426\n",
      "[58]\tvalidation_0-error:0.00026\tvalidation_1-error:0.07426\n",
      "[59]\tvalidation_0-error:0.00026\tvalidation_1-error:0.07121\n",
      "[60]\tvalidation_0-error:0.00026\tvalidation_1-error:0.07426\n",
      "[61]\tvalidation_0-error:0.00026\tvalidation_1-error:0.07528\n",
      "[62]\tvalidation_0-error:0.00026\tvalidation_1-error:0.07426\n",
      "[63]\tvalidation_0-error:0.00026\tvalidation_1-error:0.07935\n",
      "[64]\tvalidation_0-error:0.00026\tvalidation_1-error:0.07833\n",
      "[65]\tvalidation_0-error:0.00009\tvalidation_1-error:0.07935\n",
      "[66]\tvalidation_0-error:0.00009\tvalidation_1-error:0.08342\n",
      "[67]\tvalidation_0-error:0.00009\tvalidation_1-error:0.07528\n",
      "[68]\tvalidation_0-error:0.00009\tvalidation_1-error:0.07223\n",
      "[69]\tvalidation_0-error:0.00009\tvalidation_1-error:0.07019\n",
      "[70]\tvalidation_0-error:0.00000\tvalidation_1-error:0.07121\n",
      "[71]\tvalidation_0-error:0.00000\tvalidation_1-error:0.07528\n",
      "[72]\tvalidation_0-error:0.00000\tvalidation_1-error:0.07731\n",
      "[73]\tvalidation_0-error:0.00000\tvalidation_1-error:0.07426\n",
      "[74]\tvalidation_0-error:0.00000\tvalidation_1-error:0.07426\n",
      "[75]\tvalidation_0-error:0.00000\tvalidation_1-error:0.07325\n",
      "[76]\tvalidation_0-error:0.00000\tvalidation_1-error:0.07426\n",
      "[77]\tvalidation_0-error:0.00000\tvalidation_1-error:0.07731\n",
      "[78]\tvalidation_0-error:0.00000\tvalidation_1-error:0.07528\n",
      "[79]\tvalidation_0-error:0.00000\tvalidation_1-error:0.07223\n",
      "[80]\tvalidation_0-error:0.00000\tvalidation_1-error:0.07223\n",
      "[81]\tvalidation_0-error:0.00000\tvalidation_1-error:0.07223\n",
      "[82]\tvalidation_0-error:0.00000\tvalidation_1-error:0.07325\n",
      "[83]\tvalidation_0-error:0.00000\tvalidation_1-error:0.06918\n",
      "[84]\tvalidation_0-error:0.00000\tvalidation_1-error:0.07528\n",
      "[85]\tvalidation_0-error:0.00000\tvalidation_1-error:0.07325\n",
      "[86]\tvalidation_0-error:0.00000\tvalidation_1-error:0.07223\n",
      "[87]\tvalidation_0-error:0.00000\tvalidation_1-error:0.07325\n",
      "[88]\tvalidation_0-error:0.00000\tvalidation_1-error:0.07121\n",
      "[89]\tvalidation_0-error:0.00000\tvalidation_1-error:0.07630\n",
      "[90]\tvalidation_0-error:0.00000\tvalidation_1-error:0.07630\n",
      "[91]\tvalidation_0-error:0.00000\tvalidation_1-error:0.07426\n",
      "[92]\tvalidation_0-error:0.00000\tvalidation_1-error:0.07630\n",
      "[93]\tvalidation_0-error:0.00000\tvalidation_1-error:0.07528\n",
      "[94]\tvalidation_0-error:0.00000\tvalidation_1-error:0.07325\n",
      "[95]\tvalidation_0-error:0.00000\tvalidation_1-error:0.07325\n",
      "[96]\tvalidation_0-error:0.00000\tvalidation_1-error:0.07630\n",
      "[97]\tvalidation_0-error:0.00000\tvalidation_1-error:0.07426\n",
      "[98]\tvalidation_0-error:0.00000\tvalidation_1-error:0.07731\n",
      "[99]\tvalidation_0-error:0.00000\tvalidation_1-error:0.07833\n"
     ]
    },
    {
     "data": {
      "text/plain": [
       "XGBClassifier(base_score=0.5, booster='gbtree', colsample_bylevel=1,\n",
       "              colsample_bynode=1, colsample_bytree=1, gamma=0, gpu_id=-1,\n",
       "              importance_type='gain', interaction_constraints='',\n",
       "              learning_rate=0.300000012, max_delta_step=0, max_depth=6,\n",
       "              min_child_weight=1, missing=nan, monotone_constraints='()',\n",
       "              n_estimators=100, n_jobs=0, num_parallel_tree=1,\n",
       "              objective='binary:logistic', random_state=0, reg_alpha=0,\n",
       "              reg_lambda=1, scale_pos_weight=1, subsample=1,\n",
       "              tree_method='exact', validate_parameters=1, verbosity=None)"
      ]
     },
     "execution_count": 14,
     "metadata": {},
     "output_type": "execute_result"
    }
   ],
   "source": [
    "xgb_model_1 = XGBClassifier()\n",
    "xgb_model_1.fit(X_train_reduced, y_train, eval_metric=['error'], eval_set=[(X_train_reduced, y_train),(X_val_reduced, y_val)])"
   ]
  },
  {
   "cell_type": "code",
   "execution_count": 15,
   "metadata": {},
   "outputs": [
    {
     "name": "stdout",
     "output_type": "stream",
     "text": [
      "Training Set results:\n",
      "              precision    recall  f1-score   support\n",
      "\n",
      "         0.0       1.00      1.00      1.00      6312\n",
      "         1.0       1.00      1.00      1.00      5231\n",
      "\n",
      "    accuracy                           1.00     11543\n",
      "   macro avg       1.00      1.00      1.00     11543\n",
      "weighted avg       1.00      1.00      1.00     11543\n",
      "\n",
      "Validation Set results:\n",
      "              precision    recall  f1-score   support\n",
      "\n",
      "         0.0       0.77      0.94      0.84       221\n",
      "         1.0       0.98      0.92      0.95       762\n",
      "\n",
      "    accuracy                           0.92       983\n",
      "   macro avg       0.87      0.93      0.90       983\n",
      "weighted avg       0.93      0.92      0.92       983\n",
      "\n"
     ]
    }
   ],
   "source": [
    "#Predicting for training set\n",
    "print('Training Set results:')\n",
    "train_p1 = xgb_model_1.predict(X_train_reduced)\n",
    "\n",
    "#Printing the classification report\n",
    "print(classification_report(train_p1, y_train))\n",
    "\n",
    "#Predicting for validation set\n",
    "print('Validation Set results:')\n",
    "train_p1 = xgb_model_1.predict(X_val_reduced)\n",
    "\n",
    "#Printing the classification report\n",
    "print(classification_report(train_p1, y_val))"
   ]
  },
  {
   "cell_type": "code",
   "execution_count": 16,
   "metadata": {},
   "outputs": [
    {
     "data": {
      "text/plain": [
       "Text(0.5, 0, 'Number of iterations')"
      ]
     },
     "execution_count": 16,
     "metadata": {},
     "output_type": "execute_result"
    },
    {
     "data": {
      "image/png": "[encoded data removed]",
      "text/plain": [
       "<Figure size 576x432 with 1 Axes>"
      ]
     },
     "metadata": {
      "needs_background": "light"
     },
     "output_type": "display_data"
    }
   ],
   "source": [
    "# Plot and display the performance evaluation\n",
    "xgb_eval = xgb_model_1.evals_result()\n",
    "eval_steps = range(len(xgb_eval['validation_0']['error']))\n",
    "\n",
    "fig, ax = plt.subplots(1, 1, sharex=True, figsize=(8, 6))\n",
    "\n",
    "ax.plot(eval_steps, [1-x for x in xgb_eval['validation_0']['error']], label='Train')\n",
    "ax.plot(eval_steps, [1-x for x in xgb_eval['validation_1']['error']], label='Test')\n",
    "ax.legend()\n",
    "ax.set_title('Accuracy')\n",
    "ax.set_xlabel('Number of iterations')"
   ]
  },
  {
   "cell_type": "code",
   "execution_count": 17,
   "metadata": {},
   "outputs": [
    {
     "name": "stderr",
     "output_type": "stream",
     "text": [
      "C:\\Users\\bigal\\Anaconda3\\envs\\learn-env\\lib\\site-packages\\xgboost\\data.py:97: UserWarning: Use subset (sliced data) of np.ndarray is not recommended because it will generate extra copies and increase memory consumption\n",
      "  \"memory consumption\")\n"
     ]
    }
   ],
   "source": [
    "#Converting the dataframe into XGBoost’s Dmatrix object\n",
    "dtrain = xgb.DMatrix(X_train_reduced, label=y_train)\n",
    "\n",
    "#Bayesian Optimization function for xgboost\n",
    "#specify the parameters you want to tune as keyword arguments\n",
    "def bo_tune_xgb(max_depth, gamma, learning_rate):\n",
    "    params = {'max_depth': int(max_depth),\n",
    "              'gamma': gamma,\n",
    "              #'n_estimators': int(n_estimators),\n",
    "              'learning_rate':learning_rate,\n",
    "              'subsample': 0.8,\n",
    "              'eta': 0.1,\n",
    "              'eval_metric': 'rmse'}\n",
    "    #Cross validating with the specified parameters in 5 folds and 70 iterations\n",
    "    cv_result = xgb.cv(params, dtrain, num_boost_round=70, nfold=5)\n",
    "    #Return the negative RMSE\n",
    "    return -1.0 * cv_result['test-rmse-mean'].iloc[-1]"
   ]
  },
  {
   "cell_type": "code",
   "execution_count": 18,
   "metadata": {},
   "outputs": [
    {
     "name": "stdout",
     "output_type": "stream",
     "text": [
      "|   iter    |  target   |   gamma   | learni... | max_depth |\n",
      "-------------------------------------------------------------\n",
      "|  1        | -0.4678   |  0.1613   |  0.7385   |  6.566    |\n",
      "|  2        | -0.4385   |  0.3813   |  0.6462   |  6.222    |\n",
      "|  3        | -0.3746   |  0.09303  |  0.03838  |  5.334    |\n",
      "|  4        | -0.5168   |  0.6686   |  0.9429   |  9.323    |\n",
      "|  5        | -0.473    |  0.8658   |  0.8267   |  8.873    |\n",
      "|  6        | -0.4017   |  0.6307   |  0.5107   |  9.48     |\n",
      "|  7        | -0.4657   |  0.3013   |  0.7733   |  5.831    |\n",
      "|  8        | -0.4173   |  0.7774   |  0.5888   |  8.364    |\n",
      "|  9        | -0.5      |  1.0      |  0.0      |  10.0     |\n",
      "|  10       | -0.5      |  0.0      |  0.0      |  9.027    |\n",
      "|  11       | -0.5      |  1.0      |  0.0      |  3.0      |\n",
      "|  12       | -0.5      |  1.0      |  0.0      |  7.211    |\n",
      "|  13       | -0.5      |  0.0      |  0.0      |  3.0      |\n",
      "=============================================================\n"
     ]
    }
   ],
   "source": [
    "#Invoking the Bayesian Optimizer with the specified parameters to tune\n",
    "xgb_bo = BayesianOptimization(bo_tune_xgb, {'max_depth': (3, 10),\n",
    "                                             'gamma': (0, 1),\n",
    "                                             'learning_rate':(0,1),\n",
    "                                             #'n_estimators':(100,120)\n",
    "                                            })\n",
    "\n",
    "#performing Bayesian optimization for 5 iterations with 8 steps of random exploration with an \n",
    "#acquisition function of expected improvement\n",
    "\n",
    "xgb_bo.maximize(n_iter=5, init_points=8, acq='ei')"
   ]
  },
  {
   "cell_type": "code",
   "execution_count": 19,
   "metadata": {},
   "outputs": [
    {
     "name": "stdout",
     "output_type": "stream",
     "text": [
      "{'gamma': 0.09303299890736783, 'learning_rate': 0.038381185810815066, 'max_depth': 5.334003733964927}\n"
     ]
    }
   ],
   "source": [
    "#Extracting the best parameters\n",
    "params = xgb_bo.max['params']\n",
    "print(params)\n",
    "\n",
    "#Converting the max_depth and n_estimator values from float to int\n",
    "params['max_depth']= int(params['max_depth'])\n",
    "#params['n_estimators']= int(params['n_estimators'])"
   ]
  },
  {
   "cell_type": "code",
   "execution_count": 20,
   "metadata": {},
   "outputs": [
    {
     "name": "stdout",
     "output_type": "stream",
     "text": [
      "              precision    recall  f1-score   support\n",
      "\n",
      "         0.0       0.91      0.88      0.90      6547\n",
      "         1.0       0.85      0.89      0.87      4996\n",
      "\n",
      "    accuracy                           0.89     11543\n",
      "   macro avg       0.88      0.89      0.88     11543\n",
      "weighted avg       0.89      0.89      0.89     11543\n",
      "\n"
     ]
    }
   ],
   "source": [
    "#Initialize an XGBClassifier with the tuned parameters and fit the training data\n",
    "from xgboost import XGBClassifier\n",
    "xgb_model_2 = XGBClassifier(**params).fit(X_train_reduced, y_train)\n",
    "\n",
    "#predicting for training set\n",
    "train_p2 = xgb_model_2.predict(X_train_reduced)\n",
    "\n",
    "#Looking at the classification report\n",
    "print(classification_report(train_p2, y_train))"
   ]
  },
  {
   "cell_type": "code",
   "execution_count": 21,
   "metadata": {},
   "outputs": [
    {
     "name": "stdout",
     "output_type": "stream",
     "text": [
      "              precision    recall  f1-score   support\n",
      "\n",
      "         0.0       0.64      0.87      0.74       197\n",
      "         1.0       0.96      0.88      0.92       786\n",
      "\n",
      "    accuracy                           0.87       983\n",
      "   macro avg       0.80      0.87      0.83       983\n",
      "weighted avg       0.90      0.87      0.88       983\n",
      "\n",
      "0.886078142597245\n"
     ]
    }
   ],
   "source": [
    "#predicting for validation set\n",
    "val_p2 = xgb_model_2.predict(X_val_reduced)\n",
    "\n",
    "#Looking at the classification report\n",
    "print(classification_report(val_p2, y_val))\n",
    "\n",
    "#Attained prediction accuracy on the training set\n",
    "cm = confusion_matrix(train_p2, y_train)\n",
    "acc = cm.diagonal().sum()/cm.sum()\n",
    "print(acc)"
   ]
  },
  {
   "cell_type": "code",
   "execution_count": 23,
   "metadata": {},
   "outputs": [
    {
     "name": "stdout",
     "output_type": "stream",
     "text": [
      "              precision    recall  f1-score   support\n",
      "\n",
      "         0.0       0.64      0.87      0.74       197\n",
      "         1.0       0.96      0.88      0.92       786\n",
      "\n",
      "    accuracy                           0.87       983\n",
      "   macro avg       0.80      0.87      0.83       983\n",
      "weighted avg       0.90      0.87      0.88       983\n",
      "\n",
      "0.886078142597245\n",
      "0.8748728382502543\n"
     ]
    },
    {
     "ename": "NameError",
     "evalue": "name 'dtest' is not defined",
     "output_type": "error",
     "traceback": [
      "\u001b[1;31m---------------------------------------------------------------------------\u001b[0m",
      "\u001b[1;31mNameError\u001b[0m                                 Traceback (most recent call last)",
      "\u001b[1;32m<ipython-input-23-efd10128efb0>\u001b[0m in \u001b[0;36m<module>\u001b[1;34m\u001b[0m\n\u001b[0;32m     15\u001b[0m \u001b[0mprint\u001b[0m\u001b[1;33m(\u001b[0m\u001b[0macc_val\u001b[0m\u001b[1;33m)\u001b[0m\u001b[1;33m\u001b[0m\u001b[1;33m\u001b[0m\u001b[0m\n\u001b[0;32m     16\u001b[0m \u001b[1;33m\u001b[0m\u001b[0m\n\u001b[1;32m---> 17\u001b[1;33m \u001b[0mpreds\u001b[0m \u001b[1;33m=\u001b[0m \u001b[0mxgb_model_2\u001b[0m\u001b[1;33m.\u001b[0m\u001b[0mpredict\u001b[0m\u001b[1;33m(\u001b[0m\u001b[0mdtest\u001b[0m\u001b[1;33m)\u001b[0m\u001b[1;33m\u001b[0m\u001b[1;33m\u001b[0m\u001b[0m\n\u001b[0m\u001b[0;32m     18\u001b[0m \u001b[0mbest_preds\u001b[0m \u001b[1;33m=\u001b[0m \u001b[0mnp\u001b[0m\u001b[1;33m.\u001b[0m\u001b[0masarray\u001b[0m\u001b[1;33m(\u001b[0m\u001b[1;33m[\u001b[0m\u001b[0mnp\u001b[0m\u001b[1;33m.\u001b[0m\u001b[0margmax\u001b[0m\u001b[1;33m(\u001b[0m\u001b[0mline\u001b[0m\u001b[1;33m)\u001b[0m \u001b[1;32mfor\u001b[0m \u001b[0mline\u001b[0m \u001b[1;32min\u001b[0m \u001b[0mpreds\u001b[0m\u001b[1;33m]\u001b[0m\u001b[1;33m)\u001b[0m\u001b[1;33m\u001b[0m\u001b[1;33m\u001b[0m\u001b[0m\n\u001b[0;32m     19\u001b[0m \u001b[1;33m\u001b[0m\u001b[0m\n",
      "\u001b[1;31mNameError\u001b[0m: name 'dtest' is not defined"
     ]
    }
   ],
   "source": [
    "#predicting for validation set\n",
    "val_p2 = xgb_model_2.predict(X_val_reduced)\n",
    "\n",
    "#Looking at the classification report\n",
    "print(classification_report(val_p2, y_val))\n",
    "\n",
    "#Attained prediction accuracy on the training set\n",
    "cm = confusion_matrix(train_p2, y_train)\n",
    "acc = cm.diagonal().sum()/cm.sum()\n",
    "print(acc)\n",
    "\n",
    "#Attained prediction accuracy on the validation set\n",
    "cm = confusion_matrix(val_p2, y_val)\n",
    "acc_val = cm.diagonal().sum()/cm.sum()\n",
    "print(acc_val)\n",
    "\n",
    "preds = xgb_model_2.predict(dtest)\n",
    "best_preds = np.asarray([np.argmax(line) for line in preds])\n",
    "\n",
    "print(\"Precision = {}\".format(precision_score(y_val, best_preds, average='macro')))\n",
    "print(\"Recall = {}\".format(recall_score(y_val, best_preds, average='macro')))\n",
    "print(\"Accuracy = {}\".format(accuracy_score(y_val, best_preds)))"
   ]
  },
  {
   "cell_type": "code",
   "execution_count": 24,
   "metadata": {},
   "outputs": [
    {
     "data": {
      "text/plain": [
       "{'objective': 'binary:logistic',\n",
       " 'base_score': 0.5,\n",
       " 'booster': 'gbtree',\n",
       " 'colsample_bylevel': 1,\n",
       " 'colsample_bynode': 1,\n",
       " 'colsample_bytree': 1,\n",
       " 'gamma': 0,\n",
       " 'gpu_id': -1,\n",
       " 'interaction_constraints': '',\n",
       " 'learning_rate': 0.300000012,\n",
       " 'max_delta_step': 0,\n",
       " 'max_depth': 6,\n",
       " 'min_child_weight': 1,\n",
       " 'monotone_constraints': '()',\n",
       " 'n_jobs': 0,\n",
       " 'num_parallel_tree': 1,\n",
       " 'random_state': 0,\n",
       " 'reg_alpha': 0,\n",
       " 'reg_lambda': 1,\n",
       " 'scale_pos_weight': 1,\n",
       " 'subsample': 1,\n",
       " 'tree_method': 'exact',\n",
       " 'validate_parameters': 1,\n",
       " 'verbosity': None}"
      ]
     },
     "execution_count": 24,
     "metadata": {},
     "output_type": "execute_result"
    }
   ],
   "source": [
    "xgb_model_1.get_xgb_params()"
   ]
  },
  {
   "cell_type": "code",
   "execution_count": null,
   "metadata": {},
   "outputs": [],
   "source": []
  }
 ],
 "metadata": {
  "kernelspec": {
   "display_name": "Python [conda env:learn-env] *",
   "language": "python",
   "name": "conda-env-learn-env-py"
  },
  "language_info": {
   "codemirror_mode": {
    "name": "ipython",
    "version": 3
   },
   "file_extension": ".py",
   "mimetype": "text/x-python",
   "name": "python",
   "nbconvert_exporter": "python",
   "pygments_lexer": "ipython3",
   "version": "3.6.9"
  },
  "toc": {
   "base_numbering": 1,
   "nav_menu": {},
   "number_sections": true,
   "sideBar": true,
   "skip_h1_title": true,
   "title_cell": "Table of Contents",
   "title_sidebar": "Contents",
   "toc_cell": false,
   "toc_position": {},
   "toc_section_display": true,
   "toc_window_display": false
  }
 },
 "nbformat": 4,
 "nbformat_minor": 2
}
