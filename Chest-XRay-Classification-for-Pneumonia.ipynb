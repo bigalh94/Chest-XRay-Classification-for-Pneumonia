{
 "cells": [
  {
   "cell_type": "markdown",
   "metadata": {},
   "source": [
    "![](sample_img/pexels-linkedin-sales-navigator-2182972.jpg)\n",
    "image optain from pexel.com\n",
    "#  Chest X-Ray Classification for Pneumonia"
   ]
  },
  {
   "cell_type": "markdown",
   "metadata": {},
   "source": [
    "## Introduction\n",
    "### The challenge\n",
    "The rise in medical imaging has had the benefit of providing early detection of desease leading to early intervention. It has also resulted in reduced use of invasive procedures. And with increase in data the burden in medical experts examining that data increases.\n",
    "<p></p>\n",
    "According to this [article](https://www.gehealthcare.com/article/beyond-imagingthe-paradox-of-ai-and-medical-imaging-innovation) hospitals are producing 50 petabytes of data per yea resultin in 90% of all healthcare data. And this [article](https://missinglink.ai/guides/deep-learning-healthcare/what-you-need-to-know-about-deep-learning-medical-imaging/) states - 'The number of medical images that emergency room radiologists have to analyze can be overwhelming, with each medical study involving up to 3,000 images taking up 250GB of data.'\n",
    "<p></p>\n",
    "Therefore, we are in an age where there has been rapid growth in medical image acquisition as well as running challenging and interesting analysis on them. In addition, the overwhelming load of data and the need for rapid analysis is a recipe for error.\n",
    "### Proposed solution\n",
    "This is where technologies such as machine learning and deep learning can help to reduce the burden on the technicians and doctors. These technologies can also be beneficial if it is demonstrated that they are able to find patterns in images that are not easily detectable through human inspection. \n",
    "<p></p>\n",
    "We propose to explore the employment of `Machine Learning` and `Deep Learning` algorithms to aid in the analysis of medical images. Specifically, this effort will focus on the analysis of chest X-ray images of patients to determine whether or not they had pneumonia.\n",
    "<p></p>\n",
    "The approach that we take is to build several models of different types and tuning which are then compared to determine the best performing model. The models are built using both the XGBoost classification algorithm and Convolutonal Neural Networks (CNN) based on the Keras / Tensorflow framework.\n",
    "<p></p>\n",
    "The models are evaluted on how acurrately they predict desease. In this case it is desired to have a high rate of `**True Positives**` and low rate of `False Negative`. This is because higher the `**False Negative**` the greater the number of deseased cases that are missed. It is preffered to misdiagnose as having desease, which would lead to furthur analysis, than missing the desease. The later could lead to a loss of valuable time in treatment.\n",
    "<p></p>\n",
    "Therefore, the metric that we use needs to consider the high cost associated with `False Negative`\n",
    "\n"
   ]
  },
  {
   "cell_type": "code",
   "execution_count": null,
   "metadata": {},
   "outputs": [],
   "source": []
  }
 ],
 "metadata": {
  "kernelspec": {
   "display_name": "Python [conda env:Anaconda3-learn-env]",
   "language": "python",
   "name": "conda-env-Anaconda3-learn-env-py"
  },
  "language_info": {
   "codemirror_mode": {
    "name": "ipython",
    "version": 3
   },
   "file_extension": ".py",
   "mimetype": "text/x-python",
   "name": "python",
   "nbconvert_exporter": "python",
   "pygments_lexer": "ipython3",
   "version": "3.6.9"
  },
  "toc": {
   "base_numbering": 1,
   "nav_menu": {},
   "number_sections": true,
   "sideBar": true,
   "skip_h1_title": true,
   "title_cell": "Table of Contents",
   "title_sidebar": "Contents",
   "toc_cell": false,
   "toc_position": {},
   "toc_section_display": true,
   "toc_window_display": false
  }
 },
 "nbformat": 4,
 "nbformat_minor": 2
}
